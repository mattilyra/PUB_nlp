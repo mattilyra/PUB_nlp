{
 "cells": [
  {
   "cell_type": "markdown",
   "metadata": {
    "slideshow": {
     "slide_type": "notes"
    }
   },
   "source": [
    "Dependencies:\n",
    "\n",
    "- numpy\n",
    "- scipy\n",
    "- nltk\n",
    "- sklearn\n",
    "- matplotlib\n",
    "- pandas\n",
    "- gensim\n",
    "- networkx\n",
    "- graphviz\n",
    "- libtool\n",
    "- spacy (optional)\n",
    "\n",
    "\n",
    "```\n",
    "python -m spacy.en.download all\n",
    "$brew install libtool\n",
    "$conda create -n PUB_NLP python=3 numpy scipy nltk sklearn matplotlib pandas gensim networkx graphviz spacy\n",
    "$source activate PUB_NLP\n",
    "```\n",
    "\n",
    "_On OsX use_ `brew` _on GNU/linux_ `apt-get` _or_ `yum` _to install_ `libtool` _if needed_"
   ]
  },
  {
   "cell_type": "code",
   "execution_count": 47,
   "metadata": {
    "collapsed": false,
    "slideshow": {
     "slide_type": "skip"
    }
   },
   "outputs": [],
   "source": [
    "%matplotlib inline"
   ]
  },
  {
   "cell_type": "markdown",
   "metadata": {
    "slideshow": {
     "slide_type": "slide"
    }
   },
   "source": [
    "# NLP and Python\n",
    "### Python Users Berlin 29.9.2015\n",
    "\n",
    "- Matti Lyra\n",
    "- @mattilyra\n",
    "- https://github.com/mattilyra/PUB_nlp"
   ]
  },
  {
   "cell_type": "markdown",
   "metadata": {
    "slideshow": {
     "slide_type": "slide"
    }
   },
   "source": [
    "# University of Sussex\n",
    "## Text Analytics Lab\n",
    "\n",
    "- 5 years old\n",
    "- 7 PhD Students\n",
    "- 4 Research Fellows\n",
    "- Active in academic research and industrial applications"
   ]
  },
  {
   "cell_type": "markdown",
   "metadata": {
    "slideshow": {
     "slide_type": "slide"
    }
   },
   "source": [
    "# Python and NLP\n",
    "\n",
    "### http://www.nltk.org/book/\n",
    "\n",
    "- `NLTK` / `spacy` / `sklearn` / `gensim`\n",
    "- An overview of NLP tools in Python\n",
    "    - strings to things (segmentation, tokenisation, text normalisation)\n",
    "    - feature frequencies (TF-IDF, smoothing)\n",
    "    - part-of-speech tagging\n",
    "    - document classification (sentiment analysis)\n",
    "    - information extraction\n",
    "    - topic modelling\n",
    "    - language models / deep learning"
   ]
  },
  {
   "cell_type": "code",
   "execution_count": 1,
   "metadata": {
    "collapsed": true,
    "slideshow": {
     "slide_type": "slide"
    }
   },
   "outputs": [],
   "source": [
    "lipsum = \"Lorem Ipsum is simply dummy text of the printing and typesetting industry. Lorem Ipsum has been the industry's standard dummy text ever since the 1500s, when an unknown printer took a galley of type and scrambled it to make a type specimen book.\""
   ]
  },
  {
   "cell_type": "code",
   "execution_count": 6,
   "metadata": {
    "collapsed": false,
    "scrolled": true,
    "slideshow": {
     "slide_type": "fragment"
    }
   },
   "outputs": [
    {
     "data": {
      "text/plain": [
       "\"Llobj Imprj fp pfjmiv arjjv qbuq lc qeb mofkqfkd xka qvmbpbqqfkd fkarpqov. Llobj Imprj exp ybbk qeb fkarpqov'p pqxkaxoa arjjv qbuq bsbo pfkzb qeb 1500p, tebk xk rkhkltk mofkqbo qllh x dxiibv lc qvmb xka pzoxjyiba fq ql jxhb x qvmb pmbzfjbk yllh.\""
      ]
     },
     "execution_count": 6,
     "metadata": {},
     "output_type": "execute_result"
    }
   ],
   "source": [
    "from string import ascii_lowercase as lc\n",
    "lfmprj = ''.join([lc[lc.index(c) - 3] if c in set(lc)\n",
    "                                      else c\n",
    "                  for c in lipsum])\n",
    "lfmprj"
   ]
  },
  {
   "cell_type": "code",
   "execution_count": 4,
   "metadata": {
    "collapsed": false,
    "slideshow": {
     "slide_type": "subslide"
    }
   },
   "outputs": [
    {
     "data": {
      "text/plain": [
       "['Llobj Imprj fp pfjmiv arjjv qbuq lc qeb mofkqfkd xka qvmbpbqqfkd fkarpqov.',\n",
       " \"Llobj Imprj exp ybbk qeb fkarpqov'p pqxkaxoa arjjv qbuq bsbo pfkzb qeb 1500p, tebk xk rkhkltk mofkqbo qllh x dxiibv lc qvmb xka pzoxjyiba fq ql jxhb x qvmb pmbzfjbk yllh.\"]"
      ]
     },
     "execution_count": 4,
     "metadata": {},
     "output_type": "execute_result"
    }
   ],
   "source": [
    "from nltk.tokenize import sent_tokenize\n",
    "\n",
    "sentences = sent_tokenize(lfmprj)\n",
    "sentences[:5]"
   ]
  },
  {
   "cell_type": "code",
   "execution_count": 1,
   "metadata": {
    "collapsed": false,
    "slideshow": {
     "slide_type": "fragment"
    }
   },
   "outputs": [
    {
     "data": {
      "text/plain": [
       "['This is a sentence.',\n",
       " 'This sentence also contains other stuff, i.e.',\n",
       " 'is not just one sentence but many.']"
      ]
     },
     "execution_count": 1,
     "metadata": {},
     "output_type": "execute_result"
    }
   ],
   "source": [
    "from nltk.tokenize import sent_tokenize\n",
    "\n",
    "# abbreviations are a bit of an issue though\n",
    "sentences = sent_tokenize('This is a sentence. This sentence also contains other stuff, i.e. is not just one sentence but many.')\n",
    "sentences[:5]"
   ]
  },
  {
   "cell_type": "code",
   "execution_count": 5,
   "metadata": {
    "collapsed": false,
    "slideshow": {
     "slide_type": "subslide"
    }
   },
   "outputs": [
    {
     "data": {
      "text/plain": [
       "['Llobj',\n",
       " 'Imprj',\n",
       " 'fp',\n",
       " 'pfjmiv',\n",
       " 'arjjv',\n",
       " 'qbuq',\n",
       " 'lc',\n",
       " 'qeb',\n",
       " 'mofkqfkd',\n",
       " 'xka',\n",
       " 'qvmbpbqqfkd',\n",
       " 'fkarpqov',\n",
       " '.',\n",
       " 'Llobj',\n",
       " 'Imprj']"
      ]
     },
     "execution_count": 5,
     "metadata": {},
     "output_type": "execute_result"
    }
   ],
   "source": [
    "from nltk.tokenize import word_tokenize\n",
    "\n",
    "words = word_tokenize(lfmprj)\n",
    "words[:15]"
   ]
  },
  {
   "cell_type": "code",
   "execution_count": 10,
   "metadata": {
    "collapsed": false,
    "slideshow": {
     "slide_type": "subslide"
    }
   },
   "outputs": [
    {
     "data": {
      "text/plain": [
       "['neg/cv000_29416.txt',\n",
       " 'neg/cv001_19502.txt',\n",
       " 'neg/cv002_17424.txt',\n",
       " 'neg/cv003_12683.txt',\n",
       " 'neg/cv004_12641.txt',\n",
       " 'neg/cv005_29357.txt',\n",
       " 'neg/cv006_17022.txt',\n",
       " 'neg/cv007_4992.txt',\n",
       " 'neg/cv008_29326.txt',\n",
       " 'neg/cv009_29417.txt']"
      ]
     },
     "execution_count": 10,
     "metadata": {},
     "output_type": "execute_result"
    }
   ],
   "source": [
    "# use nltk.download() to download corpora\n",
    "\n",
    "from nltk.corpus import movie_reviews\n",
    "\n",
    "movie_reviews.fileids()[:10]"
   ]
  },
  {
   "cell_type": "code",
   "execution_count": 11,
   "metadata": {
    "collapsed": false,
    "slideshow": {
     "slide_type": "slide"
    }
   },
   "outputs": [
    {
     "name": "stdout",
     "output_type": "stream",
     "text": [
      "that's exactly how long the movie felt to me . \n",
      "there weren't even nine laughs in nine months . \n",
      "it's a terrible mess of a movie starring a terrible mess of a man , mr . hugh grant , a huge dork . \n",
      "it's not the whole oral-sex/prostitution thing ( referring to grant , not me ) that bugs me , it's the fact that grant is annoying . \n",
      "not just adam sandler-annoying , we're talking jim carrey-annoying . \n",
      "since when do eye flutters and nervous smiles pass for acting ? \n",
      "but , on the other hand , since w\n"
     ]
    }
   ],
   "source": [
    "print(movie_reviews.raw('neg/cv007_4992.txt')[:500])"
   ]
  },
  {
   "cell_type": "markdown",
   "metadata": {
    "slideshow": {
     "slide_type": "notes"
    }
   },
   "source": [
    "- everything is already lowercase"
   ]
  },
  {
   "cell_type": "code",
   "execution_count": 12,
   "metadata": {
    "collapsed": false,
    "scrolled": true,
    "slideshow": {
     "slide_type": "subslide"
    }
   },
   "outputs": [
    {
     "data": {
      "text/plain": [
       "[\"that's exactly how long the movie felt to me .\",\n",
       " \"there weren't even nine laughs in nine months .\",\n",
       " \"it's a terrible mess of a movie starring a terrible mess of a man , mr .\",\n",
       " 'hugh grant , a huge dork .',\n",
       " \"it's not the whole oral-sex/prostitution thing ( referring to grant , not me ) that bugs me , it's the fact that grant is annoying .\"]"
      ]
     },
     "execution_count": 12,
     "metadata": {},
     "output_type": "execute_result"
    }
   ],
   "source": [
    "review = movie_reviews.raw('neg/cv007_4992.txt')\n",
    "sentences = sent_tokenize(review)\n",
    "sentences[:5]"
   ]
  },
  {
   "cell_type": "code",
   "execution_count": 13,
   "metadata": {
    "collapsed": false,
    "scrolled": true,
    "slideshow": {
     "slide_type": "subslide"
    }
   },
   "outputs": [
    {
     "data": {
      "text/plain": [
       "[['that',\n",
       "  \"'s\",\n",
       "  'exactly',\n",
       "  'how',\n",
       "  'long',\n",
       "  'the',\n",
       "  'movie',\n",
       "  'felt',\n",
       "  'to',\n",
       "  'me',\n",
       "  '.']]"
      ]
     },
     "execution_count": 13,
     "metadata": {},
     "output_type": "execute_result"
    }
   ],
   "source": [
    "from nltk.tokenize import word_tokenize\n",
    "review_words = [word_tokenize(s) for s in sentences]\n",
    "review_words[:1] # list of lists of strings"
   ]
  },
  {
   "cell_type": "code",
   "execution_count": 14,
   "metadata": {
    "collapsed": false,
    "slideshow": {
     "slide_type": "fragment"
    }
   },
   "outputs": [
    {
     "data": {
      "text/plain": [
       "['that', \"'\", 's', 'exactly', 'how', 'long', 'the', 'movie', 'felt', 'to']"
      ]
     },
     "execution_count": 14,
     "metadata": {},
     "output_type": "execute_result"
    }
   ],
   "source": [
    "review_words = movie_reviews.words('neg/cv007_4992.txt')\n",
    "review_words[:10] # list of strings"
   ]
  },
  {
   "cell_type": "code",
   "execution_count": 20,
   "metadata": {
    "collapsed": false,
    "slideshow": {
     "slide_type": "slide"
    }
   },
   "outputs": [
    {
     "name": "stdout",
     "output_type": "stream",
     "text": [
      "special effects; new york; star wars; high school; science fiction;\n",
      "even though; hong kong; star trek; pulp fiction; phantom menace\n"
     ]
    }
   ],
   "source": [
    "all_reviews = Text(movie_reviews.words()) # Text object does all kinds of wonderful analysis on the text\n",
    "all_reviews.collocations(num=10)"
   ]
  },
  {
   "cell_type": "code",
   "execution_count": 106,
   "metadata": {
    "collapsed": false,
    "slideshow": {
     "slide_type": "fragment"
    }
   },
   "outputs": [
    {
     "name": "stdout",
     "output_type": "stream",
     "text": [
      "nine months; nervous smiles; robin williams; ten year; terrible mess;\n",
      "year olds; annoying friend; hugh grant\n"
     ]
    }
   ],
   "source": [
    "review.collocations() # words that commonly appear together"
   ]
  },
  {
   "cell_type": "code",
   "execution_count": 209,
   "metadata": {
    "collapsed": false,
    "slideshow": {
     "slide_type": "subslide"
    }
   },
   "outputs": [
    {
     "name": "stdout",
     "output_type": "stream",
     "text": [
      "the_takes of_. the_by a_\" s_and the_just stupid_, the_they the_)\n",
      "this_that great_, the_( the_; the_centers the_does the_or the_begins\n",
      "a_are the_proceeds the_turns\n"
     ]
    }
   ],
   "source": [
    "all_reviews.common_contexts(['movie', 'plot']) # contexts in which any of the words can appear in"
   ]
  },
  {
   "cell_type": "code",
   "execution_count": 208,
   "metadata": {
    "collapsed": false,
    "scrolled": false,
    "slideshow": {
     "slide_type": "fragment"
    }
   },
   "outputs": [
    {
     "data": {
      "text/plain": [
       "[(',', 77717),\n",
       " ('the', 76529),\n",
       " ('.', 65876),\n",
       " ('a', 38106),\n",
       " ('and', 35576),\n",
       " ('of', 34123),\n",
       " ('to', 31937),\n",
       " (\"'\", 30585),\n",
       " ('is', 25195),\n",
       " ('in', 21822)]"
      ]
     },
     "execution_count": 208,
     "metadata": {},
     "output_type": "execute_result"
    }
   ],
   "source": [
    "from nltk.probability import FreqDist\n",
    "fdist = FreqDist(w for w in movie_reviews.words())\n",
    "fdist.most_common(n=10)"
   ]
  },
  {
   "cell_type": "code",
   "execution_count": 109,
   "metadata": {
    "collapsed": false,
    "scrolled": true,
    "slideshow": {
     "slide_type": "subslide"
    }
   },
   "outputs": [
    {
     "data": {
      "image/png": "[encoded data removed]",
      "text/plain": [
       "<matplotlib.figure.Figure at 0x16cd55208>"
      ]
     },
     "metadata": {},
     "output_type": "display_data"
    }
   ],
   "source": [
    "import seaborn as sns\n",
    "\n",
    "# plot the number of types (word identities) that have a particular frequency in the corpus\n",
    "fdist = FreqDist(w for w in movie_reviews.words())\n",
    "xs = [i for i in range(1000) if fdist.Nr(i) > 0]\n",
    "ys = [fdist.Nr(i) for i in xs]\n",
    "sns.plt.loglog(xs, ys);\n",
    "sns.plt.xlabel('Frequency');\n",
    "sns.plt.ylabel('Number of Types');"
   ]
  },
  {
   "cell_type": "markdown",
   "metadata": {
    "slideshow": {
     "slide_type": "notes"
    }
   },
   "source": [
    "- as the size of the corpus approaches infinity, the number of tokens that have appeared once approaches half the vocabulary."
   ]
  },
  {
   "cell_type": "markdown",
   "metadata": {
    "slideshow": {
     "slide_type": "slide"
    }
   },
   "source": [
    "# Sentiment Classification\n",
    "\n",
    "## Classify movie reviews into positive / negative"
   ]
  },
  {
   "cell_type": "code",
   "execution_count": 22,
   "metadata": {
    "collapsed": false,
    "slideshow": {
     "slide_type": "fragment"
    }
   },
   "outputs": [
    {
     "data": {
      "text/plain": [
       "['neg', 'pos']"
      ]
     },
     "execution_count": 22,
     "metadata": {},
     "output_type": "execute_result"
    }
   ],
   "source": [
    "movie_reviews.categories()"
   ]
  },
  {
   "cell_type": "markdown",
   "metadata": {
    "slideshow": {
     "slide_type": "fragment"
    }
   },
   "source": [
    "### Naive Bayes\n",
    "\n",
    "$$P(C=\\mbox{'pos'}\\,|\\, \\vec{x}) = P(C=\\mbox{'pos'}) \\prod_{i=1}^n P(x_i\\,|\\,C=\\mbox{'pos'})$$"
   ]
  },
  {
   "cell_type": "markdown",
   "metadata": {
    "slideshow": {
     "slide_type": "notes"
    }
   },
   "source": [
    "- multiplying lost of probabilities together (underflow)\n",
    "- more feeatures means smaller numbers"
   ]
  },
  {
   "cell_type": "markdown",
   "metadata": {
    "slideshow": {
     "slide_type": "subslide"
    }
   },
   "source": [
    "<table>\n",
    "<tr><th>documents</th><th colspan=7><center>features</center></th></tr>\n",
    "<tr><td></td> <td>,</td><td>the</td><td>.</td><td>a</td><td>and</td><td>of</td><td>to</td></tr>\n",
    "<tr><td>0</td> <td>0</td><td>0</td><td>2</td><td>1</td><td>0</td><td>0</td><td>1</td></tr>\n",
    "<tr><td>1</td> <td>1</td><td>0</td><td>1</td><td>0</td><td>1</td><td>0</td><td>0</td></tr>\n",
    "<tr><td>2</td> <td>0</td><td>5</td><td>0</td><td>3</td><td>1</td><td>0</td><td>0</td></tr>\n",
    "</table>"
   ]
  },
  {
   "cell_type": "markdown",
   "metadata": {
    "slideshow": {
     "slide_type": "subslide"
    }
   },
   "source": [
    "<table>\n",
    "<tr><th>documents</th><th colspan=8><center>features</center></th></tr>\n",
    "<tr><td></td> <td>0</td><td>1</td><td>2</td><td>3</td><td>4</td><td>5</td><td>6</td><td>...</td></tr>\n",
    "<tr><td>0</td> <td>0</td><td>0</td><td>2</td><td>1</td><td>0</td><td>0</td><td>1</td><td>...</td></tr>\n",
    "<tr><td>1</td> <td>1</td><td>0</td><td>1</td><td>0</td><td>1</td><td>0</td><td>0</td><td>...</td></tr>\n",
    "<tr><td>2</td> <td>0</td><td>5</td><td>0</td><td>3</td><td>1</td><td>0</td><td>0</td><td>...</td></tr>\n",
    "</table>"
   ]
  },
  {
   "cell_type": "code",
   "execution_count": 176,
   "metadata": {
    "collapsed": false,
    "slideshow": {
     "slide_type": "subslide"
    }
   },
   "outputs": [],
   "source": [
    "import random\n",
    "\n",
    "fileids = movie_reviews.fileids()\n",
    "random.shuffle(fileids)\n",
    "trn_fileids = [(fid, fid[:3]) for fid in fileids[100:]]\n",
    "tst_fileids = [(fid, fid[:3]) for fid in fileids[:100]]\n",
    "\n",
    "# turn review into bag of words for Naive Bayes\n",
    "def review_features(fileid):\n",
    "    words = [w for w in movie_reviews.words(fileid)]\n",
    "    document_features = {w: 1 for w in words}\n",
    "    return document_features"
   ]
  },
  {
   "cell_type": "code",
   "execution_count": 177,
   "metadata": {
    "collapsed": true,
    "slideshow": {
     "slide_type": "subslide"
    }
   },
   "outputs": [],
   "source": [
    "from nltk.classify import NaiveBayesClassifier as NB\n",
    "nb = NB.train((review_features(fileid), c)\n",
    "              for fileid, c in trn_fileids)"
   ]
  },
  {
   "cell_type": "code",
   "execution_count": 178,
   "metadata": {
    "collapsed": false,
    "slideshow": {
     "slide_type": "fragment"
    }
   },
   "outputs": [
    {
     "data": {
      "text/plain": [
       "0.74"
      ]
     },
     "execution_count": 178,
     "metadata": {},
     "output_type": "execute_result"
    }
   ],
   "source": [
    "from nltk.classify import accuracy\n",
    "accuracy(nb, [(review_features(fileid), c)\n",
    "              for fileid, c in tst_fileids])"
   ]
  },
  {
   "cell_type": "code",
   "execution_count": 179,
   "metadata": {
    "collapsed": false,
    "scrolled": true,
    "slideshow": {
     "slide_type": "fragment"
    }
   },
   "outputs": [
    {
     "name": "stdout",
     "output_type": "stream",
     "text": [
      "Most Informative Features\n",
      "                  avoids = 1                 pos : neg    =     12.8 : 1.0\n",
      "              astounding = 1                 pos : neg    =     12.2 : 1.0\n",
      "               atrocious = 1                 neg : pos    =     11.8 : 1.0\n",
      "             outstanding = 1                 pos : neg    =     11.2 : 1.0\n",
      "                  turkey = 1                 neg : pos    =     11.2 : 1.0\n",
      "               ludicrous = 1                 neg : pos    =     10.9 : 1.0\n",
      "             fascination = 1                 pos : neg    =     10.8 : 1.0\n",
      "               insulting = 1                 neg : pos    =     10.8 : 1.0\n",
      "                   sucks = 1                 neg : pos    =     10.8 : 1.0\n",
      "                  hudson = 1                 neg : pos    =     10.5 : 1.0\n"
     ]
    }
   ],
   "source": [
    "nb.show_most_informative_features(10)"
   ]
  },
  {
   "cell_type": "code",
   "execution_count": 180,
   "metadata": {
    "collapsed": false,
    "slideshow": {
     "slide_type": "subslide"
    }
   },
   "outputs": [
    {
     "data": {
      "text/plain": [
       "0.85"
      ]
     },
     "execution_count": 180,
     "metadata": {},
     "output_type": "execute_result"
    }
   ],
   "source": [
    "import sklearn\n",
    "from sklearn import pipeline\n",
    "from sklearn import naive_bayes\n",
    "from nltk.classify.scikitlearn import SklearnClassifier\n",
    "\n",
    "pipeline = sklearn.pipeline.Pipeline([\n",
    "        ('clf', sklearn.naive_bayes.MultinomialNB())])\n",
    "sklearn_mnb = SklearnClassifier(pipeline)\n",
    "sklearn_mnb.train((review_features(fileid), c)\n",
    "                   for fileid, c in trn_fileids)\n",
    "accuracy(sklearn_mnb, [(review_features(fileid), c)\n",
    "                        for fileid, c in tst_fileids])"
   ]
  },
  {
   "cell_type": "code",
   "execution_count": 181,
   "metadata": {
    "collapsed": true,
    "slideshow": {
     "slide_type": "subslide"
    }
   },
   "outputs": [],
   "source": [
    "from nltk.corpus import stopwords\n",
    "\n",
    "stopwords_english = set(stopwords.words('english'))\n",
    "\n",
    "def keep_feature(w):\n",
    "    keep = w not in stopwords_english\n",
    "    keep = keep and w.isalpha()\n",
    "    return keep\n",
    "\n",
    "def review_features(fileid):\n",
    "    words = [w for w in movie_reviews.words(fileid)\n",
    "             if keep_feature(w)]\n",
    "    document_features = {w: 1 for w in words}\n",
    "    return document_features"
   ]
  },
  {
   "cell_type": "code",
   "execution_count": 182,
   "metadata": {
    "collapsed": false,
    "slideshow": {
     "slide_type": "subslide"
    }
   },
   "outputs": [
    {
     "data": {
      "text/plain": [
       "0.71"
      ]
     },
     "execution_count": 182,
     "metadata": {},
     "output_type": "execute_result"
    }
   ],
   "source": [
    "nb = NB.train((review_features(fileid), c)\n",
    "              for fileid, c in trn_fileids)\n",
    "accuracy(nb, [(review_features(fileid), c)\n",
    "              for fileid, c in tst_fileids])"
   ]
  },
  {
   "cell_type": "code",
   "execution_count": 183,
   "metadata": {
    "collapsed": false,
    "slideshow": {
     "slide_type": "fragment"
    }
   },
   "outputs": [
    {
     "data": {
      "text/plain": [
       "0.86"
      ]
     },
     "execution_count": 183,
     "metadata": {},
     "output_type": "execute_result"
    }
   ],
   "source": [
    "sklearn_mnb = SklearnClassifier(pipeline)\n",
    "sklearn_mnb.train((review_features(fileid), c)\n",
    "                   for fileid, c in trn_fileids)\n",
    "accuracy(sklearn_mnb, [(review_features(fileid), c)\n",
    "                       for fileid, c in tst_fileids])"
   ]
  },
  {
   "cell_type": "code",
   "execution_count": 184,
   "metadata": {
    "collapsed": true,
    "slideshow": {
     "slide_type": "skip"
    }
   },
   "outputs": [],
   "source": [
    "from nltk.corpus import stopwords\n",
    "from nltk.stem import WordNetLemmatizer\n",
    "\n",
    "lmtz = WordNetLemmatizer().lemmatize\n",
    "stopwords_english = set(stopwords.words('english'))\n",
    "\n",
    "def keep_feature(w):\n",
    "    keep = w not in stopwords_english\n",
    "    keep = keep and w.isalpha()\n",
    "    return keep\n",
    "\n",
    "def review_features(fileid):\n",
    "    words = [w for w in movie_reviews.words(fileid)\n",
    "             if keep_feature(w)]\n",
    "    document_features = {lmtz(w): 1 for w in words}\n",
    "    return document_features"
   ]
  },
  {
   "cell_type": "code",
   "execution_count": 185,
   "metadata": {
    "collapsed": false,
    "slideshow": {
     "slide_type": "skip"
    }
   },
   "outputs": [
    {
     "data": {
      "text/plain": [
       "('institution', 'be')"
      ]
     },
     "execution_count": 185,
     "metadata": {},
     "output_type": "execute_result"
    }
   ],
   "source": [
    "lmtz('institutions'), lmtz('was', pos='v')"
   ]
  },
  {
   "cell_type": "code",
   "execution_count": 186,
   "metadata": {
    "collapsed": false,
    "slideshow": {
     "slide_type": "skip"
    }
   },
   "outputs": [
    {
     "data": {
      "text/plain": [
       "0.68"
      ]
     },
     "execution_count": 186,
     "metadata": {},
     "output_type": "execute_result"
    }
   ],
   "source": [
    "nb = NB.train((review_features(fileid), c)\n",
    "              for fileid, c in trn_fileids)\n",
    "accuracy(nb, [(review_features(fileid), c)\n",
    "              for fileid, c in tst_fileids])"
   ]
  },
  {
   "cell_type": "code",
   "execution_count": 187,
   "metadata": {
    "collapsed": false,
    "slideshow": {
     "slide_type": "skip"
    }
   },
   "outputs": [
    {
     "data": {
      "text/plain": [
       "0.86"
      ]
     },
     "execution_count": 187,
     "metadata": {},
     "output_type": "execute_result"
    }
   ],
   "source": [
    "sklearn_mnb = SklearnClassifier(pipeline)\n",
    "sklearn_mnb.train((review_features(fileid), c)\n",
    "                  for fileid, c in trn_fileids)\n",
    "accuracy(sklearn_mnb, [(review_features(fileid), c)\n",
    "                       for fileid, c in tst_fileids])"
   ]
  },
  {
   "cell_type": "code",
   "execution_count": 190,
   "metadata": {
    "collapsed": false,
    "slideshow": {
     "slide_type": "skip"
    }
   },
   "outputs": [
    {
     "data": {
      "text/plain": [
       "0.86"
      ]
     },
     "execution_count": 190,
     "metadata": {},
     "output_type": "execute_result"
    }
   ],
   "source": [
    "from sklearn.feature_extraction.text import TfidfTransformer\n",
    "from nltk import probability\n",
    "\n",
    "def review_features(fileid):\n",
    "    words = [w for w in movie_reviews.words(fileid)\n",
    "             if keep_feature(w)]\n",
    "    fd = probability.FreqDist(words)\n",
    "    document_features = {lmtz(w): fd[w] for w in words}\n",
    "    return document_features\n",
    "\n",
    "pipeline = sklearn.pipeline.Pipeline([\n",
    "        ('tfidf', TfidfTransformer(norm='l2')),\n",
    "        ('clf', sklearn.naive_bayes.MultinomialNB())])\n",
    "sklearn_mnb = SklearnClassifier(pipeline)\n",
    "sklearn_mnb.train((review_features(fileid), c)\n",
    "                  for fileid, c in trn_fileids)\n",
    "accuracy(sklearn_mnb, [(review_features(fileid), c)\n",
    "                       for fileid, c in tst_fileids])"
   ]
  },
  {
   "cell_type": "markdown",
   "metadata": {
    "slideshow": {
     "slide_type": "subslide"
    }
   },
   "source": [
    "# Feature Values: boolean, raw frequency, TFIDF"
   ]
  },
  {
   "cell_type": "markdown",
   "metadata": {
    "slideshow": {
     "slide_type": "fragment"
    }
   },
   "source": [
    "$$tfidf(t, d, D) = tf(t,d) \\times idf(t, D) $$"
   ]
  },
  {
   "cell_type": "markdown",
   "metadata": {
    "slideshow": {
     "slide_type": "fragment"
    }
   },
   "source": [
    "$$idf(t, D) = \\log{\\frac{N}{|\\{d \\in D : t \\in d\\}|}}$$"
   ]
  },
  {
   "cell_type": "code",
   "execution_count": 191,
   "metadata": {
    "collapsed": false,
    "slideshow": {
     "slide_type": "subslide"
    }
   },
   "outputs": [
    {
     "data": {
      "image/png": "[encoded data removed]",
      "text/plain": [
       "<matplotlib.figure.Figure at 0x1198bab38>"
      ]
     },
     "metadata": {},
     "output_type": "display_data"
    }
   ],
   "source": [
    "import numpy as np\n",
    "\n",
    "x = np.linspace(1, 10, 25)\n",
    "y = [np.math.log(y) for y in np.linspace(1, 10, 25)]\n",
    "sns.plt.plot(x, y);\n",
    "sns.plt.ylabel('log idf');\n",
    "sns.plt.xlabel('idf');"
   ]
  },
  {
   "cell_type": "code",
   "execution_count": 194,
   "metadata": {
    "collapsed": false,
    "slideshow": {
     "slide_type": "subslide"
    }
   },
   "outputs": [
    {
     "data": {
      "text/plain": [
       "0.9"
      ]
     },
     "execution_count": 194,
     "metadata": {},
     "output_type": "execute_result"
    }
   ],
   "source": [
    "pipeline = sklearn.pipeline.Pipeline([\n",
    "            ('tfidf', TfidfTransformer(norm='l2')),\n",
    "            ('clf', sklearn.svm.LinearSVC())])\n",
    "sklearn_mnb = SklearnClassifier(pipeline)\n",
    "sklearn_mnb.train((review_features(fileid), c)\n",
    "                      for fileid, c in trn_fileids)\n",
    "accuracy(sklearn_mnb, [(review_features(fileid), c)\n",
    "                        for fileid, c in tst_fileids])"
   ]
  },
  {
   "cell_type": "code",
   "execution_count": 198,
   "metadata": {
    "collapsed": false,
    "slideshow": {
     "slide_type": "subslide"
    }
   },
   "outputs": [
    {
     "data": {
      "text/plain": [
       "0.67"
      ]
     },
     "execution_count": 198,
     "metadata": {},
     "output_type": "execute_result"
    }
   ],
   "source": [
    "from sklearn import tree\n",
    "pipeline = sklearn.pipeline.Pipeline([\n",
    "                ('tfidf', TfidfTransformer(norm='l2')),\n",
    "                ('clf', tree.DecisionTreeClassifier())])\n",
    "sklearn_mnb = SklearnClassifier(pipeline)\n",
    "sklearn_mnb.train((review_features(fileid), c)\n",
    "                  for fileid, c in trn_fileids)\n",
    "accuracy(sklearn_mnb, [(review_features(fileid), c)\n",
    "                        for fileid, c in tst_fileids])"
   ]
  },
  {
   "cell_type": "markdown",
   "metadata": {
    "slideshow": {
     "slide_type": "subslide"
    }
   },
   "source": [
    "- smoothing (add one, Good Turing, Kneser Ney)\n",
    "- grammatical features\n",
    "- distributional features\n",
    "\n",
    "-----\n",
    "\n",
    "- **Linear kernel SVM (L1-regularised)** `sklearn.svm.LinearSVC`, `sklearn.linear_model.SGDClassifier`\n",
    "- **lowercase features** `sklearn.feature_extraction.text.CountVectorizer`\n",
    "- **tfidf feature values** `sklearn.feature_extraction.text.TfidfTransformer`"
   ]
  },
  {
   "cell_type": "markdown",
   "metadata": {
    "slideshow": {
     "slide_type": "slide"
    }
   },
   "source": [
    "# POS Tagging\n",
    "\n",
    "### Assign part-of-speech tags (`NN`, `NNP`, `NNS`, `JJ`, `VB`) to words. Default `nltk.tag.pos_tag` works pretty well (MaxEnt Tagger), but others are also available:\n",
    "\n",
    "- `nltk.tag.DefaultTagger(NN)`\n",
    "- `nltk.tag.UnigramTagger()`\n",
    "    - unigrams + backoff\n",
    "- `nltk.tag.HiddenMarkovModelTagger`\n",
    "- need annotated corpora (PennTreebank)"
   ]
  },
  {
   "cell_type": "code",
   "execution_count": 219,
   "metadata": {
    "collapsed": false,
    "scrolled": true,
    "slideshow": {
     "slide_type": "fragment"
    }
   },
   "outputs": [
    {
     "data": {
      "text/plain": [
       "[('this', 'DT'),\n",
       " ('talk', 'NN'),\n",
       " ('is', 'VBZ'),\n",
       " ('pretty', 'RB'),\n",
       " ('interesting', 'JJ')]"
      ]
     },
     "execution_count": 219,
     "metadata": {},
     "output_type": "execute_result"
    }
   ],
   "source": [
    "# http://www.ling.upenn.edu/courses/Fall_2003/ling001/penn_treebank_pos.html\n",
    "from nltk import pos_tag\n",
    "pos_tag(\"this talk is pretty interesting\".split())"
   ]
  },
  {
   "cell_type": "code",
   "execution_count": 5,
   "metadata": {
    "collapsed": true,
    "slideshow": {
     "slide_type": "subslide"
    }
   },
   "outputs": [],
   "source": [
    "from spacy.en import English\n",
    "spc = English()\n",
    "parsed_sent = spc(\"this talk is pretty interesting\")"
   ]
  },
  {
   "cell_type": "code",
   "execution_count": 6,
   "metadata": {
    "collapsed": false,
    "slideshow": {
     "slide_type": "fragment"
    }
   },
   "outputs": [
    {
     "name": "stdout",
     "output_type": "stream",
     "text": [
      "ADJ 1 this\n",
      "NOUN 8 talk\n",
      "VERB 16 is\n",
      "ADV 3 pretty\n",
      "ADJ 1 interesting\n"
     ]
    }
   ],
   "source": [
    "for i, token in enumerate(parsed_sent):\n",
    "    print(token.pos_, token.pos, token.orth_)"
   ]
  },
  {
   "cell_type": "markdown",
   "metadata": {
    "slideshow": {
     "slide_type": "slide"
    }
   },
   "source": [
    "# Information Extraction\n",
    "\n",
    "## Named Entity Recognition\n",
    "\n",
    "### Named entities are bits of a sentence that correspond to some real world thing\n",
    "\n",
    "- Organisation\n",
    "- Geo Political Entity\n",
    "- Time\n",
    "- Person\n",
    "- Location"
   ]
  },
  {
   "cell_type": "code",
   "execution_count": 118,
   "metadata": {
    "collapsed": true,
    "slideshow": {
     "slide_type": "subslide"
    }
   },
   "outputs": [],
   "source": [
    "from spacy.en import English\n",
    "spc = English()"
   ]
  },
  {
   "cell_type": "code",
   "execution_count": 116,
   "metadata": {
    "collapsed": true,
    "slideshow": {
     "slide_type": "fragment"
    }
   },
   "outputs": [],
   "source": [
    "parsed = spc(\"Bill Gates is not the head of Microsoft (MSFT), valued at $234M.\")"
   ]
  },
  {
   "cell_type": "code",
   "execution_count": 117,
   "metadata": {
    "collapsed": false,
    "scrolled": true,
    "slideshow": {
     "slide_type": "subslide"
    }
   },
   "outputs": [
    {
     "data": {
      "text/plain": [
       "[('Bill', 'NOUN', 'PERSON', 'compound'),\n",
       " ('Gates', 'NOUN', '', 'nsubj'),\n",
       " ('is', 'VERB', '', 'ROOT'),\n",
       " ('not', 'ADV', '', 'neg'),\n",
       " ('the', 'ADJ', '', 'det'),\n",
       " ('head', 'NOUN', '', 'attr'),\n",
       " ('of', 'ADP', '', 'prep'),\n",
       " ('Microsoft', 'NOUN', 'ORG', 'pobj'),\n",
       " ('(', 'PUNCT', '', 'punct'),\n",
       " ('MSFT', 'NOUN', 'ORG', 'appos'),\n",
       " (')', 'PUNCT', '', 'punct'),\n",
       " (',', 'PUNCT', '', 'punct'),\n",
       " ('valued', 'VERB', '', 'acl'),\n",
       " ('at', 'ADP', '', 'prep'),\n",
       " ('$', 'SYM', '', 'nmod'),\n",
       " ('234M.', 'NUM', 'MONEY', 'pobj')]"
      ]
     },
     "execution_count": 117,
     "metadata": {},
     "output_type": "execute_result"
    }
   ],
   "source": [
    "list((w.orth_, w.pos_, w.ent_type_, w.dep_)\n",
    "     for w in parsed)"
   ]
  },
  {
   "cell_type": "markdown",
   "metadata": {
    "slideshow": {
     "slide_type": "subslide"
    }
   },
   "source": [
    "![parse](parse_tree.png)"
   ]
  },
  {
   "cell_type": "code",
   "execution_count": 119,
   "metadata": {
    "collapsed": true,
    "slideshow": {
     "slide_type": "subslide"
    }
   },
   "outputs": [],
   "source": [
    "import re\n",
    "\n",
    "persons = set()\n",
    "fileids = corpus.movie_reviews.fileids()\n",
    "for fileid in fileids:\n",
    "    doc = corpus.movie_reviews.raw(fileids=[fileid]\n",
    "    doc = re.sub('\\s+', ' ', doc))\n",
    "    parsed = spc(doc)\n",
    "    for w in parsed:\n",
    "        if w.ent_type_ == 'PERSON'\\\n",
    "                and w.dep_ == 'compound':\n",
    "            person = (w.orth_, w.head.orth_)\n",
    "            persons.add(' '.join(person))"
   ]
  },
  {
   "cell_type": "code",
   "execution_count": 137,
   "metadata": {
    "collapsed": true,
    "slideshow": {
     "slide_type": "subslide"
    }
   },
   "outputs": [],
   "source": [
    "# a more convenient way of extracting entities\n",
    "persons = set()\n",
    "fileids = corpus.movie_reviews.fileids()\n",
    "for fileid in fileids:\n",
    "    doc = corpus.movie_reviews.raw(fileids=[fileid]\n",
    "    doc = re.sub('\\s+', ' ', ))\n",
    "    parsed = spc(doc)\n",
    "    for ent in parsed.ents:\n",
    "        if ent.label_ == 'PERSON'\\\n",
    "                and ent.end - ent.start > 1:\n",
    "            persons.add(ent.text)"
   ]
  },
  {
   "cell_type": "code",
   "execution_count": 138,
   "metadata": {
    "collapsed": false,
    "slideshow": {
     "slide_type": "subslide"
    }
   },
   "outputs": [
    {
     "data": {
      "text/plain": [
       "['clint eastwood',\n",
       " 'paul sorvino',\n",
       " 'jonathan breck',\n",
       " 'al hayes',\n",
       " 'matthew letscher',\n",
       " 'tommy lee jones',\n",
       " 'david webb',\n",
       " \"alan cohn's\",\n",
       " 'david kellogg',\n",
       " \"willem dafoe's\",\n",
       " 'wolfgang amadeus',\n",
       " 'scott glenn',\n",
       " 'charlie brewster',\n",
       " 'ivan reitman',\n",
       " 'eric goldberg']"
      ]
     },
     "execution_count": 138,
     "metadata": {},
     "output_type": "execute_result"
    }
   ],
   "source": [
    "import random\n",
    "random.sample(persons, k=15)"
   ]
  },
  {
   "cell_type": "markdown",
   "metadata": {
    "slideshow": {
     "slide_type": "subslide"
    }
   },
   "source": [
    "Use POS tags and named entity chunks\n",
    "- `nltk.pos_tag`\n",
    "- `nltk.ne_chunk`"
   ]
  },
  {
   "cell_type": "code",
   "execution_count": 142,
   "metadata": {
    "collapsed": false,
    "slideshow": {
     "slide_type": "fragment"
    }
   },
   "outputs": [],
   "source": [
    "import nltk\n",
    "\n",
    "persons_nltk = set()\n",
    "fileids = random.sample(movie_reviews.fileids(), k=30)\n",
    "for fileid in fileids:\n",
    "    doc = corpus.movie_reviews.raw(fileids=[fileid]\n",
    "    doc = re.sub('\\s+', ' ', doc))\n",
    "    for sent in movie_reviews.sents(fileids=[fileid]):\n",
    "        chunks = nltk.ne_chunk(nltk.pos_tag(sent))\n",
    "        for chunk in chunks.subtrees():\n",
    "            if chunk.label() == 'PERSON'\\\n",
    "                    and len(chunk) > 1:\n",
    "                persons.add(tuple(chunk.leaves()))"
   ]
  },
  {
   "cell_type": "code",
   "execution_count": 24,
   "metadata": {
    "collapsed": false,
    "scrolled": true,
    "slideshow": {
     "slide_type": "subslide"
    }
   },
   "outputs": [
    {
     "data": {
      "text/plain": [
       "[(('John', 'NNP'), ('Danforth', 'NNP')),\n",
       " (('Treasury', 'NNP'), ('Bond', 'NNP')),\n",
       " (('Peter', 'NNP'), ('Baron', 'NNP')),\n",
       " (('Zhang', 'NNP'), ('Yan', 'NNP')),\n",
       " (('Export', 'NNP'), ('Enhancement', 'NNP')),\n",
       " (('Quaker', 'NNP'), ('Oats', 'NNP')),\n",
       " (('Jacques', 'NNP'), ('Chirac', 'NNP')),\n",
       " (('Economic', 'NNP'), ('Planning', 'NNP'), ('Agency', 'NNP')),\n",
       " (('Rahr', 'NNP'), ('Malting', 'NNP'), ('Co', 'NNP')),\n",
       " (('Tom', 'NNP'), ('Mulligan', 'NNP')),\n",
       " (('Dante', 'NNP'), ('Caputo', 'NNP')),\n",
       " (('Start', 'NNP'), ('Stcks', 'NNP')),\n",
       " (('Darwin', 'NNP'), ('E', 'NNP')),\n",
       " (('David', 'NNP'), ('Pryor', 'NNP')),\n",
       " (('Kika', 'NNP'), ('De', 'NNP'))]"
      ]
     },
     "execution_count": 24,
     "metadata": {},
     "output_type": "execute_result"
    }
   ],
   "source": [
    "# from nltk.corpus.reuters CATEGORY=Grain\n",
    "list(random.sample(list(persons), k=15))"
   ]
  },
  {
   "cell_type": "code",
   "execution_count": 33,
   "metadata": {
    "collapsed": false,
    "slideshow": {
     "slide_type": "subslide"
    }
   },
   "outputs": [
    {
     "data": {
      "text/plain": [
       "[(('Tyrus', 'NNP'), ('Nebuchadrezzar', 'NNP')),\n",
       " (('Eden', 'NNP'), ('Cherubims', 'NNP')),\n",
       " (('Saint', 'NNP'), ('Matthew', 'NNP')),\n",
       " (('Simon', 'NNP'), ('Peter', 'NNP')),\n",
       " (('Assuredly', 'NNP'), ('Solomon', 'NNP')),\n",
       " (('Curse', 'NNP'), ('David', 'NNP')),\n",
       " (('Anathema', 'NNP'), ('Maranatha', 'NNP')),\n",
       " (('Eglah', 'NNP'), ('David', 'NNP')),\n",
       " (('Hushai', 'NNP'), ('David', 'NNP')),\n",
       " (('Wherein', 'NNP'), ('God', 'NNP')),\n",
       " (('O', 'NNP'), ('Solomon', 'NNP')),\n",
       " (('James', 'NNP'), ('Bible', 'NNP')),\n",
       " (('Our', 'NNP'), ('Father', 'NNP')),\n",
       " (('Shimea', 'NNP'), ('David', 'NNP')),\n",
       " (('O', 'NNP'), ('Satan', 'NNP'))]"
      ]
     },
     "execution_count": 33,
     "metadata": {},
     "output_type": "execute_result"
    }
   ],
   "source": [
    "# from nltk.corpus.bible\n",
    "list(random.sample(list(persons), k=15))"
   ]
  },
  {
   "cell_type": "markdown",
   "metadata": {
    "slideshow": {
     "slide_type": "subslide"
    }
   },
   "source": [
    "#### Stanford NER\n",
    "http://nlp.stanford.edu/software/CRF-NER.shtml"
   ]
  },
  {
   "cell_type": "markdown",
   "metadata": {
    "collapsed": true,
    "slideshow": {
     "slide_type": "slide"
    }
   },
   "source": [
    "# Information Extraction\n",
    "\n",
    "## Dependency Parsing\n",
    "\n",
    "### MALT Parser\n",
    "- http://www.maltparser.org/"
   ]
  },
  {
   "cell_type": "markdown",
   "metadata": {
    "collapsed": false,
    "slideshow": {
     "slide_type": "subslide"
    }
   },
   "source": [
    "# The yellow fish that swims in the sea"
   ]
  },
  {
   "cell_type": "markdown",
   "metadata": {
    "slideshow": {
     "slide_type": "fragment"
    }
   },
   "source": [
    "![](dep_tree1.png)"
   ]
  },
  {
   "cell_type": "markdown",
   "metadata": {
    "slideshow": {
     "slide_type": "subslide"
    }
   },
   "source": [
    "# I ate the food with the fork\n",
    "\n",
    "### I used the fork to eat the food\n",
    "### I ate the food that had the fork"
   ]
  },
  {
   "cell_type": "markdown",
   "metadata": {
    "slideshow": {
     "slide_type": "fragment"
    }
   },
   "source": [
    "![](dep_tree3.png)"
   ]
  },
  {
   "cell_type": "markdown",
   "metadata": {
    "collapsed": false,
    "slideshow": {
     "slide_type": "subslide"
    }
   },
   "source": [
    "# I thought Tom Hanks was fantastic"
   ]
  },
  {
   "cell_type": "markdown",
   "metadata": {
    "slideshow": {
     "slide_type": "fragment"
    }
   },
   "source": [
    "![](dep_tree2.png)"
   ]
  },
  {
   "cell_type": "code",
   "execution_count": 193,
   "metadata": {
    "collapsed": true,
    "slideshow": {
     "slide_type": "subslide"
    }
   },
   "outputs": [],
   "source": [
    "def is_person(entity):\n",
    "    return ent.label_ == 'PERSON'\\\n",
    "        and ent.end - ent.start > 1\n",
    "\n",
    "def is_opinion(person):\n",
    "    is_opinion = False\n",
    "    try:\n",
    "        is_opinion =\\\n",
    "            next(ent.root.head.rights).dep_ == 'acomp'\n",
    "    except StopIteration:\n",
    "        pass\n",
    "    \n",
    "    is_opinion =\\\n",
    "        is_opinion and ent.root.dep_ == 'nsubj'\n",
    "    return is_opinion"
   ]
  },
  {
   "cell_type": "code",
   "execution_count": 194,
   "metadata": {
    "collapsed": false,
    "slideshow": {
     "slide_type": "subslide"
    }
   },
   "outputs": [],
   "source": [
    "opinions = set()\n",
    "fileids = corpus.movie_reviews.fileids()\n",
    "for fileid in fileids:\n",
    "    doc = corpus.movie_reviews.raw(fileids=[fileid]\n",
    "    doc = re.sub('\\s+', ' ', doc))\n",
    "    parsed = spc(doc)\n",
    "    for ent in parsed.ents:\n",
    "        if is_person(ent) and is_opinion(ent):\n",
    "            left_child = next(ent.root.lefts)\n",
    "            first = left_child.orth_.capitalize()\n",
    "            last = ent.root.orth_.capitalize()\n",
    "            right_of_head = next(ent.root.head.rights)\n",
    "            opinions.add((first, last,\n",
    "                          right_of_head.orth_))"
   ]
  },
  {
   "cell_type": "code",
   "execution_count": 195,
   "metadata": {
    "collapsed": false,
    "slideshow": {
     "slide_type": "subslide"
    }
   },
   "outputs": [
    {
     "name": "stdout",
     "output_type": "stream",
     "text": [
      "Andy Garcia is powerful\n",
      "Actor Mccarthy is sleazy\n",
      "Herbie Stempel is old\n",
      "David Morse is competent\n",
      "Even Broderick is dull\n",
      "( Branagh is terrifying\n",
      "Even Allen is pitiful\n",
      "Kathleen Quinlan is annoying\n",
      "David Arquette is impressive\n",
      "Vanessa Redgrave is acknowledgeable\n",
      "Brendan Fraser is great\n",
      "Connie Britton is strung\n",
      "David Lee is evil\n",
      "( Isaacs is real\n",
      "Rosanna Arquette is awful\n",
      "Danny Glover is affable\n",
      "Paul Giamatti is notable\n",
      "Alec Baldwin is fat\n",
      "Kenneth Branagh is able\n"
     ]
    }
   ],
   "source": [
    "for first, last, adj in opinions:\n",
    "    print(first, last, 'is', adj)"
   ]
  },
  {
   "cell_type": "code",
   "execution_count": 201,
   "metadata": {
    "collapsed": true,
    "slideshow": {
     "slide_type": "subslide"
    }
   },
   "outputs": [],
   "source": [
    "import nltk\n",
    "import os\n",
    "\n",
    "# load the example model from http://www.maltparser.org/mco/mco.html\n",
    "mp_home = os.path.expanduser('~/Documents/PUB_NLP/maltparser-1.7.2/')\n",
    "mp_model = os.path.expanduser('~/Documents/PUB_NLP/maltparser-1.7.2/models/engmalt.poly-1.7.mco')\n",
    "mp = nltk.parse.malt.MaltParser(mp_home, mp_model)\n",
    "\n",
    "# other models exist http://nlp.stanford.edu/software/stanford-dependencies.shtml"
   ]
  },
  {
   "cell_type": "code",
   "execution_count": 202,
   "metadata": {
    "collapsed": false,
    "slideshow": {
     "slide_type": "subslide"
    }
   },
   "outputs": [
    {
     "name": "stdout",
     "output_type": "stream",
     "text": [
      "I\tPRP\t2\tnsubj\n",
      "thought\tVBD\t0\tROOT\n",
      "Tom\tNNP\t4\tnn\n",
      "Hanks\tNNP\t6\tnsubj\n",
      "was\tVBD\t6\tcop\n",
      "fantastic.\tNNP\t2\tccomp\n",
      "\n"
     ]
    }
   ],
   "source": [
    "dep_tree = mp.parse_tagged_sents(\n",
    "    [nltk.pos_tag('I thought Tom Hanks was fantastic.'.split())])\n",
    "graph = next(next(iter(dep_tree)))\n",
    "print(graph.to_conll(style=4))"
   ]
  },
  {
   "cell_type": "code",
   "execution_count": 203,
   "metadata": {
    "collapsed": false,
    "slideshow": {
     "slide_type": "subslide"
    }
   },
   "outputs": [
    {
     "data": {
      "image/svg+xml": [
       "<?xml version=\"1.0\" encoding=\"UTF-8\" standalone=\"no\"?>\n",
       "<!DOCTYPE svg PUBLIC \"-//W3C//DTD SVG 1.1//EN\"\n",
       " \"http://www.w3.org/Graphics/SVG/1.1/DTD/svg11.dtd\">\n",
       "<!-- Generated by graphviz version 2.38.0 (20140413.2041)\n",
       " -->\n",
       "<!-- Title: G Pages: 1 -->\n",
       "<svg width=\"186pt\" height=\"399pt\"\n",
       " viewBox=\"0.00 0.00 185.79 399.20\" xmlns=\"http://www.w3.org/2000/svg\" xmlns:xlink=\"http://www.w3.org/1999/xlink\">\n",
       "<g id=\"graph0\" class=\"graph\" transform=\"scale(1 1) rotate(0) translate(4 395.2)\">\n",
       "<title>G</title>\n",
       "<polygon fill=\"white\" stroke=\"none\" points=\"-4,4 -4,-395.2 181.793,-395.2 181.793,4 -4,4\"/>\n",
       "<!-- 0 -->\n",
       "<g id=\"node1\" class=\"node\"><title>0</title>\n",
       "<text text-anchor=\"middle\" x=\"62\" y=\"-369\" font-family=\"Times,serif\" font-size=\"14.00\">0 (None)</text>\n",
       "</g>\n",
       "<!-- 2 -->\n",
       "<g id=\"node2\" class=\"node\"><title>2</title>\n",
       "<text text-anchor=\"middle\" x=\"62\" y=\"-280.2\" font-family=\"Times,serif\" font-size=\"14.00\">2 (thought)</text>\n",
       "</g>\n",
       "<!-- 0&#45;&gt;2 -->\n",
       "<g id=\"edge1\" class=\"edge\"><title>0&#45;&gt;2</title>\n",
       "<path fill=\"none\" stroke=\"black\" d=\"M62,-355.051C62,-342.925 62,-326.419 62,-312.519\"/>\n",
       "<polygon fill=\"black\" stroke=\"black\" points=\"65.5001,-312.513 62,-302.513 58.5001,-312.513 65.5001,-312.513\"/>\n",
       "<text text-anchor=\"middle\" x=\"81.0512\" y=\"-324.6\" font-family=\"Times,serif\" font-size=\"14.00\">ROOT</text>\n",
       "</g>\n",
       "<!-- 1 -->\n",
       "<g id=\"node3\" class=\"node\"><title>1</title>\n",
       "<text text-anchor=\"middle\" x=\"27\" y=\"-191.4\" font-family=\"Times,serif\" font-size=\"14.00\">1 (I)</text>\n",
       "</g>\n",
       "<!-- 2&#45;&gt;1 -->\n",
       "<g id=\"edge3\" class=\"edge\"><title>2&#45;&gt;1</title>\n",
       "<path fill=\"none\" stroke=\"black\" d=\"M52.9016,-266.161C50.1008,-260.567 47.1132,-254.285 44.6648,-248.4 41.3286,-240.381 38.1228,-231.485 35.3795,-223.36\"/>\n",
       "<polygon fill=\"black\" stroke=\"black\" points=\"38.6217,-222.014 32.1772,-213.605 31.9709,-224.198 38.6217,-222.014\"/>\n",
       "<text text-anchor=\"middle\" x=\"60.1676\" y=\"-235.8\" font-family=\"Times,serif\" font-size=\"14.00\">nsubj</text>\n",
       "</g>\n",
       "<!-- 6 -->\n",
       "<g id=\"node4\" class=\"node\"><title>6</title>\n",
       "<text text-anchor=\"middle\" x=\"115\" y=\"-191.4\" font-family=\"Times,serif\" font-size=\"14.00\">6 (fantastic.)</text>\n",
       "</g>\n",
       "<!-- 2&#45;&gt;6 -->\n",
       "<g id=\"edge2\" class=\"edge\"><title>2&#45;&gt;6</title>\n",
       "<path fill=\"none\" stroke=\"black\" d=\"M72.4711,-266.251C80.0931,-253.768 90.549,-236.644 99.1858,-222.5\"/>\n",
       "<polygon fill=\"black\" stroke=\"black\" points=\"102.326,-224.072 104.551,-213.713 96.3521,-220.424 102.326,-224.072\"/>\n",
       "<text text-anchor=\"middle\" x=\"112.66\" y=\"-235.8\" font-family=\"Times,serif\" font-size=\"14.00\">ccomp</text>\n",
       "</g>\n",
       "<!-- 4 -->\n",
       "<g id=\"node6\" class=\"node\"><title>4</title>\n",
       "<text text-anchor=\"middle\" x=\"66\" y=\"-102.6\" font-family=\"Times,serif\" font-size=\"14.00\">4 (Hanks)</text>\n",
       "</g>\n",
       "<!-- 6&#45;&gt;4 -->\n",
       "<g id=\"edge6\" class=\"edge\"><title>6&#45;&gt;4</title>\n",
       "<path fill=\"none\" stroke=\"black\" d=\"M104.168,-177.269C100.741,-171.67 96.9827,-165.409 93.6648,-159.6 89.0125,-151.455 84.1312,-142.475 79.7862,-134.311\"/>\n",
       "<polygon fill=\"black\" stroke=\"black\" points=\"82.7412,-132.411 74.9779,-125.201 76.5506,-135.679 82.7412,-132.411\"/>\n",
       "<text text-anchor=\"middle\" x=\"109.168\" y=\"-147\" font-family=\"Times,serif\" font-size=\"14.00\">nsubj</text>\n",
       "</g>\n",
       "<!-- 5 -->\n",
       "<g id=\"node7\" class=\"node\"><title>5</title>\n",
       "<text text-anchor=\"middle\" x=\"149\" y=\"-102.6\" font-family=\"Times,serif\" font-size=\"14.00\">5 (was)</text>\n",
       "</g>\n",
       "<!-- 6&#45;&gt;5 -->\n",
       "<g id=\"edge5\" class=\"edge\"><title>6&#45;&gt;5</title>\n",
       "<path fill=\"none\" stroke=\"black\" d=\"M121.717,-177.451C126.514,-165.206 133.06,-148.495 138.537,-134.511\"/>\n",
       "<polygon fill=\"black\" stroke=\"black\" points=\"141.908,-135.501 142.297,-124.913 135.39,-132.948 141.908,-135.501\"/>\n",
       "<text text-anchor=\"middle\" x=\"145.107\" y=\"-147\" font-family=\"Times,serif\" font-size=\"14.00\">cop</text>\n",
       "</g>\n",
       "<!-- 3 -->\n",
       "<g id=\"node5\" class=\"node\"><title>3</title>\n",
       "<text text-anchor=\"middle\" x=\"66\" y=\"-13.8\" font-family=\"Times,serif\" font-size=\"14.00\">3 (Tom)</text>\n",
       "</g>\n",
       "<!-- 4&#45;&gt;3 -->\n",
       "<g id=\"edge4\" class=\"edge\"><title>4&#45;&gt;3</title>\n",
       "<path fill=\"none\" stroke=\"black\" d=\"M66,-88.6511C66,-76.5249 66,-60.019 66,-46.119\"/>\n",
       "<polygon fill=\"black\" stroke=\"black\" points=\"69.5001,-46.1132 66,-36.1133 62.5001,-46.1133 69.5001,-46.1132\"/>\n",
       "<text text-anchor=\"middle\" x=\"73\" y=\"-58.2\" font-family=\"Times,serif\" font-size=\"14.00\">nn</text>\n",
       "</g>\n",
       "</g>\n",
       "</svg>\n"
      ],
      "text/plain": [
       "<DependencyGraph with 7 nodes>"
      ]
     },
     "execution_count": 203,
     "metadata": {},
     "output_type": "execute_result"
    }
   ],
   "source": [
    "graph"
   ]
  },
  {
   "cell_type": "code",
   "execution_count": 119,
   "metadata": {
    "collapsed": false,
    "slideshow": {
     "slide_type": "skip"
    }
   },
   "outputs": [],
   "source": [
    "person = ('Tom', 'Hanks')\n",
    "opinions = []\n",
    "nodes = graph.nodes\n",
    "for nodeid, node in nodes.items():\n",
    "    if node['rel'] == 'cop': # was\n",
    "        head_node = nodes[node['head']] # fantastic\n",
    "        if head_node['tag'] != 'JJ': continue\n",
    "        for dep in head_node['deps']['nsubj']:\n",
    "            dep_node = nodes[dep]\n",
    "            if dep_node['word'] in person: # is this a NOUN we are interested in?\n",
    "                person = [dep_node['word']]\n",
    "                person.extend(nodes[d]['word'] for d in dep_node['deps']['nn'])\n",
    "                person.reverse()\n",
    "                opinions.append(tuple([tuple(person), head_node['word']]))"
   ]
  },
  {
   "cell_type": "markdown",
   "metadata": {
    "slideshow": {
     "slide_type": "slide"
    }
   },
   "source": [
    "# Topic Modelling\n",
    "\n",
    "### divide a corpus into topics based on distributional word usage"
   ]
  },
  {
   "cell_type": "markdown",
   "metadata": {
    "slideshow": {
     "slide_type": "fragment"
    }
   },
   "source": [
    "\n",
    "- topics are defined by how language is used, they don't necessarily correspond to what we think of topics"
   ]
  },
  {
   "cell_type": "markdown",
   "metadata": {
    "slideshow": {
     "slide_type": "subslide"
    }
   },
   "source": [
    "## distributional semantics\n",
    "\n",
    "<table>\n",
    "<tr><th>features</th><th colspan=7><center>features</center></th></tr>\n",
    "<tr><td></td> <td>0</td><td>1</td><td>2</td><td>3</td><td>4</td><td>5</td><td>6</td></tr>\n",
    "<tr><td>0</td> <td>0</td><td>0</td><td>0</td><td>0</td><td>0</td><td>0</td><td>0</td></tr>\n",
    "<tr><td>1</td> <td>0</td><td>0</td><td>0</td><td>0</td><td>0</td><td>0</td><td>0</td></tr>\n",
    "<tr><td>2</td> <td>0</td><td>0</td><td>0</td><td>0</td><td>0</td><td>0</td><td>0</td></tr>\n",
    "<tr><td>3</td> <td>0</td><td>0</td><td>0</td><td>0</td><td>0</td><td>0</td><td>0</td></tr>\n",
    "<tr><td>4</td> <td>0</td><td>0</td><td>0</td><td>0</td><td>0</td><td>0</td><td>0</td></tr>\n",
    "<tr><td>5</td> <td>0</td><td>0</td><td>0</td><td>0</td><td>0</td><td>0</td><td>0</td></tr>\n",
    "<tr><td>6</td> <td>0</td><td>0</td><td>0</td><td>0</td><td>0</td><td>0</td><td>0</td></tr>\n",
    "</table>"
   ]
  },
  {
   "cell_type": "code",
   "execution_count": null,
   "metadata": {
    "collapsed": true,
    "slideshow": {
     "slide_type": "subslide"
    }
   },
   "outputs": [],
   "source": [
    "import re\n",
    "from nltk import corpus\n",
    "\n",
    "def keep_token(token, tag):\n",
    "    keep = re.search('(NN.*)|(VB.*)|(JJ)', tag)\\\n",
    "            is not None\n",
    "    keep = keep and token.isalpha()\n",
    "    return keep"
   ]
  },
  {
   "cell_type": "code",
   "execution_count": 245,
   "metadata": {
    "collapsed": false,
    "slideshow": {
     "slide_type": "subslide"
    }
   },
   "outputs": [],
   "source": [
    "# preprocessing\n",
    "pth = os.path.expanduser('~/Documents/PUB_nlp/lda.moviereviews.in.txt')\n",
    "with open(pth, 'w') as out:\n",
    "    for fileid in corpus.movie_reviews.fileids():\n",
    "        sents = movie_reviews.sents(fileid)\n",
    "        pos_tagged_sents = nltk.pos_tag_sents(sents)\n",
    "        words = ['{}/{}'.format(\n",
    "                    lmtz(w), tag)\n",
    "                    for sent in pos_tagged_sents\n",
    "                    for w, tag in sent\n",
    "                 if keep_token(w, tag)]\n",
    "        out.write(' '.join(words))\n",
    "        out.write('\\n')"
   ]
  },
  {
   "cell_type": "code",
   "execution_count": 246,
   "metadata": {
    "collapsed": false,
    "slideshow": {
     "slide_type": "subslide"
    }
   },
   "outputs": [
    {
     "name": "stdout",
     "output_type": "stream",
     "text": [
      "    2000 /Volumes/LocalDataHD/ml249/Documents/PUB_nlp/lda.moviereviews.in.txt\r\n"
     ]
    }
   ],
   "source": [
    "# you can run shell commands in notebook\n",
    "# how awesome is that?\n",
    "!wc -l ~/Documents/PUB_nlp/lda.moviereviews.in.txt"
   ]
  },
  {
   "cell_type": "code",
   "execution_count": 248,
   "metadata": {
    "collapsed": false,
    "slideshow": {
     "slide_type": "subslide"
    }
   },
   "outputs": [
    {
     "name": "stdout",
     "output_type": "stream",
     "text": [
      "moviemaking/VBG is/VBZ lot/NN being/VBG general/JJ manager/NN nfl/NN team/NN post/NN salary/NN cap/NN era/NN ve/VBP got/VBN know/VB allocate/VB resource/NNS dollar/NN spent/NN free/JJ agent/NN defensive/JJ tackle/NN is/VBZ le/JJR dollar/NN spend/VB linebacker/NNS safety/NNS center/NNS nfl/NN lead/NNS team/NNS detroit/NN lion/NNS superstar/NN running/VBG huge/JJ contract/NN field/VB guy/NNS named/VBD herb/NN block/VB movie/NNS end/VBP film/NNS spawn/NN huge/JJ special/JJ effect/NNS budget/NN money/NN hire/VB recognizable/JJ actor/NNS jackie/NN chan/VBD is/VBZ barry/NN sander/NNS moviemaking/VBG spin/VBZ dart/NNS screen/NN sander/NNS cutting/VBG defensive/JJ line/NN watching/VBG jackie/NN operation/NN condor/NN drive/VBZ motorcycle/NN crowded/VBN street/NNS madrid/JJ fleeing/VBG armada/NN pursuer/NNS identical/JJ black/NN compact/NN car/NNS is/VBZ reminiscent/JJ sander/NNS running/VBG daylight/JJ chicago/NNP bear/VBZ hot/JJ pursuit/NN sander/NNS doesn/VBP t/NN have/VBP worry/VB rescuing/VBG runaway/NN baby/NN carriage/NNS lion/NNS star/NN jackie/NN doesn/NN t/NN have/VBP anybody/NN block/VB cent/NN s/NNS invested/VBD jackie/NN chan/NN movie/NN go/VBZ stunt/NNS chan/NN doe/VBZ own/JJ stunt/NNS rest/NN money/NN go/VBZ pay/VB hospital/NN bill/NNS leaf/VBZ cent/NNS pay/VB thing/NNS director/NNS directs/NNS script/NNS dubbing/VBG supporting/VBG character/NNS mention/VB hideous/JJ title/NN sequence/NN explains/VBZ movie/NN wa/VBD shot/JJ odd/JJ place/NNS morocco/NN spain/NN chan/VBD s/NNS release/VB country/NN rumble/JJ bronx/NN wa/VBD set/VBN new/JJ york/NN wa/VBD filmed/VBN vancouver/NN chase/NN scene/NNS canadian/JJ rockies/NNS are/VBP visible/JJ heck/NN jackie/NN doesn/NN t/NN have/VB enough/JJ money/NN haircut/NN look/VBZ much/JJ le/NN personal/JJ hairstylist/NN condor/NN play/NNS same/JJ character/NN s/NNS played/VBN mixture/NN bruce/NN lee/NN tim/NN allen/NN master/NN kung/JJ fu/NN slapstick/NN fu/NN jackie/NN is/VBZ sent/VBN un/NN retrieve/VB cache/NN lost/NN nazi/NN gold/NN north/JJ african/NN desert/NN is/VBZ chased/VBN horde/NN neo/NN nazi/NN sympathizer/NNS stereotypical/JJ arab/NNS thing/NNS like/VBP jackie/NN movie/NNS political/JJ correctness/NN is/VBZ joined/VBN woman/NNS have/VBP do/VB scream/NN jackie/NN save/VBP misuse/VB firearm/NNS villain/NN is/VBZ old/JJ nazi/NN leg/NNS were/VBD broken/VBN secret/NN base/NN ha/VBZ be/VB carried/VBN s/NNS pathetic/JJ evil/JJ en/NN route/NN have/VBP extended/VBN motorcycle/NN chase/NN scene/NN hilarious/JJ fight/NN moroccan/NN version/NN motel/NN neo/NN nazi/NNS confrontation/NNS savage/NN native/NNS secret/NN desert/NN base/NN is/VBZ long/JJ chop/NN socky/JJ sequence/NN followed/VBN film/NN s/NNS centerpiece/VBP wind/NN tunnel/NN fight/NN s/VBZ better/JJR face/NN is/VBZ money/NN wa/VBD spent/VBN choreographed/VBN kung/NN fu/NN sequence/NNS giant/JJ kevlar/NN hamster/NN ball/NNS smashed/JJ crate/NNS banana/NNS scorpion/NNS gaping/NN hole/NNS plot/NN villain/NN s/NNS leg/NNS were/VBD broken/VBN did/VBD escape/NN secret/NN nazi/NN base/NN didn/NN t/NN take/VBP key/JJ don/NN t/NN worry/NN production/NN value/NNS japanese/NNS girl/NN wa/VBD doing/VBG hitchhiking/NN sahara/NN go/VBP see/VB movie/NN operation/NN condor/NN ha/VBZ pretentions/NNS being/VBG raider/NNS lost/JJS ark/NN knockoff/NN wonder/NNS jackie/NN do/VB raider/NNS franchise/VBP blocking/VBG lawrence/NN kazdan/NN screenplay/NN john/NN williams/NNS score/VBP spielberg/NN directing/VBG george/NN lucas/NNS producing/VBG condor/NN be/VB movie/NN ve/VBP got/VBN go/VB ve/NN got/VBD ve/NN got/VBD jackie/NN is/VBZ something/NN special/JJ talent/NN mainstream/NN hollywood/VBD utilize/VB\r\n"
     ]
    }
   ],
   "source": [
    "# you can run shell commands in notebook\n",
    "# how awesome is that?\n",
    "!head -1 ~/Documents/PUB_nlp/lda.moviereviews.in.txt"
   ]
  },
  {
   "cell_type": "code",
   "execution_count": 266,
   "metadata": {
    "collapsed": false,
    "slideshow": {
     "slide_type": "subslide"
    }
   },
   "outputs": [],
   "source": [
    "import gensim\n",
    "\n",
    "# preprocess\n",
    "dictionary = gensim.corpora.Dictionary()\n",
    "pth = os.path.expanduser('~/Documents/PUB_nlp/lda.moviereviews.in.txt')\n",
    "pth_out = os.path.expanduser('~/Documents/PUB_nlp/lda.moviereviews.in.mm')\n",
    "with open(pth, 'r') as fh:\n",
    "    bow_stream = (article.split(' ') for article in fh)\n",
    "    lda_corpus = (dictionary.doc2bow(bow, allow_update=True)\n",
    "                  for bow in bow_stream)\n",
    "    gensim.corpora.MmCorpus.serialize(, lda_corpus)\n",
    "\n",
    "lda_corpus = gensim.corpora.MmCorpus(pth_out)"
   ]
  },
  {
   "cell_type": "code",
   "execution_count": 267,
   "metadata": {
    "collapsed": false,
    "slideshow": {
     "slide_type": "subslide"
    }
   },
   "outputs": [
    {
     "data": {
      "text/plain": [
       "[(32048, 'lend/VB'),\n",
       " (19093, 'circumcision/NN'),\n",
       " (45821, 'wandering/JJ'),\n",
       " (31249, 'kristen/VBP'),\n",
       " (30694, 'request/NN'),\n",
       " (17072, 'exalts/NNS'),\n",
       " (11989, 'spotty/JJ'),\n",
       " (22098, 'hardcore/VBP'),\n",
       " (20559, 'mindset/VBP'),\n",
       " (31951, 'synonym/NN')]"
      ]
     },
     "execution_count": 267,
     "metadata": {},
     "output_type": "execute_result"
    }
   ],
   "source": [
    "list(dictionary.items())[:10]"
   ]
  },
  {
   "cell_type": "code",
   "execution_count": 276,
   "metadata": {
    "collapsed": false,
    "slideshow": {
     "slide_type": "fragment"
    }
   },
   "outputs": [],
   "source": [
    "# train a TFIDF model\n",
    "tfidf = gensim.models.TfidfModel(corpus=None,\n",
    "                                 dictionary=dictionary,\n",
    "                                 normalize=False)\n",
    "corpus_tfidf = tfidf[lda_corpus]"
   ]
  },
  {
   "cell_type": "code",
   "execution_count": 282,
   "metadata": {
    "collapsed": false,
    "slideshow": {
     "slide_type": "subslide"
    }
   },
   "outputs": [
    {
     "name": "stdout",
     "output_type": "stream",
     "text": [
      "2015-09-28 18:43:12\n",
      "2015-09-28 18:43:31\n"
     ]
    }
   ],
   "source": [
    "# train LDA model\n",
    "import pandas as pd\n",
    "print(pd.to_datetime('now'))\n",
    "lda = gensim.models.LdaModel(corpus=corpus_tfidf,\n",
    "                             id2word=dictionary,\n",
    "                             num_topics=10,\n",
    "                             chunksize=100,\n",
    "                             iterations=100)\n",
    "print(pd.to_datetime('now'))"
   ]
  },
  {
   "cell_type": "code",
   "execution_count": 283,
   "metadata": {
    "collapsed": true,
    "slideshow": {
     "slide_type": "skip"
    }
   },
   "outputs": [],
   "source": [
    "import numpy as np\n",
    "from scipy import stats\n",
    "from IPython.display import display, HTML\n",
    "\n",
    "def topics_html(topics):\n",
    "    s = \"<table width=100%>\"\n",
    "    maxent = 0\n",
    "    words = set()\n",
    "    for i, topic in enumerate(topics):\n",
    "        phi = 0\n",
    "        s += \"<th colspan={}></th>\".format(len(topic))\n",
    "        s += \"<tr>\"\n",
    "        for prob, _ in topic:\n",
    "            s += \"<td><center><b>%.2e</b></center</td>\" % (prob)\n",
    "\n",
    "        s += \"</tr><tr>\"\n",
    "        for _, word in topic:\n",
    "            s += \"<td class=w_{0}><center><b>{0}</b> / {1}</center></td>\".format(*word.split('/'))\n",
    "            words.add(word.split('/')[0])\n",
    "        s += \"</tr>\"\n",
    "    s += \"</table>\"\n",
    "    css = \"<style>\" + \"\".join([\".w_%s:hover {background-color: #6f6f6f;}\" %w for w in words]) + \"</style>\"\n",
    "    return s, css"
   ]
  },
  {
   "cell_type": "code",
   "execution_count": 284,
   "metadata": {
    "collapsed": false,
    "scrolled": false,
    "slideshow": {
     "slide_type": "subslide"
    }
   },
   "outputs": [
    {
     "data": {
      "text/html": [
       "<style>.w_joe:hover {background-color: #6f6f6f;}.w_van:hover {background-color: #6f6f6f;}.w_disney:hover {background-color: #6f6f6f;}.w_wild:hover {background-color: #6f6f6f;}.w_ape:hover {background-color: #6f6f6f;}.w_shane:hover {background-color: #6f6f6f;}.w_killer:hover {background-color: #6f6f6f;}.w_stuart:hover {background-color: #6f6f6f;}.w_action:hover {background-color: #6f6f6f;}.w_tarzan:hover {background-color: #6f6f6f;}.w_jackie:hover {background-color: #6f6f6f;}.w_dillon:hover {background-color: #6f6f6f;}.w_girl:hover {background-color: #6f6f6f;}.w_mulan:hover {background-color: #6f6f6f;}.w_lucas:hover {background-color: #6f6f6f;}.w_robin:hover {background-color: #6f6f6f;}.w_myers:hover {background-color: #6f6f6f;}.w_war:hover {background-color: #6f6f6f;}.w_williams:hover {background-color: #6f6f6f;}.w_batman:hover {background-color: #6f6f6f;}.w_star:hover {background-color: #6f6f6f;}.w_spawn:hover {background-color: #6f6f6f;}.w_godzilla:hover {background-color: #6f6f6f;}.w_witch:hover {background-color: #6f6f6f;}.w_horror:hover {background-color: #6f6f6f;}.w_hong:hover {background-color: #6f6f6f;}.w_frank:hover {background-color: #6f6f6f;}.w_erin:hover {background-color: #6f6f6f;}.w_blair:hover {background-color: #6f6f6f;}.w_seagal:hover {background-color: #6f6f6f;}.w_marie:hover {background-color: #6f6f6f;}.w_menace:hover {background-color: #6f6f6f;}.w_toy:hover {background-color: #6f6f6f;}.w_scream:hover {background-color: #6f6f6f;}.w_murphy:hover {background-color: #6f6f6f;}.w_trooper:hover {background-color: #6f6f6f;}</style>"
      ],
      "text/plain": [
       "<IPython.core.display.HTML object>"
      ]
     },
     "metadata": {},
     "output_type": "display_data"
    },
    {
     "data": {
      "text/html": [
       "<table width=100%><th colspan=6></th><tr><td><center><b>2.52e-03</b></center</td><td><center><b>2.38e-03</b></center</td><td><center><b>2.07e-03</b></center</td><td><center><b>1.73e-03</b></center</td><td><center><b>1.52e-03</b></center</td><td><center><b>1.30e-03</b></center</td></tr><tr><td class=w_mulan><center><b>mulan</b> / NN</center></td><td class=w_star><center><b>star</b> / NN</center></td><td class=w_war><center><b>war</b> / NNS</center></td><td class=w_lucas><center><b>lucas</b> / NNS</center></td><td class=w_marie><center><b>marie</b> / NN</center></td><td class=w_menace><center><b>menace</b> / NN</center></td></tr><th colspan=6></th><tr><td><center><b>3.52e-03</b></center</td><td><center><b>2.62e-03</b></center</td><td><center><b>2.13e-03</b></center</td><td><center><b>1.97e-03</b></center</td><td><center><b>1.95e-03</b></center</td><td><center><b>1.89e-03</b></center</td></tr><tr><td class=w_disney><center><b>disney</b> / NN</center></td><td class=w_toy><center><b>toy</b> / NN</center></td><td class=w_tarzan><center><b>tarzan</b> / NN</center></td><td class=w_ape><center><b>ape</b> / NNS</center></td><td class=w_murphy><center><b>murphy</b> / NN</center></td><td class=w_joe><center><b>joe</b> / NN</center></td></tr><th colspan=6></th><tr><td><center><b>2.53e-03</b></center</td><td><center><b>2.44e-03</b></center</td><td><center><b>2.44e-03</b></center</td><td><center><b>1.83e-03</b></center</td><td><center><b>1.75e-03</b></center</td><td><center><b>1.50e-03</b></center</td></tr><tr><td class=w_batman><center><b>batman</b> / NN</center></td><td class=w_robin><center><b>robin</b> / NN</center></td><td class=w_witch><center><b>witch</b> / NN</center></td><td class=w_williams><center><b>williams</b> / NNS</center></td><td class=w_blair><center><b>blair</b> / NN</center></td><td class=w_frank><center><b>frank</b> / NN</center></td></tr><th colspan=6></th><tr><td><center><b>3.37e-03</b></center</td><td><center><b>3.27e-03</b></center</td><td><center><b>3.15e-03</b></center</td><td><center><b>2.39e-03</b></center</td><td><center><b>2.27e-03</b></center</td><td><center><b>1.89e-03</b></center</td></tr><tr><td class=w_horror><center><b>horror</b> / NN</center></td><td class=w_scream><center><b>scream</b> / NN</center></td><td class=w_killer><center><b>killer</b> / NN</center></td><td class=w_godzilla><center><b>godzilla</b> / NN</center></td><td class=w_seagal><center><b>seagal</b> / JJ</center></td><td class=w_trooper><center><b>trooper</b> / NNS</center></td></tr><th colspan=6></th><tr><td><center><b>2.42e-03</b></center</td><td><center><b>2.37e-03</b></center</td><td><center><b>1.84e-03</b></center</td><td><center><b>1.75e-03</b></center</td><td><center><b>1.62e-03</b></center</td><td><center><b>1.61e-03</b></center</td></tr><tr><td class=w_jackie><center><b>jackie</b> / NN</center></td><td class=w_action><center><b>action</b> / NN</center></td><td class=w_wild><center><b>wild</b> / NN</center></td><td class=w_van><center><b>van</b> / NN</center></td><td class=w_erin><center><b>erin</b> / NN</center></td><td class=w_hong><center><b>hong</b> / JJ</center></td></tr><th colspan=6></th><tr><td><center><b>3.37e-03</b></center</td><td><center><b>2.74e-03</b></center</td><td><center><b>2.10e-03</b></center</td><td><center><b>1.84e-03</b></center</td><td><center><b>1.64e-03</b></center</td><td><center><b>1.62e-03</b></center</td></tr><tr><td class=w_spawn><center><b>spawn</b> / NN</center></td><td class=w_girl><center><b>girl</b> / NNS</center></td><td class=w_myers><center><b>myers</b> / NNS</center></td><td class=w_dillon><center><b>dillon</b> / NN</center></td><td class=w_shane><center><b>shane</b> / NN</center></td><td class=w_stuart><center><b>stuart</b> / NN</center></td></tr></table>"
      ],
      "text/plain": [
       "<IPython.core.display.HTML object>"
      ]
     },
     "execution_count": 284,
     "metadata": {},
     "output_type": "execute_result"
    }
   ],
   "source": [
    "s, css = topics_html(lda.show_topics(num_topics=6, num_words=6, formatted=False))\n",
    "display(HTML(css))\n",
    "h = HTML(s); h"
   ]
  },
  {
   "cell_type": "markdown",
   "metadata": {
    "slideshow": {
     "slide_type": "skip"
    }
   },
   "source": [
    "-----------"
   ]
  },
  {
   "cell_type": "code",
   "execution_count": 257,
   "metadata": {
    "collapsed": false,
    "slideshow": {
     "slide_type": "subslide"
    }
   },
   "outputs": [],
   "source": [
    "lda_enwiki = gensim.models.LdaModel.load('enwiki/lda.gensim')"
   ]
  },
  {
   "cell_type": "code",
   "execution_count": 271,
   "metadata": {
    "collapsed": false,
    "scrolled": false,
    "slideshow": {
     "slide_type": "subslide"
    }
   },
   "outputs": [
    {
     "data": {
      "text/html": [
       "<style>.w_amd:hover {background-color: #6f6f6f;}.w_species:hover {background-color: #6f6f6f;}.w_square:hover {background-color: #6f6f6f;}.w_state:hover {background-color: #6f6f6f;}.w_game:hover {background-color: #6f6f6f;}.w_service:hover {background-color: #6f6f6f;}.w_government:hover {background-color: #6f6f6f;}.w_smackdown:hover {background-color: #6f6f6f;}.w_conrad:hover {background-color: #6f6f6f;}.w_wrestling:hover {background-color: #6f6f6f;}.w_season:hover {background-color: #6f6f6f;}.w_→:hover {background-color: #6f6f6f;}.w_wwe:hover {background-color: #6f6f6f;}.w_use:hover {background-color: #6f6f6f;}.w_capcom:hover {background-color: #6f6f6f;}.w_film:hover {background-color: #6f6f6f;}.w_rand:hover {background-color: #6f6f6f;}.w_aircraft:hover {background-color: #6f6f6f;}.w_album:hover {background-color: #6f6f6f;}.w_system:hover {background-color: #6f6f6f;}.w_liz:hover {background-color: #6f6f6f;}.w_whistle:hover {background-color: #6f6f6f;}.w_water:hover {background-color: #6f6f6f;}.w_people:hover {background-color: #6f6f6f;}.w_law:hover {background-color: #6f6f6f;}.w_band:hover {background-color: #6f6f6f;}.w_city:hover {background-color: #6f6f6f;}.w_tyre:hover {background-color: #6f6f6f;}.w_song:hover {background-color: #6f6f6f;}.w_porsche:hover {background-color: #6f6f6f;}.w_router:hover {background-color: #6f6f6f;}.w_bruce:hover {background-color: #6f6f6f;}.w_kuala_lumpur:hover {background-color: #6f6f6f;}</style>"
      ],
      "text/plain": [
       "<IPython.core.display.HTML object>"
      ]
     },
     "metadata": {},
     "output_type": "display_data"
    },
    {
     "data": {
      "text/html": [
       "<table width=100%><th colspan=6></th><tr><td><center><b>1.72e-02</b></center</td><td><center><b>1.36e-02</b></center</td><td><center><b>1.28e-02</b></center</td><td><center><b>1.23e-02</b></center</td><td><center><b>1.21e-02</b></center</td><td><center><b>1.19e-02</b></center</td></tr><tr><td class=w_router><center><b>router</b> / nn</center></td><td class=w_liz><center><b>liz</b> / nnp</center></td><td class=w_→><center><b>→</b> / nn</center></td><td class=w_whistle><center><b>whistle</b> / vbp</center></td><td class=w_amd><center><b>amd</b> / nnp</center></td><td class=w_conrad><center><b>conrad</b> / nnp</center></td></tr><th colspan=6></th><tr><td><center><b>1.59e-02</b></center</td><td><center><b>1.41e-02</b></center</td><td><center><b>1.18e-02</b></center</td><td><center><b>1.17e-02</b></center</td><td><center><b>1.15e-02</b></center</td><td><center><b>1.06e-02</b></center</td></tr><tr><td class=w_kuala_lumpur><center><b>kuala_lumpur</b> / nnp</center></td><td class=w_porsche><center><b>porsche</b> / nnp</center></td><td class=w_bruce><center><b>bruce</b> / nnp</center></td><td class=w_capcom><center><b>capcom</b> / nnp</center></td><td class=w_tyre><center><b>tyre</b> / nns</center></td><td class=w_rand><center><b>rand</b> / nnp</center></td></tr><th colspan=6></th><tr><td><center><b>2.50e-02</b></center</td><td><center><b>1.83e-02</b></center</td><td><center><b>1.55e-02</b></center</td><td><center><b>1.37e-02</b></center</td><td><center><b>1.19e-02</b></center</td><td><center><b>1.10e-02</b></center</td></tr><tr><td class=w_wwe><center><b>wwe</b> / nnp</center></td><td class=w_square><center><b>square</b> / nns</center></td><td class=w_wrestling><center><b>wrestling</b> / nnp</center></td><td class=w_smackdown><center><b>smackdown</b> / nnp</center></td><td class=w_wrestling><center><b>wrestling</b> / nn</center></td><td class=w_wrestling><center><b>wrestling</b> / nnp</center></td></tr><th colspan=6></th><tr><td><center><b>4.14e-03</b></center</td><td><center><b>2.89e-03</b></center</td><td><center><b>2.57e-03</b></center</td><td><center><b>2.38e-03</b></center</td><td><center><b>2.36e-03</b></center</td><td><center><b>2.34e-03</b></center</td></tr><tr><td class=w_use><center><b>use</b> / vbn</center></td><td class=w_system><center><b>system</b> / nn</center></td><td class=w_water><center><b>water</b> / nn</center></td><td class=w_species><center><b>species</b> / nns</center></td><td class=w_aircraft><center><b>aircraft</b> / nn</center></td><td class=w_use><center><b>use</b> / nn</center></td></tr><th colspan=6></th><tr><td><center><b>2.92e-03</b></center</td><td><center><b>2.70e-03</b></center</td><td><center><b>2.67e-03</b></center</td><td><center><b>2.06e-03</b></center</td><td><center><b>2.00e-03</b></center</td><td><center><b>1.95e-03</b></center</td></tr><tr><td class=w_city><center><b>city</b> / nn</center></td><td class=w_government><center><b>government</b> / nn</center></td><td class=w_state><center><b>state</b> / nn</center></td><td class=w_people><center><b>people</b> / nns</center></td><td class=w_law><center><b>law</b> / nn</center></td><td class=w_service><center><b>service</b> / nn</center></td></tr><th colspan=6></th><tr><td><center><b>4.99e-03</b></center</td><td><center><b>3.96e-03</b></center</td><td><center><b>3.33e-03</b></center</td><td><center><b>3.18e-03</b></center</td><td><center><b>3.11e-03</b></center</td><td><center><b>2.98e-03</b></center</td></tr><tr><td class=w_album><center><b>album</b> / nn</center></td><td class=w_film><center><b>film</b> / nn</center></td><td class=w_band><center><b>band</b> / nn</center></td><td class=w_season><center><b>season</b> / nn</center></td><td class=w_song><center><b>song</b> / nn</center></td><td class=w_game><center><b>game</b> / nn</center></td></tr></table>"
      ],
      "text/plain": [
       "<IPython.core.display.HTML object>"
      ]
     },
     "execution_count": 271,
     "metadata": {},
     "output_type": "execute_result"
    }
   ],
   "source": [
    "s, css = topics_html(lda_enwiki.show_topics(num_topics=6, num_words=6, formatted=False))\n",
    "display(HTML(css))\n",
    "h = HTML(s); h"
   ]
  },
  {
   "cell_type": "markdown",
   "metadata": {
    "slideshow": {
     "slide_type": "slide"
    }
   },
   "source": [
    "# Deep Learning\n",
    "\n",
    "### State of the art in distributional semantics, translation, text to speech ...\n",
    "\n",
    "#### Socher on Recurrent NNs for NLP\n",
    "- https://www.youtube.com/watch?v=tdLmf8t4oqM\n",
    "\n",
    "#### The Unreasonable Effectiveness of Recurrent Neural Networks\n",
    "- https://karpathy.github.io/2015/05/21/rnn-effectiveness/?utm_content=bufferdca1b&utm_medium=social&utm_source=facebook.com&utm_campaign=buffer\n",
    "- http://nbviewer.ipython.org/gist/yoavg/d76121dfde2618422139"
   ]
  },
  {
   "cell_type": "markdown",
   "metadata": {
    "slideshow": {
     "slide_type": "slide"
    }
   },
   "source": [
    "# NLP and Python\n",
    "\n",
    "- Matti Lyra\n",
    "- @mattilyra\n",
    "- https://github.com/mattilyra/PUB_nlp\n",
    "- http://paprr.co/\n",
    "\n",
    "### Links\n",
    "- http://nltk.org\n",
    "- http://nltk.org/book\n",
    "- http://www.radimrehurek.com/gensim\n",
    "- http://scikit-learn.org/stable/\n",
    "- http://www.spacy.io (http://nicschrading.com/project/Intro-to-NLP-with-spaCy/)"
   ]
  }
 ],
 "metadata": {
  "celltoolbar": "Slideshow",
  "kernelspec": {
   "display_name": "Python 3",
   "language": "python",
   "name": "python3"
  },
  "language_info": {
   "codemirror_mode": {
    "name": "ipython",
    "version": 3
   },
   "file_extension": ".py",
   "mimetype": "text/x-python",
   "name": "python",
   "nbconvert_exporter": "python",
   "pygments_lexer": "ipython3",
   "version": "3.4.3"
  }
 },
 "nbformat": 4,
 "nbformat_minor": 0
}
