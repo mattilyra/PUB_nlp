{
 "cells": [
  {
   "cell_type": "markdown",
   "metadata": {
    "slideshow": {
     "slide_type": "notes"
    }
   },
   "source": [
    "Dependencies:\n",
    "\n",
    "- numpy\n",
    "- scipy\n",
    "- nltk\n",
    "- sklearn\n",
    "- matplotlib\n",
    "- pandas\n",
    "- gensim\n",
    "- networkx\n",
    "- graphviz\n",
    "- libtool\n",
    "\n",
    "\n",
    "```\n",
    "$brew install libtool\n",
    "$conda create -n PUB_NLP python=3 numpy scipy nltk sklearn matplotlib pandas gensim networkx graphviz\n",
    "$source activate PUB_NLP\n",
    "```\n",
    "\n",
    "_On OsX use_ `brew` _on GNU/linux_ `apt-get` _or_ `yum` _to install_ `libtool` _if needed_"
   ]
  },
  {
   "cell_type": "code",
   "execution_count": 1,
   "metadata": {
    "collapsed": false,
    "slideshow": {
     "slide_type": "skip"
    }
   },
   "outputs": [],
   "source": [
    "%matplotlib inline"
   ]
  },
  {
   "cell_type": "markdown",
   "metadata": {
    "slideshow": {
     "slide_type": "slide"
    }
   },
   "source": [
    "# NLP and Python\n",
    "### Python Users Berlin 29.9.2015\n",
    "\n",
    "- Matti Lyra\n",
    "- @mattilyra\n",
    "- m.lyra@sussex.ac.uk\n",
    "- https://github.com/mattilyra/PUB_nlp"
   ]
  },
  {
   "cell_type": "markdown",
   "metadata": {
    "slideshow": {
     "slide_type": "slide"
    }
   },
   "source": [
    "# University of Sussex\n",
    "## Text Analytics Lab\n",
    "\n",
    "- 7 PhD Students\n",
    "- 4 Research Fellows\n",
    "- Active in academic research and industrial applications"
   ]
  },
  {
   "cell_type": "markdown",
   "metadata": {
    "slideshow": {
     "slide_type": "slide"
    }
   },
   "source": [
    "![Paprr](./paprr.1.png)"
   ]
  },
  {
   "cell_type": "markdown",
   "metadata": {
    "slideshow": {
     "slide_type": "subslide"
    }
   },
   "source": [
    "## currently in public beta\n",
    "### www.paprr.co\n"
   ]
  },
  {
   "cell_type": "markdown",
   "metadata": {
    "slideshow": {
     "slide_type": "slide"
    }
   },
   "source": [
    "# Python and NLP\n",
    "\n",
    "### http://www.nltk.org/book/\n",
    "\n",
    "- `NLTK` / `sklearn` / `gensim`\n",
    "- An overview of NLP tools in Python\n",
    "    - strings to things (segmentation, tokenisation, text normalisation)\n",
    "    - feature frequencies (smoothing, TF-IDF)\n",
    "    - part-of-speech tagging\n",
    "    - document classification (sentiment analysis)\n",
    "    - information extraction\n",
    "    - language models / deep learning\n",
    "    - topic modelling"
   ]
  },
  {
   "cell_type": "code",
   "execution_count": 39,
   "metadata": {
    "collapsed": false,
    "slideshow": {
     "slide_type": "slide"
    }
   },
   "outputs": [
    {
     "data": {
      "text/plain": [
       "\"Llobj Imprj fp pfjmiv arjjv qbuq lc qeb mofkqfkd xka qvmbpbqqfkd fkarpqov. Llobj Imprj exp ybbk qeb fkarpqov'p pqxkaxoa arjjv qbuq bsbo pfkzb qeb 1500p, tebk xk rkhkltk mofkqbo qllh x dxiibv lc qvmb xka pzoxjyiba fq ql jxhb x qvmb pmbzfjbk yllh. Iq exp prosfsba klq lkiv cfsb zbkqrofbp, yrq xipl qeb ibxm fkql bibzqolkfz qvmbpbqqfkd, objxfkfkd bppbkqfxiiv rkzexkdba. Iq txp mlmrixofpba fk qeb 1960p tfqe qeb obibxpb lc Lbqoxpbq pebbqp zlkqxfkfkd Llobj Imprj mxppxdbp, xka jlob obzbkqiv tfqe abphqlm mryifpefkd plcqtxob ifhb Aiarp PxdbMxhbo fkzirafkd sbopflkp lc Llobj Imprj.\""
      ]
     },
     "execution_count": 39,
     "metadata": {},
     "output_type": "execute_result"
    }
   ],
   "source": [
    "from string import ascii_lowercase as lower\n",
    "\n",
    "lipsum = \"Lorem Ipsum is simply dummy text of the printing and typesetting industry. Lorem Ipsum has been the industry's standard dummy text ever since the 1500s, when an unknown printer took a galley of type and scrambled it to make a type specimen book. It has survived not only five centuries, but also the leap into electronic typesetting, remaining essentially unchanged. It was popularised in the 1960s with the release of Letraset sheets containing Lorem Ipsum passages, and more recently with desktop publishing software like Aldus PageMaker including versions of Lorem Ipsum.\"\n",
    "lfmprj = ''.join([lower[lower.index(c) - 3] if c in set(lower) else c for c in lipsum])\n",
    "lfmprj"
   ]
  },
  {
   "cell_type": "code",
   "execution_count": 40,
   "metadata": {
    "collapsed": false,
    "slideshow": {
     "slide_type": "subslide"
    }
   },
   "outputs": [
    {
     "data": {
      "text/plain": [
       "['Llobj Imprj fp pfjmiv arjjv qbuq lc qeb mofkqfkd xka qvmbpbqqfkd fkarpqov.',\n",
       " \"Llobj Imprj exp ybbk qeb fkarpqov'p pqxkaxoa arjjv qbuq bsbo pfkzb qeb 1500p, tebk xk rkhkltk mofkqbo qllh x dxiibv lc qvmb xka pzoxjyiba fq ql jxhb x qvmb pmbzfjbk yllh.\",\n",
       " 'Iq exp prosfsba klq lkiv cfsb zbkqrofbp, yrq xipl qeb ibxm fkql bibzqolkfz qvmbpbqqfkd, objxfkfkd bppbkqfxiiv rkzexkdba.',\n",
       " 'Iq txp mlmrixofpba fk qeb 1960p tfqe qeb obibxpb lc Lbqoxpbq pebbqp zlkqxfkfkd Llobj Imprj mxppxdbp, xka jlob obzbkqiv tfqe abphqlm mryifpefkd plcqtxob ifhb Aiarp PxdbMxhbo fkzirafkd sbopflkp lc Llobj Imprj.']"
      ]
     },
     "execution_count": 40,
     "metadata": {},
     "output_type": "execute_result"
    }
   ],
   "source": [
    "from nltk.tokenize import sent_tokenize\n",
    "\n",
    "sentences = sent_tokenize(lfmprj)\n",
    "sentences[:5]"
   ]
  },
  {
   "cell_type": "code",
   "execution_count": 41,
   "metadata": {
    "collapsed": false,
    "slideshow": {
     "slide_type": "subslide"
    }
   },
   "outputs": [
    {
     "data": {
      "text/plain": [
       "['Llobj',\n",
       " 'Imprj',\n",
       " 'fp',\n",
       " 'pfjmiv',\n",
       " 'arjjv',\n",
       " 'qbuq',\n",
       " 'lc',\n",
       " 'qeb',\n",
       " 'mofkqfkd',\n",
       " 'xka',\n",
       " 'qvmbpbqqfkd',\n",
       " 'fkarpqov',\n",
       " '.',\n",
       " 'Llobj',\n",
       " 'Imprj']"
      ]
     },
     "execution_count": 41,
     "metadata": {},
     "output_type": "execute_result"
    }
   ],
   "source": [
    "from nltk.tokenize import word_tokenize\n",
    "\n",
    "words = word_tokenize(lfmprj)\n",
    "words[:15]"
   ]
  },
  {
   "cell_type": "code",
   "execution_count": 42,
   "metadata": {
    "collapsed": false,
    "slideshow": {
     "slide_type": "subslide"
    }
   },
   "outputs": [
    {
     "data": {
      "text/plain": [
       "['pos/cv302_25649.txt',\n",
       " 'neg/cv607_8235.txt',\n",
       " 'neg/cv379_23167.txt',\n",
       " 'neg/cv143_21158.txt',\n",
       " 'pos/cv429_7439.txt',\n",
       " 'pos/cv617_9322.txt',\n",
       " 'neg/cv693_19147.txt',\n",
       " 'neg/cv335_16299.txt',\n",
       " 'pos/cv290_11084.txt',\n",
       " 'neg/cv743_17023.txt']"
      ]
     },
     "execution_count": 42,
     "metadata": {},
     "output_type": "execute_result"
    }
   ],
   "source": [
    "from nltk.corpus import movie_reviews\n",
    "movie_reviews.fileids()[:10]"
   ]
  },
  {
   "cell_type": "code",
   "execution_count": 43,
   "metadata": {
    "collapsed": false,
    "slideshow": {
     "slide_type": "slide"
    }
   },
   "outputs": [
    {
     "name": "stdout",
     "output_type": "stream",
     "text": [
      "that's exactly how long the movie felt to me . \n",
      "there weren't even nine laughs in nine months . \n",
      "it's a terrible mess of a movie starring a terrible mess of a man , mr . hugh grant , a huge dork . \n",
      "it's not the whole oral-sex/prostitution thing ( referring to grant , not me ) that bugs me , it's the fact that grant is annoying . \n",
      "not just adam sandler-annoying , we're talking jim carrey-annoying . \n",
      "since when do eye flutters and nervous smiles pass for acting ? \n",
      "but , on the other hand , since w\n"
     ]
    }
   ],
   "source": [
    "print(movie_reviews.raw('neg/cv007_4992.txt')[:500])"
   ]
  },
  {
   "cell_type": "markdown",
   "metadata": {
    "slideshow": {
     "slide_type": "notes"
    }
   },
   "source": [
    "- everything is already lowercase"
   ]
  },
  {
   "cell_type": "code",
   "execution_count": 44,
   "metadata": {
    "collapsed": false,
    "scrolled": true,
    "slideshow": {
     "slide_type": "subslide"
    }
   },
   "outputs": [
    {
     "data": {
      "text/plain": [
       "[\"that's exactly how long the movie felt to me .\",\n",
       " \"there weren't even nine laughs in nine months .\",\n",
       " \"it's a terrible mess of a movie starring a terrible mess of a man , mr .\",\n",
       " 'hugh grant , a huge dork .',\n",
       " \"it's not the whole oral-sex/prostitution thing ( referring to grant , not me ) that bugs me , it's the fact that grant is annoying .\"]"
      ]
     },
     "execution_count": 44,
     "metadata": {},
     "output_type": "execute_result"
    }
   ],
   "source": [
    "review = movie_reviews.raw('neg/cv007_4992.txt')\n",
    "sentences = sent_tokenize(review)\n",
    "sentences[:5]"
   ]
  },
  {
   "cell_type": "code",
   "execution_count": 45,
   "metadata": {
    "collapsed": false,
    "scrolled": true,
    "slideshow": {
     "slide_type": "subslide"
    }
   },
   "outputs": [
    {
     "data": {
      "text/plain": [
       "[['that',\n",
       "  \"'s\",\n",
       "  'exactly',\n",
       "  'how',\n",
       "  'long',\n",
       "  'the',\n",
       "  'movie',\n",
       "  'felt',\n",
       "  'to',\n",
       "  'me',\n",
       "  '.'],\n",
       " ['there',\n",
       "  'were',\n",
       "  \"n't\",\n",
       "  'even',\n",
       "  'nine',\n",
       "  'laughs',\n",
       "  'in',\n",
       "  'nine',\n",
       "  'months',\n",
       "  '.']]"
      ]
     },
     "execution_count": 45,
     "metadata": {},
     "output_type": "execute_result"
    }
   ],
   "source": [
    "import re\n",
    "from nltk.tokenize import word_tokenize\n",
    "\n",
    "review_words = [word_tokenize(s) for s in sentences]\n",
    "review_words[:2] # list of lists of strings"
   ]
  },
  {
   "cell_type": "code",
   "execution_count": 46,
   "metadata": {
    "collapsed": false,
    "slideshow": {
     "slide_type": "fragment"
    }
   },
   "outputs": [
    {
     "data": {
      "text/plain": [
       "['that', \"'\", 's', 'exactly', 'how', 'long', 'the', 'movie', 'felt', 'to']"
      ]
     },
     "execution_count": 46,
     "metadata": {},
     "output_type": "execute_result"
    }
   ],
   "source": [
    "review_words = movie_reviews.words('neg/cv007_4992.txt')\n",
    "review_words[:10] # list of strings"
   ]
  },
  {
   "cell_type": "code",
   "execution_count": 47,
   "metadata": {
    "collapsed": false,
    "slideshow": {
     "slide_type": "slide"
    }
   },
   "outputs": [
    {
     "data": {
      "text/plain": [
       "<Text: that ' s exactly how long the movie...>"
      ]
     },
     "execution_count": 47,
     "metadata": {},
     "output_type": "execute_result"
    }
   ],
   "source": [
    "from nltk.text import Text\n",
    "\n",
    "review = Text(review_words)\n",
    "review"
   ]
  },
  {
   "cell_type": "code",
   "execution_count": 48,
   "metadata": {
    "collapsed": false,
    "slideshow": {
     "slide_type": "subslide"
    }
   },
   "outputs": [
    {
     "name": "stdout",
     "output_type": "stream",
     "text": [
      "Displaying 7 of 7 matches:\n",
      "                                     movie felt to me . there weren ' t even ni\n",
      "months . it ' s a terrible mess of a movie starring a terrible mess of a man , \n",
      "he paid $ 60 to have included in the movie ) and obscene double entendres ( rob\n",
      "to have the exchange included in the movie ) pass for comedy ? nine months is a\n",
      "ths is a predictable cookie - cutter movie with no originality in humor or plot\n",
      "he only interesting character in the movie is played by jeff goldblum , who sho\n",
      "s nervous smiles . everything in the movie is so forced , so unauthentic that a\n"
     ]
    }
   ],
   "source": [
    "review.concordance('movie')"
   ]
  },
  {
   "cell_type": "code",
   "execution_count": 49,
   "metadata": {
    "collapsed": false,
    "slideshow": {
     "slide_type": "subslide"
    }
   },
   "outputs": [
    {
     "name": "stdout",
     "output_type": "stream",
     "text": [
      "nine months; nervous smiles; robin williams; ten year; terrible mess;\n",
      "year olds; annoying friend; hugh grant\n"
     ]
    }
   ],
   "source": [
    "review.collocations()"
   ]
  },
  {
   "cell_type": "code",
   "execution_count": 50,
   "metadata": {
    "collapsed": false,
    "slideshow": {
     "slide_type": "fragment"
    }
   },
   "outputs": [
    {
     "name": "stdout",
     "output_type": "stream",
     "text": [
      "the_) the_is the_felt cutter_with a_starring\n"
     ]
    }
   ],
   "source": [
    "review.common_contexts(['movie'])"
   ]
  },
  {
   "cell_type": "code",
   "execution_count": 51,
   "metadata": {
    "collapsed": false,
    "slideshow": {
     "slide_type": "fragment"
    }
   },
   "outputs": [
    {
     "name": "stdout",
     "output_type": "stream",
     "text": [
      "interesting_in joke_--\n"
     ]
    }
   ],
   "source": [
    "review.common_contexts(['character'])"
   ]
  },
  {
   "cell_type": "code",
   "execution_count": 52,
   "metadata": {
    "collapsed": true,
    "slideshow": {
     "slide_type": "slide"
    }
   },
   "outputs": [],
   "source": [
    "from nltk.probability import FreqDist\n",
    "fdist = FreqDist(review)"
   ]
  },
  {
   "cell_type": "code",
   "execution_count": 53,
   "metadata": {
    "collapsed": false,
    "slideshow": {
     "slide_type": "fragment"
    }
   },
   "outputs": [
    {
     "data": {
      "text/plain": [
       "[(',', 40),\n",
       " ('the', 31),\n",
       " ('.', 23),\n",
       " ('a', 23),\n",
       " (\"'\", 21),\n",
       " ('-', 18),\n",
       " ('s', 16),\n",
       " ('in', 14),\n",
       " ('grant', 12),\n",
       " ('is', 11)]"
      ]
     },
     "execution_count": 53,
     "metadata": {},
     "output_type": "execute_result"
    }
   ],
   "source": [
    "fdist.most_common(n=10)"
   ]
  },
  {
   "cell_type": "code",
   "execution_count": 54,
   "metadata": {
    "collapsed": false,
    "slideshow": {
     "slide_type": "fragment"
    }
   },
   "outputs": [
    {
     "data": {
      "text/plain": [
       "(748, 225, 53, 17, 5, 9)"
      ]
     },
     "execution_count": 54,
     "metadata": {},
     "output_type": "execute_result"
    }
   ],
   "source": [
    "fdist.N(), fdist.Nr(1), fdist.Nr(2), fdist.Nr(3), fdist.Nr(4), fdist.Nr(5)"
   ]
  },
  {
   "cell_type": "code",
   "execution_count": 55,
   "metadata": {
    "collapsed": false,
    "scrolled": true,
    "slideshow": {
     "slide_type": "subslide"
    }
   },
   "outputs": [
    {
     "data": {
      "image/png": "[encoded data removed]",
      "text/plain": [
       "<matplotlib.figure.Figure at 0x1143ea278>"
      ]
     },
     "metadata": {},
     "output_type": "display_data"
    }
   ],
   "source": [
    "import seaborn as sns\n",
    "\n",
    "xs = [i for i in range(1000) if fdist.Nr(i) > 0]\n",
    "ys = [fdist.Nr(i) for i in xs]\n",
    "sns.plt.loglog(xs, ys);\n",
    "sns.plt.xlabel('Frequency'); sns.plt.ylabel('Number of Types');"
   ]
  },
  {
   "cell_type": "code",
   "execution_count": 58,
   "metadata": {
    "collapsed": false,
    "slideshow": {
     "slide_type": "slide"
    }
   },
   "outputs": [
    {
     "name": "stdout",
     "output_type": "stream",
     "text": [
      "special effects; new york; star wars; high school; science fiction;\n",
      "even though; hong kong; star trek; pulp fiction; phantom menace; van\n",
      "damme; united states; starship troopers; box office; jackie chan;\n",
      "years ago; supporting cast; blair witch; boogie nights; las vegas\n"
     ]
    }
   ],
   "source": [
    "all_reviews = Text(movie_reviews.words())\n",
    "all_reviews.collocations()"
   ]
  },
  {
   "cell_type": "code",
   "execution_count": 59,
   "metadata": {
    "collapsed": false,
    "slideshow": {
     "slide_type": "fragment"
    }
   },
   "outputs": [
    {
     "name": "stdout",
     "output_type": "stream",
     "text": [
      "nine months; nervous smiles; robin williams; ten year; terrible mess;\n",
      "year olds; annoying friend; hugh grant\n"
     ]
    }
   ],
   "source": [
    "review.collocations()"
   ]
  },
  {
   "cell_type": "code",
   "execution_count": 60,
   "metadata": {
    "collapsed": false,
    "slideshow": {
     "slide_type": "fragment"
    }
   },
   "outputs": [
    {
     "data": {
      "text/plain": [
       "1583820"
      ]
     },
     "execution_count": 60,
     "metadata": {},
     "output_type": "execute_result"
    }
   ],
   "source": [
    "fdist = FreqDist(w.lower() for w in movie_reviews.words())\n",
    "fdist.N()"
   ]
  },
  {
   "cell_type": "code",
   "execution_count": 61,
   "metadata": {
    "collapsed": false,
    "scrolled": true,
    "slideshow": {
     "slide_type": "fragment"
    }
   },
   "outputs": [
    {
     "data": {
      "text/plain": [
       "[(',', 77717),\n",
       " ('the', 76529),\n",
       " ('.', 65876),\n",
       " ('a', 38106),\n",
       " ('and', 35576),\n",
       " ('of', 34123),\n",
       " ('to', 31937),\n",
       " (\"'\", 30585),\n",
       " ('is', 25195),\n",
       " ('in', 21822)]"
      ]
     },
     "execution_count": 61,
     "metadata": {},
     "output_type": "execute_result"
    }
   ],
   "source": [
    "fdist.most_common(n=10)"
   ]
  },
  {
   "cell_type": "code",
   "execution_count": 62,
   "metadata": {
    "collapsed": false,
    "scrolled": false,
    "slideshow": {
     "slide_type": "subslide"
    }
   },
   "outputs": [
    {
     "data": {
      "image/png": "[encoded data removed]",
      "text/plain": [
       "<matplotlib.figure.Figure at 0x1249bb7b8>"
      ]
     },
     "metadata": {},
     "output_type": "display_data"
    }
   ],
   "source": [
    "import seaborn as sns\n",
    "\n",
    "xs = [i for i in range(1000) if fdist.Nr(i) > 0]\n",
    "ys = [fdist.Nr(i) for i in xs]\n",
    "sns.plt.loglog(xs, ys);\n",
    "sns.plt.xlabel('Frequency'); sns.plt.ylabel('Number of Types');"
   ]
  },
  {
   "cell_type": "markdown",
   "metadata": {
    "slideshow": {
     "slide_type": "notes"
    }
   },
   "source": [
    "- as the size of the corpus approaches infinity, the number of tokens that have appeared once approaches half the vocabulary."
   ]
  },
  {
   "cell_type": "markdown",
   "metadata": {
    "slideshow": {
     "slide_type": "slide"
    }
   },
   "source": [
    "# Sentiment Classification\n",
    "\n",
    "## Classify movie reviews into positive / negative"
   ]
  },
  {
   "cell_type": "code",
   "execution_count": 22,
   "metadata": {
    "collapsed": false,
    "slideshow": {
     "slide_type": "fragment"
    }
   },
   "outputs": [
    {
     "data": {
      "text/plain": [
       "['neg', 'pos']"
      ]
     },
     "execution_count": 22,
     "metadata": {},
     "output_type": "execute_result"
    }
   ],
   "source": [
    "movie_reviews.categories()"
   ]
  },
  {
   "cell_type": "markdown",
   "metadata": {
    "slideshow": {
     "slide_type": "fragment"
    }
   },
   "source": [
    "### Naive Bayes\n",
    "\n",
    "$$P(C=\\mbox{'pos'}\\,|\\, \\vec{x}) = P(C=\\mbox{'pos'}) \\prod_{i=1}^n P(x_i\\,|\\,C=\\mbox{'pos'})$$"
   ]
  },
  {
   "cell_type": "markdown",
   "metadata": {
    "slideshow": {
     "slide_type": "notes"
    }
   },
   "source": [
    "- multiplying lost of probabilities together (underflow)\n",
    "- more feeatures means smaller numbers"
   ]
  },
  {
   "cell_type": "markdown",
   "metadata": {
    "slideshow": {
     "slide_type": "subslide"
    }
   },
   "source": [
    "<table>\n",
    "<tr><th>documents</th><th colspan=7><center>features</center></th></tr>\n",
    "<tr><td></td> <td>,</td><td>the</td><td>.</td><td>a</td><td>and</td><td>of</td><td>to</td></tr>\n",
    "<tr><td>0</td> <td>0</td><td>0</td><td>2</td><td>1</td><td>0</td><td>0</td><td>1</td></tr>\n",
    "<tr><td>1</td> <td>1</td><td>0</td><td>1</td><td>0</td><td>1</td><td>0</td><td>0</td></tr>\n",
    "<tr><td>2</td> <td>0</td><td>5</td><td>0</td><td>3</td><td>1</td><td>0</td><td>0</td></tr>\n",
    "</table>"
   ]
  },
  {
   "cell_type": "markdown",
   "metadata": {
    "slideshow": {
     "slide_type": "subslide"
    }
   },
   "source": [
    "<table>\n",
    "<tr><th>documents</th><th colspan=7><center>features</center></th></tr>\n",
    "<tr><td></td> <td>0</td><td>1</td><td>2</td><td>3</td><td>4</td><td>5</td><td>6</td></tr>\n",
    "<tr><td>0</td> <td>0</td><td>0</td><td>2</td><td>1</td><td>0</td><td>0</td><td>1</td></tr>\n",
    "<tr><td>1</td> <td>1</td><td>0</td><td>1</td><td>0</td><td>1</td><td>0</td><td>0</td></tr>\n",
    "<tr><td>2</td> <td>0</td><td>5</td><td>0</td><td>3</td><td>1</td><td>0</td><td>0</td></tr>\n",
    "</table>"
   ]
  },
  {
   "cell_type": "code",
   "execution_count": 8,
   "metadata": {
    "collapsed": false,
    "slideshow": {
     "slide_type": "subslide"
    }
   },
   "outputs": [],
   "source": [
    "import random\n",
    "\n",
    "fileids = movie_reviews.fileids()\n",
    "random.shuffle(fileids)\n",
    "train_fileids = [(fid, fid[:3]) for fid in fileids[300:]]\n",
    "test_fileids = [(fid, fid[:3]) for fid in fileids[:300]]\n",
    "\n",
    "train_features = set(w for w in movie_reviews.words(fileids=[fid for fid, _ in train_fileids]))\n",
    "\n",
    "# turn review into bag of words for Naive Bayes\n",
    "def review_features(fileid):\n",
    "    words = [w for w in movie_reviews.words(fileid) if w in train_features]\n",
    "    document_features = {w: 1 for w in words}\n",
    "    return document_features"
   ]
  },
  {
   "cell_type": "code",
   "execution_count": 9,
   "metadata": {
    "collapsed": true,
    "slideshow": {
     "slide_type": "subslide"
    }
   },
   "outputs": [],
   "source": [
    "from nltk import classify\n",
    "nb = classify.NaiveBayesClassifier.train((review_features(fileid), c) for fileid, c in train_fileids)"
   ]
  },
  {
   "cell_type": "code",
   "execution_count": 10,
   "metadata": {
    "collapsed": false,
    "slideshow": {
     "slide_type": "fragment"
    }
   },
   "outputs": [
    {
     "data": {
      "text/plain": [
       "0.7166666666666667"
      ]
     },
     "execution_count": 10,
     "metadata": {},
     "output_type": "execute_result"
    }
   ],
   "source": [
    "classify.accuracy(nb, [(review_features(fileid), c) for fileid, c in test_fileids])"
   ]
  },
  {
   "cell_type": "code",
   "execution_count": 11,
   "metadata": {
    "collapsed": false,
    "scrolled": true,
    "slideshow": {
     "slide_type": "fragment"
    }
   },
   "outputs": [
    {
     "name": "stdout",
     "output_type": "stream",
     "text": [
      "Most Informative Features\n",
      "             outstanding = 1                 pos : neg    =     21.5 : 1.0\n",
      "            breathtaking = 1                 pos : neg    =     13.0 : 1.0\n",
      "                  avoids = 1                 pos : neg    =     12.6 : 1.0\n",
      "               ludicrous = 1                 neg : pos    =     12.6 : 1.0\n",
      "                dazzling = 1                 pos : neg    =     11.3 : 1.0\n",
      "              astounding = 1                 pos : neg    =     10.7 : 1.0\n",
      "                  regard = 1                 pos : neg    =     10.7 : 1.0\n",
      "               animators = 1                 pos : neg    =     10.0 : 1.0\n",
      "                headache = 1                 neg : pos    =     10.0 : 1.0\n",
      "              schumacher = 1                 neg : pos    =     10.0 : 1.0\n"
     ]
    }
   ],
   "source": [
    "nb.show_most_informative_features(10)"
   ]
  },
  {
   "cell_type": "code",
   "execution_count": 12,
   "metadata": {
    "collapsed": false,
    "slideshow": {
     "slide_type": "subslide"
    }
   },
   "outputs": [],
   "source": [
    "import sklearn\n",
    "from sklearn import pipeline\n",
    "from sklearn import naive_bayes\n",
    "from nltk.classify.scikitlearn import SklearnClassifier\n",
    "\n",
    "pipeline = sklearn.pipeline.Pipeline([('clf', sklearn.naive_bayes.MultinomialNB())])\n",
    "sklearn_mnb = SklearnClassifier(pipeline)\n",
    "sklearn_mnb = sklearn_mnb.train((review_features(fileid), c) for fileid, c in train_fileids)"
   ]
  },
  {
   "cell_type": "code",
   "execution_count": 13,
   "metadata": {
    "collapsed": false,
    "scrolled": true,
    "slideshow": {
     "slide_type": "fragment"
    }
   },
   "outputs": [
    {
     "data": {
      "text/plain": [
       "0.8066666666666666"
      ]
     },
     "execution_count": 13,
     "metadata": {},
     "output_type": "execute_result"
    }
   ],
   "source": [
    "classify.accuracy(sklearn_mnb, [(review_features(fileid), c) for fileid, c in test_fileids])"
   ]
  },
  {
   "cell_type": "code",
   "execution_count": 14,
   "metadata": {
    "collapsed": true,
    "slideshow": {
     "slide_type": "subslide"
    }
   },
   "outputs": [],
   "source": [
    "from nltk.corpus import stopwords\n",
    "\n",
    "stopwords_english = set(stopwords.words('english'))\n",
    "\n",
    "def keep_feature(w):\n",
    "    keep = w not in stopwords_english\n",
    "    keep = keep and w.isalpha()\n",
    "    return keep and w in train_features\n",
    "\n",
    "def review_features(fileid):\n",
    "    words = [w for w in movie_reviews.words(fileid) if keep_feature(w)]\n",
    "    document_features = {w: 1 for w in words}\n",
    "    return document_features"
   ]
  },
  {
   "cell_type": "code",
   "execution_count": 15,
   "metadata": {
    "collapsed": false,
    "slideshow": {
     "slide_type": "fragment"
    }
   },
   "outputs": [
    {
     "data": {
      "text/plain": [
       "0.6966666666666667"
      ]
     },
     "execution_count": 15,
     "metadata": {},
     "output_type": "execute_result"
    }
   ],
   "source": [
    "nb = classify.NaiveBayesClassifier.train((review_features(fileid), c) for fileid, c in train_fileids)\n",
    "classify.accuracy(nb, [(review_features(fileid), c) for fileid, c in test_fileids])"
   ]
  },
  {
   "cell_type": "code",
   "execution_count": 16,
   "metadata": {
    "collapsed": false,
    "slideshow": {
     "slide_type": "fragment"
    }
   },
   "outputs": [
    {
     "data": {
      "text/plain": [
       "0.8033333333333333"
      ]
     },
     "execution_count": 16,
     "metadata": {},
     "output_type": "execute_result"
    }
   ],
   "source": [
    "sklearn_classif = SklearnClassifier(pipeline)\n",
    "sklearn_classif.train((review_features(fileid), c) for fileid, c in train_fileids)\n",
    "classify.accuracy(sklearn_classif, [(review_features(fileid), c) for fileid, c in test_fileids])"
   ]
  },
  {
   "cell_type": "code",
   "execution_count": 17,
   "metadata": {
    "collapsed": false,
    "slideshow": {
     "slide_type": "subslide"
    }
   },
   "outputs": [
    {
     "data": {
      "text/plain": [
       "0.7733333333333333"
      ]
     },
     "execution_count": 17,
     "metadata": {},
     "output_type": "execute_result"
    }
   ],
   "source": [
    "from sklearn.feature_extraction.text import TfidfTransformer\n",
    "from nltk import probability\n",
    "\n",
    "def review_features(fileid):\n",
    "    words = [w for w in movie_reviews.words(fileid) if keep_feature(w)]\n",
    "    fdist = probability.FreqDist(words)\n",
    "    document_features = {w: fdist[w] for w in words}\n",
    "    return document_features\n",
    "\n",
    "pipeline = sklearn.pipeline.Pipeline([('tfidf', TfidfTransformer(norm='l2')),\n",
    "                                      ('clf', sklearn.naive_bayes.MultinomialNB())])\n",
    "sklearn_mnb = SklearnClassifier(pipeline)\n",
    "sklearn_mnb.train((review_features(fileid), c) for fileid, c in train_fileids)\n",
    "classify.accuracy(sklearn_mnb, [(review_features(fileid), c) for fileid, c in test_fileids])"
   ]
  },
  {
   "cell_type": "markdown",
   "metadata": {
    "slideshow": {
     "slide_type": "subslide"
    }
   },
   "source": [
    "# Feature Values: boolean, raw frequency, TFIDF"
   ]
  },
  {
   "cell_type": "markdown",
   "metadata": {
    "slideshow": {
     "slide_type": "fragment"
    }
   },
   "source": [
    "$$tfidf(t, d, D) = tf(t,d) \\times idf(t, D) $$"
   ]
  },
  {
   "cell_type": "markdown",
   "metadata": {
    "slideshow": {
     "slide_type": "fragment"
    }
   },
   "source": [
    "$$idf(t, D) = \\log{\\frac{N}{|\\{d \\in D : t \\in d\\}|}}$$"
   ]
  },
  {
   "cell_type": "code",
   "execution_count": 18,
   "metadata": {
    "collapsed": false,
    "slideshow": {
     "slide_type": "subslide"
    }
   },
   "outputs": [
    {
     "data": {
      "text/plain": [
       "0.7833333333333333"
      ]
     },
     "execution_count": 18,
     "metadata": {},
     "output_type": "execute_result"
    }
   ],
   "source": [
    "from sklearn.feature_selection import chi2, SelectKBest\n",
    "\n",
    "pipeline = sklearn.pipeline.Pipeline([('chi2', SelectKBest(chi2, k=5000)),\n",
    "                                      ('tfidf', TfidfTransformer(norm='l2')),\n",
    "                                      ('clf', sklearn.naive_bayes.MultinomialNB())])\n",
    "sklearn_mnb = SklearnClassifier(pipeline)\n",
    "sklearn_mnb.train((review_features(fileid), c) for fileid, c in train_fileids)\n",
    "classify.accuracy(sklearn_mnb, [(review_features(fileid), c) for fileid, c in test_fileids])"
   ]
  },
  {
   "cell_type": "markdown",
   "metadata": {
    "slideshow": {
     "slide_type": "notes"
    }
   },
   "source": [
    "- added parameters, more complex to fit the model\n",
    "- need to do crossvalidation"
   ]
  },
  {
   "cell_type": "code",
   "execution_count": 19,
   "metadata": {
    "collapsed": false,
    "slideshow": {
     "slide_type": "fragment"
    }
   },
   "outputs": [
    {
     "data": {
      "text/plain": [
       "0.79"
      ]
     },
     "execution_count": 19,
     "metadata": {},
     "output_type": "execute_result"
    }
   ],
   "source": [
    "pipeline = sklearn.pipeline.Pipeline([('tfidf', TfidfTransformer(norm='l2')),\n",
    "                                      ('clf', sklearn.svm.LinearSVC())])\n",
    "sklearn_mnb = SklearnClassifier(pipeline)\n",
    "sklearn_mnb.train((review_features(fileid), c) for fileid, c in train_fileids)\n",
    "classify.accuracy(sklearn_mnb, [(review_features(fileid), c) for fileid, c in test_fileids])"
   ]
  },
  {
   "cell_type": "code",
   "execution_count": 20,
   "metadata": {
    "collapsed": false,
    "slideshow": {
     "slide_type": "fragment"
    }
   },
   "outputs": [
    {
     "data": {
      "text/plain": [
       "0.6166666666666667"
      ]
     },
     "execution_count": 20,
     "metadata": {},
     "output_type": "execute_result"
    }
   ],
   "source": [
    "from sklearn import tree\n",
    "pipeline = sklearn.pipeline.Pipeline([('tfidf', TfidfTransformer(norm='l2')),\n",
    "                                      ('clf', sklearn.tree.DecisionTreeClassifier())])\n",
    "sklearn_mnb = SklearnClassifier(pipeline)\n",
    "sklearn_mnb.train((review_features(fileid), c) for fileid, c in train_fileids)\n",
    "classify.accuracy(sklearn_mnb, [(review_features(fileid), c) for fileid, c in test_fileids])"
   ]
  },
  {
   "cell_type": "markdown",
   "metadata": {
    "slideshow": {
     "slide_type": "slide"
    }
   },
   "source": [
    "# POS Tagging\n",
    "\n",
    "### Assign part-of-speech tags (`NN`, `NNP`, `NNS`, `JJ`, `VB`) to words. Default `nltk.tag.pos_tag` works pretty well (MaxEnt Tagger), but other are also available:\n",
    "\n",
    "- `nltk.tag.DefaultTagger(NN)`\n",
    "- `nltk.tag.UnigramTagger()`\n",
    "    - unigrams + backoff\n",
    "- `nltk.tag.HiddenMarkovModelTagger`\n",
    "- need annotated corpora (PennTreebank)"
   ]
  },
  {
   "cell_type": "code",
   "execution_count": 219,
   "metadata": {
    "collapsed": false,
    "slideshow": {
     "slide_type": "fragment"
    }
   },
   "outputs": [
    {
     "data": {
      "text/plain": [
       "[('this', 'DT'),\n",
       " ('talk', 'NN'),\n",
       " ('is', 'VBZ'),\n",
       " ('pretty', 'RB'),\n",
       " ('interesting', 'JJ')]"
      ]
     },
     "execution_count": 219,
     "metadata": {},
     "output_type": "execute_result"
    }
   ],
   "source": [
    "# http://www.ling.upenn.edu/courses/Fall_2003/ling001/penn_treebank_pos.html\n",
    "from nltk import pos_tag\n",
    "pos_tag(\"this talk is pretty interesting\".split())"
   ]
  },
  {
   "cell_type": "markdown",
   "metadata": {
    "slideshow": {
     "slide_type": "slide"
    }
   },
   "source": [
    "# Information Extraction\n",
    "\n",
    "## Named Entity Recognition\n",
    "\n",
    "### Named entities are bits of a sentence that correspond to some real world thing\n",
    "\n",
    "- Organisation\n",
    "- Geo Political Entity\n",
    "- Time\n",
    "- Person\n",
    "- Location"
   ]
  },
  {
   "cell_type": "code",
   "execution_count": 16,
   "metadata": {
    "collapsed": false,
    "slideshow": {
     "slide_type": "subslide"
    }
   },
   "outputs": [
    {
     "data": {
      "text/plain": [
       "'plot : two teen couples go to a church party , drink and then drive . \\nthey get into an accident . \\none of the guys dies , but his girlfriend continues to see him in her life , and has nightmares . \\nwhat\\'s the deal ? \\nwatch the movie and \" sorta \" find out . . . \\ncritique : a mind-fuck movie for the teen generation that touches on a very cool idea , but presents it in a very bad package . \\nwhich i'"
      ]
     },
     "execution_count": 16,
     "metadata": {},
     "output_type": "execute_result"
    }
   ],
   "source": [
    "from nltk import corpus\n",
    "corpus.movie_reviews.raw(corpus.movie_reviews.fileids()[0])[:400]"
   ]
  },
  {
   "cell_type": "code",
   "execution_count": 19,
   "metadata": {
    "collapsed": false,
    "slideshow": {
     "slide_type": "subslide"
    }
   },
   "outputs": [
    {
     "data": {
      "text/plain": [
       "'JAPAN TO REVISE LONG-TERM ENERGY DEMAND DOWNWARDS\\n  The Ministry of International Trade and\\n  Industry (MITI) will revise its long-term energy supply/demand\\n  outlook by August to meet a forecast downtrend in Japanese\\n  energy demand, ministry officials said.\\n      MITI is expected to lower the projection for primary energy\\n  supplies in the year 2000 to 550 mln kilolitres (kl) from 600\\n  mln, the'"
      ]
     },
     "execution_count": 19,
     "metadata": {},
     "output_type": "execute_result"
    }
   ],
   "source": [
    "corpus.reuters.raw(corpus.reuters.fileids()[2])[:400]"
   ]
  },
  {
   "cell_type": "code",
   "execution_count": 22,
   "metadata": {
    "collapsed": false,
    "slideshow": {
     "slide_type": "fragment"
    }
   },
   "outputs": [
    {
     "data": {
      "text/plain": [
       "\"INDONESIA SEES CPO PRICE RISING SHARPLY\\n  Indonesia expects crude palm oil (CPO)\\n  prices to rise sharply to between 450 and 550 dlrs a tonne FOB\\n  sometime this year because of better European demand and a fall\\n  in Malaysian output, Hasrul Harahap, junior minister for tree\\n  crops, told Indonesian reporters.\\n      Prices of Malaysian and Sumatran CPO are now around 332\\n  dlrs a tonne CIF for delivery in Rotterdam, traders said.\\n      Harahap said Indonesia would maintain its exports, despite\\n  making recent palm oil purchases from Malaysia, so that it\\n  could possibly increase its international market share.\\n      Indonesia, the world's second largest producer of palm oil\\n  after Malaysia, has been forced to import palm oil to ensure\\n  supplies during the Moslem fasting month of Ramadan.\\n      Harahap said it was better to import to cover a temporary\\n  shortage than to lose export markets.\\n      Indonesian exports of CPO in calendar 1986 were 530,500\\n  tonnes, against 468,500 in 1985, according to central bank\\n  figures.\\n  \\n\\n\""
      ]
     },
     "execution_count": 22,
     "metadata": {},
     "output_type": "execute_result"
    }
   ],
   "source": [
    "corpus.reuters.raw(corpus.reuters.fileids()[4])"
   ]
  },
  {
   "cell_type": "markdown",
   "metadata": {
    "slideshow": {
     "slide_type": "subslide"
    }
   },
   "source": [
    "`nltk.post_tag`\n",
    "`nltk.ne_chunk`"
   ]
  },
  {
   "cell_type": "code",
   "execution_count": 34,
   "metadata": {
    "collapsed": false,
    "slideshow": {
     "slide_type": "fragment"
    }
   },
   "outputs": [],
   "source": [
    "persons = set()\n",
    "sents = corpus.reuters.sents(fileids=corpus.reuters.fileids(categories=['grain']))\n",
    "for sent in sents:\n",
    "    chunks = nltk.ne_chunk(nltk.pos_tag(sent))\n",
    "    for chunk in chunks.subtrees():\n",
    "        if chunk.label() == 'PERSON' and len(chunk) > 1:\n",
    "            persons.add(tuple(chunk.leaves()))"
   ]
  },
  {
   "cell_type": "code",
   "execution_count": 24,
   "metadata": {
    "collapsed": false,
    "slideshow": {
     "slide_type": "subslide"
    }
   },
   "outputs": [
    {
     "data": {
      "text/plain": [
       "[(('John', 'NNP'), ('Danforth', 'NNP')),\n",
       " (('Treasury', 'NNP'), ('Bond', 'NNP')),\n",
       " (('Peter', 'NNP'), ('Baron', 'NNP')),\n",
       " (('Zhang', 'NNP'), ('Yan', 'NNP')),\n",
       " (('Export', 'NNP'), ('Enhancement', 'NNP')),\n",
       " (('Quaker', 'NNP'), ('Oats', 'NNP')),\n",
       " (('Jacques', 'NNP'), ('Chirac', 'NNP')),\n",
       " (('Economic', 'NNP'), ('Planning', 'NNP'), ('Agency', 'NNP')),\n",
       " (('Rahr', 'NNP'), ('Malting', 'NNP'), ('Co', 'NNP')),\n",
       " (('Tom', 'NNP'), ('Mulligan', 'NNP')),\n",
       " (('Dante', 'NNP'), ('Caputo', 'NNP')),\n",
       " (('Start', 'NNP'), ('Stcks', 'NNP')),\n",
       " (('Darwin', 'NNP'), ('E', 'NNP')),\n",
       " (('David', 'NNP'), ('Pryor', 'NNP')),\n",
       " (('Kika', 'NNP'), ('De', 'NNP'))]"
      ]
     },
     "execution_count": 24,
     "metadata": {},
     "output_type": "execute_result"
    }
   ],
   "source": [
    "import random\n",
    "list(random.sample(list(persons), k=15))"
   ]
  },
  {
   "cell_type": "code",
   "execution_count": 27,
   "metadata": {
    "collapsed": false,
    "slideshow": {
     "slide_type": "fragment"
    }
   },
   "outputs": [],
   "source": [
    "persons = set()\n",
    "sents = corpus.gutenberg.sents(fileids=['bible-kjv.txt'])\n",
    "for sent in sents:\n",
    "    chunks = nltk.ne_chunk(nltk.pos_tag(sent))\n",
    "    for chunk in chunks.subtrees():\n",
    "        if chunk.label() == 'PERSON' and len(chunk) > 1:\n",
    "            persons.add(tuple(chunk.leaves()))"
   ]
  },
  {
   "cell_type": "code",
   "execution_count": 33,
   "metadata": {
    "collapsed": false,
    "slideshow": {
     "slide_type": "subslide"
    }
   },
   "outputs": [
    {
     "data": {
      "text/plain": [
       "[(('Tyrus', 'NNP'), ('Nebuchadrezzar', 'NNP')),\n",
       " (('Eden', 'NNP'), ('Cherubims', 'NNP')),\n",
       " (('Saint', 'NNP'), ('Matthew', 'NNP')),\n",
       " (('Simon', 'NNP'), ('Peter', 'NNP')),\n",
       " (('Assuredly', 'NNP'), ('Solomon', 'NNP')),\n",
       " (('Curse', 'NNP'), ('David', 'NNP')),\n",
       " (('Anathema', 'NNP'), ('Maranatha', 'NNP')),\n",
       " (('Eglah', 'NNP'), ('David', 'NNP')),\n",
       " (('Hushai', 'NNP'), ('David', 'NNP')),\n",
       " (('Wherein', 'NNP'), ('God', 'NNP')),\n",
       " (('O', 'NNP'), ('Solomon', 'NNP')),\n",
       " (('James', 'NNP'), ('Bible', 'NNP')),\n",
       " (('Our', 'NNP'), ('Father', 'NNP')),\n",
       " (('Shimea', 'NNP'), ('David', 'NNP')),\n",
       " (('O', 'NNP'), ('Satan', 'NNP'))]"
      ]
     },
     "execution_count": 33,
     "metadata": {},
     "output_type": "execute_result"
    }
   ],
   "source": [
    "import random\n",
    "list(random.sample(list(persons), k=15))"
   ]
  },
  {
   "cell_type": "code",
   "execution_count": 35,
   "metadata": {
    "collapsed": false,
    "slideshow": {
     "slide_type": "subslide"
    }
   },
   "outputs": [
    {
     "name": "stdout",
     "output_type": "stream",
     "text": [
      "[('The', 'DT'),\n",
      " ('non', 'NN'),\n",
      " ('binding', 'VBG'),\n",
      " ('measure', 'NN'),\n",
      " ('asked', 'VBD'),\n",
      " ('for', 'IN'),\n",
      " ('a', 'DT'),\n",
      " ('probe', 'NN'),\n",
      " ('by', 'IN'),\n",
      " ('the', 'DT'),\n",
      " ('U', 'NNP'),\n",
      " ('.', '.'),\n",
      " ('S', 'NNP'),\n",
      " ('.', '.'),\n",
      " Tree('PERSON', [('Trade', 'NNP'), ('Representative', 'NNP')]),\n",
      " ('to', 'TO'),\n",
      " ('determine', 'VB'),\n",
      " ('within', 'IN'),\n",
      " ('30', 'CD'),\n",
      " ('days', 'NNS'),\n",
      " ('whether', 'IN'),\n",
      " ('the', 'DT'),\n",
      " ('tariff', 'NN'),\n",
      " ('violates', 'VBZ'),\n",
      " ('the', 'DT'),\n",
      " Tree('ORGANIZATION', [('General', 'NNP'), ('Agreement', 'NNP')]),\n",
      " ('on', 'IN'),\n",
      " Tree('PERSON', [('Tariffs', 'NNP')]),\n",
      " ('and', 'CC'),\n",
      " Tree('PERSON', [('Trade', 'NNP')]),\n",
      " (',', ','),\n",
      " ('and', 'CC'),\n",
      " ('if', 'IN'),\n",
      " ('so', 'RB'),\n",
      " ('recommend', 'VBP'),\n",
      " ('within', 'IN'),\n",
      " ('60', 'CD'),\n",
      " ('days', 'NNS'),\n",
      " ('to', 'TO'),\n",
      " ('President', 'NNP'),\n",
      " Tree('PERSON', [('Reagan', 'NNP')]),\n",
      " ('retaliatory', 'NN'),\n",
      " ('action', 'NN'),\n",
      " ('against', 'IN'),\n",
      " Tree('GPE', [('Canada', 'NNP')]),\n",
      " ('.', '.')]\n"
     ]
    }
   ],
   "source": [
    "import pprint\n",
    "chunks = nltk.ne_chunk(nltk.pos_tag(sent))\n",
    "pprint.pprint(list(iter(chunks)))"
   ]
  },
  {
   "cell_type": "code",
   "execution_count": 246,
   "metadata": {
    "collapsed": false,
    "slideshow": {
     "slide_type": "subslide"
    }
   },
   "outputs": [
    {
     "data": {
      "text/plain": [
       "[Tree('PERSON', [('Trade', 'NNP'), ('Representative', 'NNP')]),\n",
       " Tree('ORGANIZATION', [('General', 'NNP'), ('Agreement', 'NNP')]),\n",
       " Tree('PERSON', [('Tariffs', 'NNP')]),\n",
       " Tree('PERSON', [('Trade', 'NNP')]),\n",
       " Tree('PERSON', [('Reagan', 'NNP')]),\n",
       " Tree('GPE', [('Canada', 'NNP')])]"
      ]
     },
     "execution_count": 246,
     "metadata": {},
     "output_type": "execute_result"
    }
   ],
   "source": [
    "chunks = nltk.ne_chunk(nltk.pos_tag(sent))\n",
    "[tree for tree in chunks.subtrees() if tree.label() != 'S']"
   ]
  },
  {
   "cell_type": "markdown",
   "metadata": {},
   "source": [
    "#### Stanford NER\n",
    "http://nlp.stanford.edu/software/CRF-NER.shtml"
   ]
  },
  {
   "cell_type": "markdown",
   "metadata": {
    "collapsed": true,
    "slideshow": {
     "slide_type": "slide"
    }
   },
   "source": [
    "# Information Extraction\n",
    "\n",
    "## Dependency Parsing\n",
    "\n",
    "### MALT Parser\n",
    "- http://www.maltparser.org/"
   ]
  },
  {
   "cell_type": "code",
   "execution_count": 1,
   "metadata": {
    "collapsed": true,
    "slideshow": {
     "slide_type": "subslide"
    }
   },
   "outputs": [],
   "source": [
    "import nltk\n",
    "import os\n",
    "\n",
    "# load the example model from http://www.maltparser.org/mco/mco.html\n",
    "mp_home = os.path.expanduser('~/Documents/PUB_NLP/maltparser-1.7.2/')\n",
    "mp_model = os.path.expanduser('~/Documents/PUB_NLP/maltparser-1.7.2/models/engmalt.poly-1.7.mco')\n",
    "mp = nltk.parse.malt.MaltParser(mp_home, mp_model)\n",
    "\n",
    "# other models exist http://nlp.stanford.edu/software/stanford-dependencies.shtml"
   ]
  },
  {
   "cell_type": "code",
   "execution_count": null,
   "metadata": {
    "collapsed": true,
    "slideshow": {
     "slide_type": "fragment"
    }
   },
   "outputs": [],
   "source": [
    "dep_tree = mp.parse_tagged_sents([nltk.pos_tag('The yellow fish that swims in the sea.'.split())])\n",
    "graph = next(next(iter(dep_tree)))\n",
    "print(graph.to_conll(style=4))"
   ]
  },
  {
   "cell_type": "code",
   "execution_count": 11,
   "metadata": {
    "collapsed": false,
    "slideshow": {
     "slide_type": "subslide"
    }
   },
   "outputs": [
    {
     "data": {
      "image/svg+xml": [
       "<?xml version=\"1.0\" encoding=\"UTF-8\" standalone=\"no\"?>\n",
       "<!DOCTYPE svg PUBLIC \"-//W3C//DTD SVG 1.1//EN\"\n",
       " \"http://www.w3.org/Graphics/SVG/1.1/DTD/svg11.dtd\">\n",
       "<!-- Generated by graphviz version 2.38.0 (20140413.2041)\n",
       " -->\n",
       "<!-- Title: G Pages: 1 -->\n",
       "<svg width=\"276pt\" height=\"488pt\"\n",
       " viewBox=\"0.00 0.00 276.00 488.00\" xmlns=\"http://www.w3.org/2000/svg\" xmlns:xlink=\"http://www.w3.org/1999/xlink\">\n",
       "<g id=\"graph0\" class=\"graph\" transform=\"scale(1 1) rotate(0) translate(4 484)\">\n",
       "<title>G</title>\n",
       "<polygon fill=\"white\" stroke=\"none\" points=\"-4,4 -4,-484 272,-484 272,4 -4,4\"/>\n",
       "<!-- 0 -->\n",
       "<g id=\"node1\" class=\"node\"><title>0</title>\n",
       "<text text-anchor=\"middle\" x=\"109\" y=\"-457.8\" font-family=\"Times,serif\" font-size=\"14.00\">0 (None)</text>\n",
       "</g>\n",
       "<!-- 3 -->\n",
       "<g id=\"node2\" class=\"node\"><title>3</title>\n",
       "<text text-anchor=\"middle\" x=\"109\" y=\"-369\" font-family=\"Times,serif\" font-size=\"14.00\">3 (fish)</text>\n",
       "</g>\n",
       "<!-- 0&#45;&gt;3 -->\n",
       "<g id=\"edge1\" class=\"edge\"><title>0&#45;&gt;3</title>\n",
       "<path fill=\"none\" stroke=\"black\" d=\"M109,-443.851C109,-431.725 109,-415.219 109,-401.319\"/>\n",
       "<polygon fill=\"black\" stroke=\"black\" points=\"112.5,-401.313 109,-391.313 105.5,-401.313 112.5,-401.313\"/>\n",
       "<text text-anchor=\"middle\" x=\"119.891\" y=\"-413.4\" font-family=\"Times,serif\" font-size=\"14.00\">null</text>\n",
       "</g>\n",
       "<!-- 1 -->\n",
       "<g id=\"node3\" class=\"node\"><title>1</title>\n",
       "<text text-anchor=\"middle\" x=\"27\" y=\"-280.2\" font-family=\"Times,serif\" font-size=\"14.00\">1 (the)</text>\n",
       "</g>\n",
       "<!-- 3&#45;&gt;1 -->\n",
       "<g id=\"edge3\" class=\"edge\"><title>3&#45;&gt;1</title>\n",
       "<path fill=\"none\" stroke=\"black\" d=\"M92.7994,-355.051C80.6699,-342.212 63.9019,-324.462 50.329,-310.095\"/>\n",
       "<polygon fill=\"black\" stroke=\"black\" points=\"52.5784,-307.379 43.1669,-302.513 47.4899,-312.186 52.5784,-307.379\"/>\n",
       "<text text-anchor=\"middle\" x=\"84.5526\" y=\"-324.6\" font-family=\"Times,serif\" font-size=\"14.00\">det</text>\n",
       "</g>\n",
       "<!-- 2 -->\n",
       "<g id=\"node4\" class=\"node\"><title>2</title>\n",
       "<text text-anchor=\"middle\" x=\"109\" y=\"-280.2\" font-family=\"Times,serif\" font-size=\"14.00\">2 (yellow)</text>\n",
       "</g>\n",
       "<!-- 3&#45;&gt;2 -->\n",
       "<g id=\"edge2\" class=\"edge\"><title>3&#45;&gt;2</title>\n",
       "<path fill=\"none\" stroke=\"black\" d=\"M109,-355.051C109,-342.925 109,-326.419 109,-312.519\"/>\n",
       "<polygon fill=\"black\" stroke=\"black\" points=\"112.5,-312.513 109,-302.513 105.5,-312.513 112.5,-312.513\"/>\n",
       "<text text-anchor=\"middle\" x=\"124.553\" y=\"-324.6\" font-family=\"Times,serif\" font-size=\"14.00\">amod</text>\n",
       "</g>\n",
       "<!-- 5 -->\n",
       "<g id=\"node5\" class=\"node\"><title>5</title>\n",
       "<text text-anchor=\"middle\" x=\"200\" y=\"-280.2\" font-family=\"Times,serif\" font-size=\"14.00\">5 (swims)</text>\n",
       "</g>\n",
       "<!-- 3&#45;&gt;5 -->\n",
       "<g id=\"edge4\" class=\"edge\"><title>3&#45;&gt;5</title>\n",
       "<path fill=\"none\" stroke=\"black\" d=\"M126.979,-355.051C140.564,-342.093 159.393,-324.133 174.528,-309.696\"/>\n",
       "<polygon fill=\"black\" stroke=\"black\" points=\"177.238,-311.948 182.059,-302.513 172.407,-306.883 177.238,-311.948\"/>\n",
       "<text text-anchor=\"middle\" x=\"179.883\" y=\"-324.6\" font-family=\"Times,serif\" font-size=\"14.00\">rcmod</text>\n",
       "</g>\n",
       "<!-- 4 -->\n",
       "<g id=\"node6\" class=\"node\"><title>4</title>\n",
       "<text text-anchor=\"middle\" x=\"168\" y=\"-191.4\" font-family=\"Times,serif\" font-size=\"14.00\">4 (that)</text>\n",
       "</g>\n",
       "<!-- 5&#45;&gt;4 -->\n",
       "<g id=\"edge5\" class=\"edge\"><title>5&#45;&gt;4</title>\n",
       "<path fill=\"none\" stroke=\"black\" d=\"M187.905,-266.212C184.495,-260.725 181.064,-254.491 178.665,-248.4 175.623,-240.678 173.4,-231.951 171.796,-223.892\"/>\n",
       "<polygon fill=\"black\" stroke=\"black\" points=\"175.205,-223.066 170.028,-213.822 168.31,-224.277 175.205,-223.066\"/>\n",
       "<text text-anchor=\"middle\" x=\"193.168\" y=\"-235.8\" font-family=\"Times,serif\" font-size=\"14.00\">nsubj</text>\n",
       "</g>\n",
       "<!-- 6 -->\n",
       "<g id=\"node7\" class=\"node\"><title>6</title>\n",
       "<text text-anchor=\"middle\" x=\"241\" y=\"-191.4\" font-family=\"Times,serif\" font-size=\"14.00\">6 (in)</text>\n",
       "</g>\n",
       "<!-- 5&#45;&gt;6 -->\n",
       "<g id=\"edge6\" class=\"edge\"><title>5&#45;&gt;6</title>\n",
       "<path fill=\"none\" stroke=\"black\" d=\"M208.1,-266.251C213.94,-253.887 221.931,-236.97 228.575,-222.904\"/>\n",
       "<polygon fill=\"black\" stroke=\"black\" points=\"231.81,-224.25 232.917,-213.713 225.481,-221.26 231.81,-224.25\"/>\n",
       "<text text-anchor=\"middle\" x=\"236.438\" y=\"-235.8\" font-family=\"Times,serif\" font-size=\"14.00\">prep</text>\n",
       "</g>\n",
       "<!-- 8 -->\n",
       "<g id=\"node8\" class=\"node\"><title>8</title>\n",
       "<text text-anchor=\"middle\" x=\"241\" y=\"-102.6\" font-family=\"Times,serif\" font-size=\"14.00\">8 (sea)</text>\n",
       "</g>\n",
       "<!-- 6&#45;&gt;8 -->\n",
       "<g id=\"edge7\" class=\"edge\"><title>6&#45;&gt;8</title>\n",
       "<path fill=\"none\" stroke=\"black\" d=\"M241,-177.451C241,-165.325 241,-148.819 241,-134.919\"/>\n",
       "<polygon fill=\"black\" stroke=\"black\" points=\"244.5,-134.913 241,-124.913 237.5,-134.913 244.5,-134.913\"/>\n",
       "<text text-anchor=\"middle\" x=\"253.445\" y=\"-147\" font-family=\"Times,serif\" font-size=\"14.00\">pobj</text>\n",
       "</g>\n",
       "<!-- 7 -->\n",
       "<g id=\"node9\" class=\"node\"><title>7</title>\n",
       "<text text-anchor=\"middle\" x=\"241\" y=\"-13.8\" font-family=\"Times,serif\" font-size=\"14.00\">7 (the)</text>\n",
       "</g>\n",
       "<!-- 8&#45;&gt;7 -->\n",
       "<g id=\"edge8\" class=\"edge\"><title>8&#45;&gt;7</title>\n",
       "<path fill=\"none\" stroke=\"black\" d=\"M241,-88.6511C241,-76.5249 241,-60.019 241,-46.119\"/>\n",
       "<polygon fill=\"black\" stroke=\"black\" points=\"244.5,-46.1132 241,-36.1133 237.5,-46.1133 244.5,-46.1132\"/>\n",
       "<text text-anchor=\"middle\" x=\"249.553\" y=\"-58.2\" font-family=\"Times,serif\" font-size=\"14.00\">det</text>\n",
       "</g>\n",
       "</g>\n",
       "</svg>\n"
      ],
      "text/plain": [
       "<DependencyGraph with 9 nodes>"
      ]
     },
     "execution_count": 11,
     "metadata": {},
     "output_type": "execute_result"
    }
   ],
   "source": [
    "graph"
   ]
  },
  {
   "cell_type": "code",
   "execution_count": 12,
   "metadata": {
    "collapsed": false,
    "slideshow": {
     "slide_type": "subslide"
    }
   },
   "outputs": [
    {
     "data": {
      "image/svg+xml": [
       "<?xml version=\"1.0\" encoding=\"UTF-8\" standalone=\"no\"?>\n",
       "<!DOCTYPE svg PUBLIC \"-//W3C//DTD SVG 1.1//EN\"\n",
       " \"http://www.w3.org/Graphics/SVG/1.1/DTD/svg11.dtd\">\n",
       "<!-- Generated by graphviz version 2.38.0 (20140413.2041)\n",
       " -->\n",
       "<!-- Title: G Pages: 1 -->\n",
       "<svg width=\"185pt\" height=\"399pt\"\n",
       " viewBox=\"0.00 0.00 184.79 399.20\" xmlns=\"http://www.w3.org/2000/svg\" xmlns:xlink=\"http://www.w3.org/1999/xlink\">\n",
       "<g id=\"graph0\" class=\"graph\" transform=\"scale(1 1) rotate(0) translate(4 395.2)\">\n",
       "<title>G</title>\n",
       "<polygon fill=\"white\" stroke=\"none\" points=\"-4,4 -4,-395.2 180.793,-395.2 180.793,4 -4,4\"/>\n",
       "<!-- 0 -->\n",
       "<g id=\"node1\" class=\"node\"><title>0</title>\n",
       "<text text-anchor=\"middle\" x=\"62\" y=\"-369\" font-family=\"Times,serif\" font-size=\"14.00\">0 (None)</text>\n",
       "</g>\n",
       "<!-- 2 -->\n",
       "<g id=\"node2\" class=\"node\"><title>2</title>\n",
       "<text text-anchor=\"middle\" x=\"62\" y=\"-280.2\" font-family=\"Times,serif\" font-size=\"14.00\">2 (thought)</text>\n",
       "</g>\n",
       "<!-- 0&#45;&gt;2 -->\n",
       "<g id=\"edge1\" class=\"edge\"><title>0&#45;&gt;2</title>\n",
       "<path fill=\"none\" stroke=\"black\" d=\"M62,-355.051C62,-342.925 62,-326.419 62,-312.519\"/>\n",
       "<polygon fill=\"black\" stroke=\"black\" points=\"65.5001,-312.513 62,-302.513 58.5001,-312.513 65.5001,-312.513\"/>\n",
       "<text text-anchor=\"middle\" x=\"72.8906\" y=\"-324.6\" font-family=\"Times,serif\" font-size=\"14.00\">null</text>\n",
       "</g>\n",
       "<!-- 1 -->\n",
       "<g id=\"node3\" class=\"node\"><title>1</title>\n",
       "<text text-anchor=\"middle\" x=\"27\" y=\"-191.4\" font-family=\"Times,serif\" font-size=\"14.00\">1 (I)</text>\n",
       "</g>\n",
       "<!-- 2&#45;&gt;1 -->\n",
       "<g id=\"edge2\" class=\"edge\"><title>2&#45;&gt;1</title>\n",
       "<path fill=\"none\" stroke=\"black\" d=\"M52.9016,-266.161C50.1008,-260.567 47.1132,-254.285 44.6648,-248.4 41.3286,-240.381 38.1228,-231.485 35.3795,-223.36\"/>\n",
       "<polygon fill=\"black\" stroke=\"black\" points=\"38.6217,-222.014 32.1772,-213.605 31.9709,-224.198 38.6217,-222.014\"/>\n",
       "<text text-anchor=\"middle\" x=\"60.1676\" y=\"-235.8\" font-family=\"Times,serif\" font-size=\"14.00\">nsubj</text>\n",
       "</g>\n",
       "<!-- 6 -->\n",
       "<g id=\"node4\" class=\"node\"><title>6</title>\n",
       "<text text-anchor=\"middle\" x=\"114\" y=\"-191.4\" font-family=\"Times,serif\" font-size=\"14.00\">6 (fantastic)</text>\n",
       "</g>\n",
       "<!-- 2&#45;&gt;6 -->\n",
       "<g id=\"edge3\" class=\"edge\"><title>2&#45;&gt;6</title>\n",
       "<path fill=\"none\" stroke=\"black\" d=\"M72.2735,-266.251C79.7518,-253.768 90.0103,-236.644 98.4842,-222.5\"/>\n",
       "<polygon fill=\"black\" stroke=\"black\" points=\"101.611,-224.09 103.748,-213.713 95.6062,-220.493 101.611,-224.09\"/>\n",
       "<text text-anchor=\"middle\" x=\"111.66\" y=\"-235.8\" font-family=\"Times,serif\" font-size=\"14.00\">ccomp</text>\n",
       "</g>\n",
       "<!-- 4 -->\n",
       "<g id=\"node6\" class=\"node\"><title>4</title>\n",
       "<text text-anchor=\"middle\" x=\"65\" y=\"-102.6\" font-family=\"Times,serif\" font-size=\"14.00\">4 (Hanks)</text>\n",
       "</g>\n",
       "<!-- 6&#45;&gt;4 -->\n",
       "<g id=\"edge5\" class=\"edge\"><title>6&#45;&gt;4</title>\n",
       "<path fill=\"none\" stroke=\"black\" d=\"M103.168,-177.269C99.7406,-171.67 95.9827,-165.409 92.6648,-159.6 88.0125,-151.455 83.1312,-142.475 78.7862,-134.311\"/>\n",
       "<polygon fill=\"black\" stroke=\"black\" points=\"81.7412,-132.411 73.9779,-125.201 75.5506,-135.679 81.7412,-132.411\"/>\n",
       "<text text-anchor=\"middle\" x=\"108.168\" y=\"-147\" font-family=\"Times,serif\" font-size=\"14.00\">nsubj</text>\n",
       "</g>\n",
       "<!-- 5 -->\n",
       "<g id=\"node7\" class=\"node\"><title>5</title>\n",
       "<text text-anchor=\"middle\" x=\"148\" y=\"-102.6\" font-family=\"Times,serif\" font-size=\"14.00\">5 (was)</text>\n",
       "</g>\n",
       "<!-- 6&#45;&gt;5 -->\n",
       "<g id=\"edge6\" class=\"edge\"><title>6&#45;&gt;5</title>\n",
       "<path fill=\"none\" stroke=\"black\" d=\"M120.717,-177.451C125.514,-165.206 132.06,-148.495 137.537,-134.511\"/>\n",
       "<polygon fill=\"black\" stroke=\"black\" points=\"140.908,-135.501 141.297,-124.913 134.39,-132.948 140.908,-135.501\"/>\n",
       "<text text-anchor=\"middle\" x=\"144.107\" y=\"-147\" font-family=\"Times,serif\" font-size=\"14.00\">cop</text>\n",
       "</g>\n",
       "<!-- 3 -->\n",
       "<g id=\"node5\" class=\"node\"><title>3</title>\n",
       "<text text-anchor=\"middle\" x=\"65\" y=\"-13.8\" font-family=\"Times,serif\" font-size=\"14.00\">3 (Tom)</text>\n",
       "</g>\n",
       "<!-- 4&#45;&gt;3 -->\n",
       "<g id=\"edge4\" class=\"edge\"><title>4&#45;&gt;3</title>\n",
       "<path fill=\"none\" stroke=\"black\" d=\"M65,-88.6511C65,-76.5249 65,-60.019 65,-46.119\"/>\n",
       "<polygon fill=\"black\" stroke=\"black\" points=\"68.5001,-46.1132 65,-36.1133 61.5001,-46.1133 68.5001,-46.1132\"/>\n",
       "<text text-anchor=\"middle\" x=\"72\" y=\"-58.2\" font-family=\"Times,serif\" font-size=\"14.00\">nn</text>\n",
       "</g>\n",
       "</g>\n",
       "</svg>\n"
      ],
      "text/plain": [
       "<DependencyGraph with 7 nodes>"
      ]
     },
     "execution_count": 12,
     "metadata": {},
     "output_type": "execute_result"
    }
   ],
   "source": [
    "dep_tree = mp.parse_tagged_sents([nltk.pos_tag('I thought Tom Hanks was fantastic'.split())])\n",
    "graph = next(next(iter(dep_tree)))\n",
    "graph"
   ]
  },
  {
   "cell_type": "code",
   "execution_count": 14,
   "metadata": {
    "collapsed": false,
    "scrolled": true,
    "slideshow": {
     "slide_type": "subslide"
    }
   },
   "outputs": [
    {
     "data": {
      "text/plain": [
       "{0: {'address': 0,\n",
       "  'ctag': 'TOP',\n",
       "  'deps': defaultdict(list, {'null': [2]}),\n",
       "  'feats': None,\n",
       "  'head': None,\n",
       "  'lemma': None,\n",
       "  'rel': None,\n",
       "  'tag': 'TOP',\n",
       "  'word': None},\n",
       " 1: {'address': 1,\n",
       "  'ctag': 'PRP',\n",
       "  'deps': defaultdict(list, {}),\n",
       "  'feats': '_',\n",
       "  'head': 2,\n",
       "  'lemma': '_',\n",
       "  'rel': 'nsubj',\n",
       "  'tag': 'PRP',\n",
       "  'word': 'I'},\n",
       " 2: {'address': 2,\n",
       "  'ctag': 'VBD',\n",
       "  'deps': defaultdict(list, {'ccomp': [6], 'nsubj': [1]}),\n",
       "  'feats': '_',\n",
       "  'head': 0,\n",
       "  'lemma': '_',\n",
       "  'rel': 'null',\n",
       "  'tag': 'VBD',\n",
       "  'word': 'thought'},\n",
       " 3: {'address': 3,\n",
       "  'ctag': 'NNP',\n",
       "  'deps': defaultdict(list, {}),\n",
       "  'feats': '_',\n",
       "  'head': 4,\n",
       "  'lemma': '_',\n",
       "  'rel': 'nn',\n",
       "  'tag': 'NNP',\n",
       "  'word': 'Tom'},\n",
       " 4: {'address': 4,\n",
       "  'ctag': 'NNP',\n",
       "  'deps': defaultdict(list, {'nn': [3]}),\n",
       "  'feats': '_',\n",
       "  'head': 6,\n",
       "  'lemma': '_',\n",
       "  'rel': 'nsubj',\n",
       "  'tag': 'NNP',\n",
       "  'word': 'Hanks'},\n",
       " 5: {'address': 5,\n",
       "  'ctag': 'VBD',\n",
       "  'deps': defaultdict(list, {}),\n",
       "  'feats': '_',\n",
       "  'head': 6,\n",
       "  'lemma': '_',\n",
       "  'rel': 'cop',\n",
       "  'tag': 'VBD',\n",
       "  'word': 'was'},\n",
       " 6: {'address': 6,\n",
       "  'ctag': 'JJ',\n",
       "  'deps': defaultdict(list, {'cop': [5], 'nsubj': [4]}),\n",
       "  'feats': '_',\n",
       "  'head': 2,\n",
       "  'lemma': '_',\n",
       "  'rel': 'ccomp',\n",
       "  'tag': 'JJ',\n",
       "  'word': 'fantastic'}}"
      ]
     },
     "execution_count": 14,
     "metadata": {},
     "output_type": "execute_result"
    }
   ],
   "source": [
    "dict(graph.nodes)"
   ]
  },
  {
   "cell_type": "code",
   "execution_count": 119,
   "metadata": {
    "collapsed": false,
    "slideshow": {
     "slide_type": "subslide"
    }
   },
   "outputs": [],
   "source": [
    "person = ('Tom', 'Hanks')\n",
    "opinions = []\n",
    "nodes = graph.nodes\n",
    "for nodeid, node in nodes.items():\n",
    "    if node['rel'] == 'cop': # was\n",
    "        head_node = nodes[node['head']] # fantastic\n",
    "        if head_node['tag'] != 'JJ': continue\n",
    "        for dep in head_node['deps']['nsubj']:\n",
    "            dep_node = nodes[dep]\n",
    "            if dep_node['word'] in person: # is this a NOUN we are interested in?\n",
    "                person = [dep_node['word']]\n",
    "                person.extend(nodes[d]['word'] for d in dep_node['deps']['nn'])\n",
    "                person.reverse()\n",
    "                opinions.append(tuple([tuple(person), head_node['word']]))"
   ]
  },
  {
   "cell_type": "code",
   "execution_count": 120,
   "metadata": {
    "collapsed": false,
    "slideshow": {
     "slide_type": "subslide"
    }
   },
   "outputs": [
    {
     "data": {
      "text/plain": [
       "[(('Tom', 'Hanks'), 'fantastic')]"
      ]
     },
     "execution_count": 120,
     "metadata": {},
     "output_type": "execute_result"
    }
   ],
   "source": [
    "opinions"
   ]
  },
  {
   "cell_type": "code",
   "execution_count": 28,
   "metadata": {
    "collapsed": false,
    "slideshow": {
     "slide_type": "subslide"
    }
   },
   "outputs": [
    {
     "data": {
      "image/svg+xml": [
       "<?xml version=\"1.0\" encoding=\"UTF-8\" standalone=\"no\"?>\n",
       "<!DOCTYPE svg PUBLIC \"-//W3C//DTD SVG 1.1//EN\"\n",
       " \"http://www.w3.org/Graphics/SVG/1.1/DTD/svg11.dtd\">\n",
       "<!-- Generated by graphviz version 2.38.0 (20140413.2041)\n",
       " -->\n",
       "<!-- Title: G Pages: 1 -->\n",
       "<svg width=\"182pt\" height=\"399pt\"\n",
       " viewBox=\"0.00 0.00 182.00 399.20\" xmlns=\"http://www.w3.org/2000/svg\" xmlns:xlink=\"http://www.w3.org/1999/xlink\">\n",
       "<g id=\"graph0\" class=\"graph\" transform=\"scale(1 1) rotate(0) translate(4 395.2)\">\n",
       "<title>G</title>\n",
       "<polygon fill=\"white\" stroke=\"none\" points=\"-4,4 -4,-395.2 178,-395.2 178,4 -4,4\"/>\n",
       "<!-- 0 -->\n",
       "<g id=\"node1\" class=\"node\"><title>0</title>\n",
       "<text text-anchor=\"middle\" x=\"62\" y=\"-369\" font-family=\"Times,serif\" font-size=\"14.00\">0 (None)</text>\n",
       "</g>\n",
       "<!-- 2 -->\n",
       "<g id=\"node2\" class=\"node\"><title>2</title>\n",
       "<text text-anchor=\"middle\" x=\"62\" y=\"-280.2\" font-family=\"Times,serif\" font-size=\"14.00\">2 (think)</text>\n",
       "</g>\n",
       "<!-- 0&#45;&gt;2 -->\n",
       "<g id=\"edge1\" class=\"edge\"><title>0&#45;&gt;2</title>\n",
       "<path fill=\"none\" stroke=\"black\" d=\"M62,-355.051C62,-342.925 62,-326.419 62,-312.519\"/>\n",
       "<polygon fill=\"black\" stroke=\"black\" points=\"65.5001,-312.513 62,-302.513 58.5001,-312.513 65.5001,-312.513\"/>\n",
       "<text text-anchor=\"middle\" x=\"72.8906\" y=\"-324.6\" font-family=\"Times,serif\" font-size=\"14.00\">null</text>\n",
       "</g>\n",
       "<!-- 1 -->\n",
       "<g id=\"node3\" class=\"node\"><title>1</title>\n",
       "<text text-anchor=\"middle\" x=\"27\" y=\"-191.4\" font-family=\"Times,serif\" font-size=\"14.00\">1 (I)</text>\n",
       "</g>\n",
       "<!-- 2&#45;&gt;1 -->\n",
       "<g id=\"edge2\" class=\"edge\"><title>2&#45;&gt;1</title>\n",
       "<path fill=\"none\" stroke=\"black\" d=\"M52.9016,-266.161C50.1008,-260.567 47.1132,-254.285 44.6648,-248.4 41.3286,-240.381 38.1228,-231.485 35.3795,-223.36\"/>\n",
       "<polygon fill=\"black\" stroke=\"black\" points=\"38.6217,-222.014 32.1772,-213.605 31.9709,-224.198 38.6217,-222.014\"/>\n",
       "<text text-anchor=\"middle\" x=\"60.1676\" y=\"-235.8\" font-family=\"Times,serif\" font-size=\"14.00\">nsubj</text>\n",
       "</g>\n",
       "<!-- 6 -->\n",
       "<g id=\"node4\" class=\"node\"><title>6</title>\n",
       "<text text-anchor=\"middle\" x=\"114\" y=\"-191.4\" font-family=\"Times,serif\" font-size=\"14.00\">6 (fantastic)</text>\n",
       "</g>\n",
       "<!-- 2&#45;&gt;6 -->\n",
       "<g id=\"edge3\" class=\"edge\"><title>2&#45;&gt;6</title>\n",
       "<path fill=\"none\" stroke=\"black\" d=\"M72.2735,-266.251C79.7518,-253.768 90.0103,-236.644 98.4842,-222.5\"/>\n",
       "<polygon fill=\"black\" stroke=\"black\" points=\"101.611,-224.09 103.748,-213.713 95.6062,-220.493 101.611,-224.09\"/>\n",
       "<text text-anchor=\"middle\" x=\"111.66\" y=\"-235.8\" font-family=\"Times,serif\" font-size=\"14.00\">ccomp</text>\n",
       "</g>\n",
       "<!-- 4 -->\n",
       "<g id=\"node6\" class=\"node\"><title>4</title>\n",
       "<text text-anchor=\"middle\" x=\"66\" y=\"-102.6\" font-family=\"Times,serif\" font-size=\"14.00\">4 (Hanks)</text>\n",
       "</g>\n",
       "<!-- 6&#45;&gt;4 -->\n",
       "<g id=\"edge5\" class=\"edge\"><title>6&#45;&gt;4</title>\n",
       "<path fill=\"none\" stroke=\"black\" d=\"M103.115,-177.299C99.6848,-171.702 95.9386,-165.433 92.6648,-159.6 88.1106,-151.485 83.386,-142.513 79.2016,-134.347\"/>\n",
       "<polygon fill=\"black\" stroke=\"black\" points=\"82.224,-132.569 74.5802,-125.232 75.9806,-135.734 82.224,-132.569\"/>\n",
       "<text text-anchor=\"middle\" x=\"108.168\" y=\"-147\" font-family=\"Times,serif\" font-size=\"14.00\">nsubj</text>\n",
       "</g>\n",
       "<!-- 5 -->\n",
       "<g id=\"node7\" class=\"node\"><title>5</title>\n",
       "<text text-anchor=\"middle\" x=\"147\" y=\"-102.6\" font-family=\"Times,serif\" font-size=\"14.00\">5 (is)</text>\n",
       "</g>\n",
       "<!-- 6&#45;&gt;5 -->\n",
       "<g id=\"edge6\" class=\"edge\"><title>6&#45;&gt;5</title>\n",
       "<path fill=\"none\" stroke=\"black\" d=\"M120.52,-177.451C125.175,-165.206 131.528,-148.495 136.845,-134.511\"/>\n",
       "<polygon fill=\"black\" stroke=\"black\" points=\"140.212,-135.504 140.494,-124.913 133.669,-133.017 140.212,-135.504\"/>\n",
       "<text text-anchor=\"middle\" x=\"143.107\" y=\"-147\" font-family=\"Times,serif\" font-size=\"14.00\">cop</text>\n",
       "</g>\n",
       "<!-- 3 -->\n",
       "<g id=\"node5\" class=\"node\"><title>3</title>\n",
       "<text text-anchor=\"middle\" x=\"66\" y=\"-13.8\" font-family=\"Times,serif\" font-size=\"14.00\">3 (Tom)</text>\n",
       "</g>\n",
       "<!-- 4&#45;&gt;3 -->\n",
       "<g id=\"edge4\" class=\"edge\"><title>4&#45;&gt;3</title>\n",
       "<path fill=\"none\" stroke=\"black\" d=\"M66,-88.6511C66,-76.5249 66,-60.019 66,-46.119\"/>\n",
       "<polygon fill=\"black\" stroke=\"black\" points=\"69.5001,-46.1132 66,-36.1133 62.5001,-46.1133 69.5001,-46.1132\"/>\n",
       "<text text-anchor=\"middle\" x=\"73\" y=\"-58.2\" font-family=\"Times,serif\" font-size=\"14.00\">nn</text>\n",
       "</g>\n",
       "</g>\n",
       "</svg>\n"
      ],
      "text/plain": [
       "<DependencyGraph with 7 nodes>"
      ]
     },
     "execution_count": 28,
     "metadata": {},
     "output_type": "execute_result"
    }
   ],
   "source": [
    "dep_tree = mp.parse_tagged_sents([nltk.pos_tag('I think Tom Hanks is fantastic'.split())])\n",
    "graph = next(next(iter(dep_tree)))\n",
    "graph"
   ]
  },
  {
   "cell_type": "code",
   "execution_count": 29,
   "metadata": {
    "collapsed": false,
    "slideshow": {
     "slide_type": "subslide"
    }
   },
   "outputs": [
    {
     "data": {
      "image/svg+xml": [
       "<?xml version=\"1.0\" encoding=\"UTF-8\" standalone=\"no\"?>\n",
       "<!DOCTYPE svg PUBLIC \"-//W3C//DTD SVG 1.1//EN\"\n",
       " \"http://www.w3.org/Graphics/SVG/1.1/DTD/svg11.dtd\">\n",
       "<!-- Generated by graphviz version 2.38.0 (20140413.2041)\n",
       " -->\n",
       "<!-- Title: G Pages: 1 -->\n",
       "<svg width=\"385pt\" height=\"577pt\"\n",
       " viewBox=\"0.00 0.00 384.73 576.80\" xmlns=\"http://www.w3.org/2000/svg\" xmlns:xlink=\"http://www.w3.org/1999/xlink\">\n",
       "<g id=\"graph0\" class=\"graph\" transform=\"scale(1 1) rotate(0) translate(4 572.8)\">\n",
       "<title>G</title>\n",
       "<polygon fill=\"white\" stroke=\"none\" points=\"-4,4 -4,-572.8 380.726,-572.8 380.726,4 -4,4\"/>\n",
       "<!-- 0 -->\n",
       "<g id=\"node1\" class=\"node\"><title>0</title>\n",
       "<text text-anchor=\"middle\" x=\"161.794\" y=\"-546.6\" font-family=\"Times,serif\" font-size=\"14.00\">0 (None)</text>\n",
       "</g>\n",
       "<!-- 4 -->\n",
       "<g id=\"node2\" class=\"node\"><title>4</title>\n",
       "<text text-anchor=\"middle\" x=\"161.794\" y=\"-457.8\" font-family=\"Times,serif\" font-size=\"14.00\">4 (Hanks)</text>\n",
       "</g>\n",
       "<!-- 0&#45;&gt;4 -->\n",
       "<g id=\"edge1\" class=\"edge\"><title>0&#45;&gt;4</title>\n",
       "<path fill=\"none\" stroke=\"black\" d=\"M161.794,-532.651C161.794,-520.525 161.794,-504.019 161.794,-490.119\"/>\n",
       "<polygon fill=\"black\" stroke=\"black\" points=\"165.294,-490.113 161.794,-480.113 158.294,-490.113 165.294,-490.113\"/>\n",
       "<text text-anchor=\"middle\" x=\"172.685\" y=\"-502.2\" font-family=\"Times,serif\" font-size=\"14.00\">null</text>\n",
       "</g>\n",
       "<!-- 1 -->\n",
       "<g id=\"node3\" class=\"node\"><title>1</title>\n",
       "<text text-anchor=\"middle\" x=\"28.7942\" y=\"-369\" font-family=\"Times,serif\" font-size=\"14.00\">1 (The)</text>\n",
       "</g>\n",
       "<!-- 4&#45;&gt;1 -->\n",
       "<g id=\"edge3\" class=\"edge\"><title>4&#45;&gt;1</title>\n",
       "<path fill=\"none\" stroke=\"black\" d=\"M135.518,-443.851C114.933,-430.417 86.1129,-411.608 63.6096,-396.922\"/>\n",
       "<polygon fill=\"black\" stroke=\"black\" points=\"65.3034,-393.848 55.0161,-391.313 61.4776,-399.71 65.3034,-393.848\"/>\n",
       "<text text-anchor=\"middle\" x=\"116.347\" y=\"-413.4\" font-family=\"Times,serif\" font-size=\"14.00\">det</text>\n",
       "</g>\n",
       "<!-- 2 -->\n",
       "<g id=\"node4\" class=\"node\"><title>2</title>\n",
       "<text text-anchor=\"middle\" x=\"116.794\" y=\"-369\" font-family=\"Times,serif\" font-size=\"14.00\">2 (fantastic)</text>\n",
       "</g>\n",
       "<!-- 4&#45;&gt;2 -->\n",
       "<g id=\"edge2\" class=\"edge\"><title>4&#45;&gt;2</title>\n",
       "<path fill=\"none\" stroke=\"black\" d=\"M152.904,-443.851C146.494,-431.487 137.723,-414.57 130.431,-400.504\"/>\n",
       "<polygon fill=\"black\" stroke=\"black\" points=\"133.376,-398.58 125.666,-391.313 127.162,-401.802 133.376,-398.58\"/>\n",
       "<text text-anchor=\"middle\" x=\"158.347\" y=\"-413.4\" font-family=\"Times,serif\" font-size=\"14.00\">amod</text>\n",
       "</g>\n",
       "<!-- 3 -->\n",
       "<g id=\"node5\" class=\"node\"><title>3</title>\n",
       "<text text-anchor=\"middle\" x=\"207.794\" y=\"-369\" font-family=\"Times,serif\" font-size=\"14.00\">3 (Tom)</text>\n",
       "</g>\n",
       "<!-- 4&#45;&gt;3 -->\n",
       "<g id=\"edge4\" class=\"edge\"><title>4&#45;&gt;3</title>\n",
       "<path fill=\"none\" stroke=\"black\" d=\"M170.882,-443.851C177.435,-431.487 186.4,-414.57 193.854,-400.504\"/>\n",
       "<polygon fill=\"black\" stroke=\"black\" points=\"197.135,-401.788 198.725,-391.313 190.95,-398.51 197.135,-401.788\"/>\n",
       "<text text-anchor=\"middle\" x=\"195.794\" y=\"-413.4\" font-family=\"Times,serif\" font-size=\"14.00\">nn</text>\n",
       "</g>\n",
       "<!-- 5 -->\n",
       "<g id=\"node6\" class=\"node\"><title>5</title>\n",
       "<text text-anchor=\"middle\" x=\"287.794\" y=\"-369\" font-family=\"Times,serif\" font-size=\"14.00\">5 (does)</text>\n",
       "</g>\n",
       "<!-- 4&#45;&gt;5 -->\n",
       "<g id=\"edge5\" class=\"edge\"><title>4&#45;&gt;5</title>\n",
       "<path fill=\"none\" stroke=\"black\" d=\"M186.688,-443.851C206.102,-430.477 233.251,-411.774 254.528,-397.117\"/>\n",
       "<polygon fill=\"black\" stroke=\"black\" points=\"256.703,-399.869 262.952,-391.313 252.732,-394.104 256.703,-399.869\"/>\n",
       "<text text-anchor=\"middle\" x=\"245.901\" y=\"-413.4\" font-family=\"Times,serif\" font-size=\"14.00\">dep</text>\n",
       "</g>\n",
       "<!-- 7 -->\n",
       "<g id=\"node7\" class=\"node\"><title>7</title>\n",
       "<text text-anchor=\"middle\" x=\"287.794\" y=\"-280.2\" font-family=\"Times,serif\" font-size=\"14.00\">7 (performance)</text>\n",
       "</g>\n",
       "<!-- 5&#45;&gt;7 -->\n",
       "<g id=\"edge6\" class=\"edge\"><title>5&#45;&gt;7</title>\n",
       "<path fill=\"none\" stroke=\"black\" d=\"M287.794,-355.051C287.794,-342.925 287.794,-326.419 287.794,-312.519\"/>\n",
       "<polygon fill=\"black\" stroke=\"black\" points=\"291.294,-312.513 287.794,-302.513 284.294,-312.513 291.294,-312.513\"/>\n",
       "<text text-anchor=\"middle\" x=\"300.24\" y=\"-324.6\" font-family=\"Times,serif\" font-size=\"14.00\">dobj</text>\n",
       "</g>\n",
       "<!-- 6 -->\n",
       "<g id=\"node8\" class=\"node\"><title>6</title>\n",
       "<text text-anchor=\"middle\" x=\"259.794\" y=\"-191.4\" font-family=\"Times,serif\" font-size=\"14.00\">6 (the)</text>\n",
       "</g>\n",
       "<!-- 7&#45;&gt;6 -->\n",
       "<g id=\"edge7\" class=\"edge\"><title>7&#45;&gt;6</title>\n",
       "<path fill=\"none\" stroke=\"black\" d=\"M282.262,-266.251C278.312,-254.006 272.922,-237.295 268.411,-223.311\"/>\n",
       "<polygon fill=\"black\" stroke=\"black\" points=\"271.716,-222.156 265.315,-213.713 265.054,-224.305 271.716,-222.156\"/>\n",
       "<text text-anchor=\"middle\" x=\"284.347\" y=\"-235.8\" font-family=\"Times,serif\" font-size=\"14.00\">det</text>\n",
       "</g>\n",
       "<!-- 8 -->\n",
       "<g id=\"node9\" class=\"node\"><title>8</title>\n",
       "<text text-anchor=\"middle\" x=\"331.794\" y=\"-191.4\" font-family=\"Times,serif\" font-size=\"14.00\">8 (of)</text>\n",
       "</g>\n",
       "<!-- 7&#45;&gt;8 -->\n",
       "<g id=\"edge8\" class=\"edge\"><title>7&#45;&gt;8</title>\n",
       "<path fill=\"none\" stroke=\"black\" d=\"M296.487,-266.251C302.755,-253.887 311.33,-236.97 318.46,-222.904\"/>\n",
       "<polygon fill=\"black\" stroke=\"black\" points=\"321.72,-224.215 323.119,-213.713 315.476,-221.05 321.72,-224.215\"/>\n",
       "<text text-anchor=\"middle\" x=\"325.232\" y=\"-235.8\" font-family=\"Times,serif\" font-size=\"14.00\">prep</text>\n",
       "</g>\n",
       "<!-- 10 -->\n",
       "<g id=\"node10\" class=\"node\"><title>10</title>\n",
       "<text text-anchor=\"middle\" x=\"331.794\" y=\"-102.6\" font-family=\"Times,serif\" font-size=\"14.00\">10 (lifetime.)</text>\n",
       "</g>\n",
       "<!-- 8&#45;&gt;10 -->\n",
       "<g id=\"edge9\" class=\"edge\"><title>8&#45;&gt;10</title>\n",
       "<path fill=\"none\" stroke=\"black\" d=\"M331.794,-177.451C331.794,-165.325 331.794,-148.819 331.794,-134.919\"/>\n",
       "<polygon fill=\"black\" stroke=\"black\" points=\"335.294,-134.913 331.794,-124.913 328.294,-134.913 335.294,-134.913\"/>\n",
       "<text text-anchor=\"middle\" x=\"344.24\" y=\"-147\" font-family=\"Times,serif\" font-size=\"14.00\">pobj</text>\n",
       "</g>\n",
       "<!-- 9 -->\n",
       "<g id=\"node11\" class=\"node\"><title>9</title>\n",
       "<text text-anchor=\"middle\" x=\"331.794\" y=\"-13.8\" font-family=\"Times,serif\" font-size=\"14.00\">9 (a)</text>\n",
       "</g>\n",
       "<!-- 10&#45;&gt;9 -->\n",
       "<g id=\"edge10\" class=\"edge\"><title>10&#45;&gt;9</title>\n",
       "<path fill=\"none\" stroke=\"black\" d=\"M331.794,-88.6511C331.794,-76.5249 331.794,-60.019 331.794,-46.119\"/>\n",
       "<polygon fill=\"black\" stroke=\"black\" points=\"335.294,-46.1132 331.794,-36.1133 328.294,-46.1133 335.294,-46.1132\"/>\n",
       "<text text-anchor=\"middle\" x=\"340.347\" y=\"-58.2\" font-family=\"Times,serif\" font-size=\"14.00\">det</text>\n",
       "</g>\n",
       "</g>\n",
       "</svg>\n"
      ],
      "text/plain": [
       "<DependencyGraph with 11 nodes>"
      ]
     },
     "execution_count": 29,
     "metadata": {},
     "output_type": "execute_result"
    }
   ],
   "source": [
    "dep_tree = mp.parse_tagged_sents([nltk.pos_tag('The fantastic Tom Hanks does the performance of a lifetime.'.split())])\n",
    "graph = next(next(iter(dep_tree)))\n",
    "graph"
   ]
  },
  {
   "cell_type": "code",
   "execution_count": 30,
   "metadata": {
    "collapsed": false,
    "slideshow": {
     "slide_type": "subslide"
    }
   },
   "outputs": [
    {
     "data": {
      "image/svg+xml": [
       "<?xml version=\"1.0\" encoding=\"UTF-8\" standalone=\"no\"?>\n",
       "<!DOCTYPE svg PUBLIC \"-//W3C//DTD SVG 1.1//EN\"\n",
       " \"http://www.w3.org/Graphics/SVG/1.1/DTD/svg11.dtd\">\n",
       "<!-- Generated by graphviz version 2.38.0 (20140413.2041)\n",
       " -->\n",
       "<!-- Title: G Pages: 1 -->\n",
       "<svg width=\"232pt\" height=\"488pt\"\n",
       " viewBox=\"0.00 0.00 231.64 488.00\" xmlns=\"http://www.w3.org/2000/svg\" xmlns:xlink=\"http://www.w3.org/1999/xlink\">\n",
       "<g id=\"graph0\" class=\"graph\" transform=\"scale(1 1) rotate(0) translate(4 484)\">\n",
       "<title>G</title>\n",
       "<polygon fill=\"white\" stroke=\"none\" points=\"-4,4 -4,-484 227.641,-484 227.641,4 -4,4\"/>\n",
       "<!-- 0 -->\n",
       "<g id=\"node1\" class=\"node\"><title>0</title>\n",
       "<text text-anchor=\"middle\" x=\"110.132\" y=\"-457.8\" font-family=\"Times,serif\" font-size=\"14.00\">0 (None)</text>\n",
       "</g>\n",
       "<!-- 2 -->\n",
       "<g id=\"node2\" class=\"node\"><title>2</title>\n",
       "<text text-anchor=\"middle\" x=\"110.132\" y=\"-369\" font-family=\"Times,serif\" font-size=\"14.00\">2 (think)</text>\n",
       "</g>\n",
       "<!-- 0&#45;&gt;2 -->\n",
       "<g id=\"edge1\" class=\"edge\"><title>0&#45;&gt;2</title>\n",
       "<path fill=\"none\" stroke=\"black\" d=\"M110.132,-443.851C110.132,-431.725 110.132,-415.219 110.132,-401.319\"/>\n",
       "<polygon fill=\"black\" stroke=\"black\" points=\"113.632,-401.313 110.132,-391.313 106.632,-401.313 113.632,-401.313\"/>\n",
       "<text text-anchor=\"middle\" x=\"121.023\" y=\"-413.4\" font-family=\"Times,serif\" font-size=\"14.00\">null</text>\n",
       "</g>\n",
       "<!-- 1 -->\n",
       "<g id=\"node3\" class=\"node\"><title>1</title>\n",
       "<text text-anchor=\"middle\" x=\"77.1322\" y=\"-280.2\" font-family=\"Times,serif\" font-size=\"14.00\">1 (I)</text>\n",
       "</g>\n",
       "<!-- 2&#45;&gt;1 -->\n",
       "<g id=\"edge2\" class=\"edge\"><title>2&#45;&gt;1</title>\n",
       "<path fill=\"none\" stroke=\"black\" d=\"M100.266,-355.087C97.2902,-349.5 94.1841,-343.19 91.797,-337.2 88.6343,-329.264 85.8605,-320.391 83.6012,-312.262\"/>\n",
       "<polygon fill=\"black\" stroke=\"black\" points=\"86.9584,-311.267 81.0238,-302.49 80.1899,-313.052 86.9584,-311.267\"/>\n",
       "<text text-anchor=\"middle\" x=\"107.3\" y=\"-324.6\" font-family=\"Times,serif\" font-size=\"14.00\">nsubj</text>\n",
       "</g>\n",
       "<!-- 9 -->\n",
       "<g id=\"node4\" class=\"node\"><title>9</title>\n",
       "<text text-anchor=\"middle\" x=\"158.132\" y=\"-280.2\" font-family=\"Times,serif\" font-size=\"14.00\">9 (awful.)</text>\n",
       "</g>\n",
       "<!-- 2&#45;&gt;9 -->\n",
       "<g id=\"edge3\" class=\"edge\"><title>2&#45;&gt;9</title>\n",
       "<path fill=\"none\" stroke=\"black\" d=\"M119.615,-355.051C126.518,-342.568 135.988,-325.444 143.81,-311.3\"/>\n",
       "<polygon fill=\"black\" stroke=\"black\" points=\"146.892,-312.958 148.669,-302.513 140.766,-309.571 146.892,-312.958\"/>\n",
       "<text text-anchor=\"middle\" x=\"157.792\" y=\"-324.6\" font-family=\"Times,serif\" font-size=\"14.00\">ccomp</text>\n",
       "</g>\n",
       "<!-- 4 -->\n",
       "<g id=\"node6\" class=\"node\"><title>4</title>\n",
       "<text text-anchor=\"middle\" x=\"107.132\" y=\"-191.4\" font-family=\"Times,serif\" font-size=\"14.00\">4 (Hanks)</text>\n",
       "</g>\n",
       "<!-- 9&#45;&gt;4 -->\n",
       "<g id=\"edge8\" class=\"edge\"><title>9&#45;&gt;4</title>\n",
       "<path fill=\"none\" stroke=\"black\" d=\"M147.621,-266.366C144.142,-260.674 140.273,-254.281 136.797,-248.4 131.893,-240.103 126.638,-230.998 121.933,-222.767\"/>\n",
       "<polygon fill=\"black\" stroke=\"black\" points=\"124.893,-220.893 116.903,-213.935 118.81,-224.357 124.893,-220.893\"/>\n",
       "<text text-anchor=\"middle\" x=\"152.3\" y=\"-235.8\" font-family=\"Times,serif\" font-size=\"14.00\">nsubj</text>\n",
       "</g>\n",
       "<!-- 8 -->\n",
       "<g id=\"node10\" class=\"node\"><title>8</title>\n",
       "<text text-anchor=\"middle\" x=\"192.132\" y=\"-191.4\" font-family=\"Times,serif\" font-size=\"14.00\">8 (were)</text>\n",
       "</g>\n",
       "<!-- 9&#45;&gt;8 -->\n",
       "<g id=\"edge9\" class=\"edge\"><title>9&#45;&gt;8</title>\n",
       "<path fill=\"none\" stroke=\"black\" d=\"M164.85,-266.251C169.646,-254.006 176.192,-237.295 181.669,-223.311\"/>\n",
       "<polygon fill=\"black\" stroke=\"black\" points=\"185.04,-224.301 185.429,-213.713 178.523,-221.748 185.04,-224.301\"/>\n",
       "<text text-anchor=\"middle\" x=\"188.24\" y=\"-235.8\" font-family=\"Times,serif\" font-size=\"14.00\">dep</text>\n",
       "</g>\n",
       "<!-- 3 -->\n",
       "<g id=\"node5\" class=\"node\"><title>3</title>\n",
       "<text text-anchor=\"middle\" x=\"31.1322\" y=\"-102.6\" font-family=\"Times,serif\" font-size=\"14.00\">3 (Tom)</text>\n",
       "</g>\n",
       "<!-- 4&#45;&gt;3 -->\n",
       "<g id=\"edge6\" class=\"edge\"><title>4&#45;&gt;3</title>\n",
       "<path fill=\"none\" stroke=\"black\" d=\"M92.117,-177.451C80.8751,-164.612 65.334,-146.862 52.7542,-132.495\"/>\n",
       "<polygon fill=\"black\" stroke=\"black\" points=\"55.337,-130.131 46.1162,-124.913 50.0704,-134.743 55.337,-130.131\"/>\n",
       "<text text-anchor=\"middle\" x=\"83.1322\" y=\"-147\" font-family=\"Times,serif\" font-size=\"14.00\">nn</text>\n",
       "</g>\n",
       "<!-- 7 -->\n",
       "<g id=\"node7\" class=\"node\"><title>7</title>\n",
       "<text text-anchor=\"middle\" x=\"107.132\" y=\"-102.6\" font-family=\"Times,serif\" font-size=\"14.00\">7 (T)</text>\n",
       "</g>\n",
       "<!-- 4&#45;&gt;7 -->\n",
       "<g id=\"edge4\" class=\"edge\"><title>4&#45;&gt;7</title>\n",
       "<path fill=\"none\" stroke=\"black\" d=\"M107.132,-177.451C107.132,-165.325 107.132,-148.819 107.132,-134.919\"/>\n",
       "<polygon fill=\"black\" stroke=\"black\" points=\"110.632,-134.913 107.132,-124.913 103.632,-134.913 110.632,-134.913\"/>\n",
       "<text text-anchor=\"middle\" x=\"119.185\" y=\"-147\" font-family=\"Times,serif\" font-size=\"14.00\">conj</text>\n",
       "</g>\n",
       "<!-- 5 -->\n",
       "<g id=\"node8\" class=\"node\"><title>5</title>\n",
       "<text text-anchor=\"middle\" x=\"180.132\" y=\"-102.6\" font-family=\"Times,serif\" font-size=\"14.00\">5 (and)</text>\n",
       "</g>\n",
       "<!-- 4&#45;&gt;5 -->\n",
       "<g id=\"edge5\" class=\"edge\"><title>4&#45;&gt;5</title>\n",
       "<path fill=\"none\" stroke=\"black\" d=\"M121.555,-177.451C132.253,-164.73 147.004,-147.19 159.027,-132.895\"/>\n",
       "<polygon fill=\"black\" stroke=\"black\" points=\"161.982,-134.819 165.74,-124.913 156.625,-130.314 161.982,-134.819\"/>\n",
       "<text text-anchor=\"middle\" x=\"157.347\" y=\"-147\" font-family=\"Times,serif\" font-size=\"14.00\">cc</text>\n",
       "</g>\n",
       "<!-- 6 -->\n",
       "<g id=\"node9\" class=\"node\"><title>6</title>\n",
       "<text text-anchor=\"middle\" x=\"107.132\" y=\"-13.8\" font-family=\"Times,serif\" font-size=\"14.00\">6 (Mr.)</text>\n",
       "</g>\n",
       "<!-- 7&#45;&gt;6 -->\n",
       "<g id=\"edge7\" class=\"edge\"><title>7&#45;&gt;6</title>\n",
       "<path fill=\"none\" stroke=\"black\" d=\"M107.132,-88.6511C107.132,-76.5249 107.132,-60.019 107.132,-46.119\"/>\n",
       "<polygon fill=\"black\" stroke=\"black\" points=\"110.632,-46.1132 107.132,-36.1133 103.632,-46.1133 110.632,-46.1132\"/>\n",
       "<text text-anchor=\"middle\" x=\"114.132\" y=\"-58.2\" font-family=\"Times,serif\" font-size=\"14.00\">nn</text>\n",
       "</g>\n",
       "</g>\n",
       "</svg>\n"
      ],
      "text/plain": [
       "<DependencyGraph with 10 nodes>"
      ]
     },
     "execution_count": 30,
     "metadata": {},
     "output_type": "execute_result"
    }
   ],
   "source": [
    "dep_tree = mp.parse_tagged_sents([nltk.pos_tag('I think Tom Hanks and Mr. T were awful.'.split())])\n",
    "graph = next(next(iter(dep_tree)))\n",
    "graph"
   ]
  },
  {
   "cell_type": "markdown",
   "metadata": {
    "slideshow": {
     "slide_type": "slide"
    }
   },
   "source": [
    "# Topic Modelling\n",
    "\n",
    "### divide a corpus into topics based on distributional word usage"
   ]
  },
  {
   "cell_type": "markdown",
   "metadata": {
    "slideshow": {
     "slide_type": "fragment"
    }
   },
   "source": [
    "\n",
    "- topics are defined by how language is used, they don't necessarily correspond to what we think of topics"
   ]
  },
  {
   "cell_type": "markdown",
   "metadata": {
    "slideshow": {
     "slide_type": "subslide"
    }
   },
   "source": [
    "## distributional semantics\n",
    "\n",
    "<table>\n",
    "<tr><th>features</th><th colspan=7><center>features</center></th></tr>\n",
    "<tr><td></td> <td>0</td><td>1</td><td>2</td><td>3</td><td>4</td><td>5</td><td>6</td></tr>\n",
    "<tr><td>0</td> <td>0</td><td>0</td><td>0</td><td>0</td><td>0</td><td>0</td><td>0</td></tr>\n",
    "<tr><td>1</td> <td>0</td><td>0</td><td>0</td><td>0</td><td>0</td><td>0</td><td>0</td></tr>\n",
    "<tr><td>2</td> <td>0</td><td>0</td><td>0</td><td>0</td><td>0</td><td>0</td><td>0</td></tr>\n",
    "<tr><td>3</td> <td>0</td><td>0</td><td>0</td><td>0</td><td>0</td><td>0</td><td>0</td></tr>\n",
    "<tr><td>4</td> <td>0</td><td>0</td><td>0</td><td>0</td><td>0</td><td>0</td><td>0</td></tr>\n",
    "<tr><td>5</td> <td>0</td><td>0</td><td>0</td><td>0</td><td>0</td><td>0</td><td>0</td></tr>\n",
    "<tr><td>6</td> <td>0</td><td>0</td><td>0</td><td>0</td><td>0</td><td>0</td><td>0</td></tr>\n",
    "</table>"
   ]
  },
  {
   "cell_type": "code",
   "execution_count": 182,
   "metadata": {
    "collapsed": false,
    "slideshow": {
     "slide_type": "subslide"
    }
   },
   "outputs": [],
   "source": [
    "import re\n",
    "\n",
    "def keep_token(token, tag):\n",
    "    keep = re.search('(NN.*)|(VB.*)|(JJ)', tag) is not None\n",
    "    return keep\n",
    "\n",
    "# preprocessing\n",
    "with open(os.path.expanduser('~/Documents/PUB_nlp/lda.moviereviews.in.txt'), 'w') as out:\n",
    "    for fileid in corpus.movie_reviews.fileids():\n",
    "        pos_tagged_sents = nltk.pos_tag_sents(corpus.movie_reviews.sents(fileid))\n",
    "        words = ['{}/{}'.format(w, tag) for sent in pos_tagged_sents for w, tag in sent if keep_token(w, tag)]\n",
    "        out.write(' '.join(words))\n",
    "        out.write('\\n')"
   ]
  },
  {
   "cell_type": "code",
   "execution_count": 184,
   "metadata": {
    "collapsed": false,
    "slideshow": {
     "slide_type": "fragment"
    }
   },
   "outputs": [
    {
     "name": "stdout",
     "output_type": "stream",
     "text": [
      "    2000 /Volumes/LocalDataHD/ml249/Documents/PUB_nlp/lda.moviereviews.in.txt\r\n"
     ]
    }
   ],
   "source": [
    "# you can run shell commands in notebook - how awesome is that?\n",
    "!wc -l ~/Documents/PUB_nlp/lda.moviereviews.in.txt"
   ]
  },
  {
   "cell_type": "code",
   "execution_count": 185,
   "metadata": {
    "collapsed": false,
    "slideshow": {
     "slide_type": "subslide"
    }
   },
   "outputs": [
    {
     "name": "stdout",
     "output_type": "stream",
     "text": [
      "plot/NN teen/NNS couples/NNS go/VBP church/NN party/NN drink/VBP drive/JJ get/VBP accident/NN guys/NNS dies/VBZ girlfriend/NN continues/VBZ see/VB life/NN has/VBZ nightmares/NNS s/NNS deal/NN watch/NN movie/NN sorta/NN find/NN critique/NN mind/NN fuck/NN movie/NN teen/NN generation/NN touches/VBZ cool/JJ idea/NN presents/NNS bad/JJ package/NN is/VBZ makes/VBZ review/NN harder/JJR write/VB applaud/VBP films/NNS attempt/NN break/VB mold/NN mess/NN head/NN such/JJ (/NN lost/VBD highway/NN are/VBP good/JJ bad/JJ ways/NNS making/VBG types/NNS films/NNS folks/NNS didn/VBP t/NN snag/NN seem/VBP have/VB taken/VBN neat/JJ concept/NN executed/VBN are/VBP problems/NNS movie/NN main/JJ problem/NN is/VBZ s/NNS jumbled/VBN starts/VBZ normal/JJ \"/NN downshifts/VBZ \"/NN fantasy/NN world/NN audience/NN member/NN have/VBP idea/NN s/VBZ going/VBG are/VBP dreams/NNS are/VBP characters/NNS coming/VBG dead/JJ are/VBP others/NNS look/NN dead/JJ are/VBP strange/NN apparitions/NNS are/VBP disappearances/NNS are/VBP looooot/NN chase/NN scenes/NNS are/VBP tons/NNS weird/JJ things/NNS happen/VB most/JJS is/VBZ explained/VBN don/JJ t/NN mind/NN trying/VBG unravel/VB film/NN does/VBZ is/VBZ give/JJ me/NN same/JJ clue/NN get/VBP kind/JJ fed/JJ while/NN is/VBZ film/NN s/NNS biggest/JJS problem/NN s/NNS got/VBD big/JJ secret/NN hide/VB seems/VBZ want/VB hide/VB final/JJ minutes/NNS do/VBP make/VB things/NNS entertaining/VBG thrilling/VBG engaging/VBG meantime/NN sad/JJ part/NN is/VBZ arrow/NN dig/JJ flicks/NNS figured/VBD half/NN way/NN point/NN strangeness/NN did/VBD start/VB make/VB little/JJ bit/NN sense/NN didn/VBP t/NN make/NN film/NN entertaining/VBG guess/VBP bottom/NN line/NN movies/NNS is/VBZ make/VB sure/JJ audience/NN is/VBZ are/VBP given/VBN secret/NN password/NN enter/VB world/NN understanding/NN mean/VBP showing/VBG melissa/NN sagemiller/NN running/VBG visions/NNS minutes/NNS movie/NN is/VBZ lazy/JJ !/NN okay/NN get/VBP are/VBP people/NNS chasing/VBG don/VBP t/NN know/VB are/VBP do/VBP need/VBP see/VB giving/VBG different/JJ scenes/NNS offering/VBG further/JJ insight/NN strangeness/NN going/VBG movie/NN studio/NN took/VBD film/NN director/NN chopped/VBD shows/VBZ '/VB ve/JJ been/VBN decent/JJ teen/NN mind/NN fuck/NN movie/NN guess/VBP suits/NNS decided/VBD turning/VBG music/JJ video/NN little/JJ edge/NN make/VB sense/JJ actors/NNS are/VBP good/JJ most/JJS part/NN wes/NNS bentley/NN seemed/VBD be/VB playing/VBG exact/JJ same/NN character/NN did/VBD american/NN beauty/NN new/JJ neighborhood/NN biggest/NN kudos/NNS go/VBP sagemiller/VB holds/NNS her/VBP own/JJ entire/JJ film/NN has/VBZ feeling/VBG character/JJR s/NNS unraveling/VBG overall/JJ film/NN doesn/NN t/NN stick/NN doesn/VBP t/NN entertain/NN s/VBZ confusing/VBG excites/VBZ feels/VBZ redundant/JJ most/JJS runtime/NN cool/JJ ending/VBG explanation/NN craziness/NN came/VBD oh/NN way/NN is/VBZ horror/NN slasher/NN flick/NN s/NNS packaged/VBD look/VB way/NN someone/NN is/VBZ assuming/VBG genre/NN is/VBZ hot/JJ kids/NNS wrapped/VBD production/NN years/NNS has/VBZ been/VBN sitting/VBG shelves/NNS whatever/NN skip/NN s/NNS joblo/VBP coming/VBG nightmare/NN elm/NN street/NN blair/JJ witch/NN crow/NN crow/NN salvation/NN lost/VBD highway/NN others/NNS (/VBP stir/JJ echoes/NNS\r\n"
     ]
    }
   ],
   "source": [
    "# you can run shell commands in notebook - how awesome is that?\n",
    "!head -1 ~/Documents/PUB_nlp/lda.moviereviews.in.txt"
   ]
  },
  {
   "cell_type": "code",
   "execution_count": 186,
   "metadata": {
    "collapsed": false,
    "slideshow": {
     "slide_type": "subslide"
    }
   },
   "outputs": [],
   "source": [
    "import gensim\n",
    "\n",
    "# preprocess\n",
    "dictionary = gensim.corpora.Dictionary()\n",
    "with open(os.path.expanduser('~/Documents/PUB_nlp/lda.moviereviews.in.txt'), 'r') as fh:\n",
    "    bow_stream = (article.split(' ') for article in fh)\n",
    "    lda_corpus = (dictionary.doc2bow(bow, allow_update=True) for bow in bow_stream)\n",
    "    gensim.corpora.MmCorpus.serialize(os.path.expanduser('~/Documents/PUB_nlp/lda.moviereviews.in.mm'), lda_corpus)\n",
    "\n",
    "corpus = gensim.corpora.MmCorpus(os.path.expanduser('~/Documents/PUB_nlp/lda.moviereviews.in.mm'))"
   ]
  },
  {
   "cell_type": "code",
   "execution_count": 187,
   "metadata": {
    "collapsed": false,
    "slideshow": {
     "slide_type": "fragment"
    }
   },
   "outputs": [
    {
     "data": {
      "text/plain": [
       "[(35666, 'partisanship/NN'),\n",
       " (27560, 'dukakis/NNS'),\n",
       " (7091, 'investigated/VBN'),\n",
       " (22555, 'beefy/NN'),\n",
       " (37245, 'repugnant/JJ'),\n",
       " (42138, 'aboard/VBN'),\n",
       " (21205, 'smits/NNS'),\n",
       " (7574, 'sister/NN'),\n",
       " (6094, 'biggs/NNS'),\n",
       " (19769, 'impenetrable/JJ')]"
      ]
     },
     "execution_count": 187,
     "metadata": {},
     "output_type": "execute_result"
    }
   ],
   "source": [
    "list(dictionary.items())[:10]"
   ]
  },
  {
   "cell_type": "code",
   "execution_count": 188,
   "metadata": {
    "collapsed": false,
    "slideshow": {
     "slide_type": "fragment"
    }
   },
   "outputs": [],
   "source": [
    "# train a TFIDF model\n",
    "tfidf = gensim.models.TfidfModel(corpus=None, dictionary=dictionary)\n",
    "corpus_tfidf = tfidf[lda_corpus]"
   ]
  },
  {
   "cell_type": "code",
   "execution_count": 189,
   "metadata": {
    "collapsed": false,
    "slideshow": {
     "slide_type": "subslide"
    }
   },
   "outputs": [
    {
     "name": "stderr",
     "output_type": "stream",
     "text": [
      "WARNING:gensim.models.ldamodel:LdaModel.update() called with an empty corpus\n"
     ]
    },
    {
     "name": "stdout",
     "output_type": "stream",
     "text": [
      "2015-09-23 13:24:04\n",
      "2015-09-23 13:24:04\n"
     ]
    }
   ],
   "source": [
    "# train LDA model\n",
    "import pandas as pd\n",
    "print(pd.to_datetime('now'))\n",
    "lda = gensim.models.LdaModel(corpus=corpus_tfidf, id2word=dictionary,\n",
    "                             num_topics=30, chunksize=200, iterations=100)\n",
    "print(pd.to_datetime('now'))"
   ]
  },
  {
   "cell_type": "code",
   "execution_count": null,
   "metadata": {
    "collapsed": true,
    "slideshow": {
     "slide_type": "skip"
    }
   },
   "outputs": [],
   "source": [
    "import numpy as np\n",
    "from scipy import stats\n",
    "from IPython.display import display, HTML\n",
    "\n",
    "def topics_html(topics):\n",
    "    s = \"<table width=100%>\"\n",
    "    maxent = 0\n",
    "    words = set()\n",
    "    for i, topic in enumerate(topics):\n",
    "        phi = 0\n",
    "        s += \"<th colspan={}></th>\".format(len(topic))\n",
    "        s += \"<tr>\"\n",
    "        for prob, _ in topic:\n",
    "            s += \"<td><center><b>%.2e</b></center</td>\" % (prob)\n",
    "\n",
    "        s += \"</tr><tr>\"\n",
    "        for _, word in topic:\n",
    "            s += \"<td class=w_{0}><center><b>{0}</b> / {1}</center></td>\".format(*word.split('/'))\n",
    "            words.add(word.split('/')[0])\n",
    "        s += \"</tr>\"\n",
    "    s += \"</table>\"\n",
    "    css = \"<style>\" + \"\".join([\".w_%s:hover {background-color: #6f6f6f;}\" %w for w in words]) + \"</style>\"\n",
    "    return s, css"
   ]
  },
  {
   "cell_type": "code",
   "execution_count": 190,
   "metadata": {
    "collapsed": false,
    "scrolled": false,
    "slideshow": {
     "slide_type": "subslide"
    }
   },
   "outputs": [
    {
     "data": {
      "text/html": [
       "<style>.w_montoya:hover {background-color: #6f6f6f;}.w_dissenting:hover {background-color: #6f6f6f;}.w_wiseass:hover {background-color: #6f6f6f;}.w_sasha:hover {background-color: #6f6f6f;}.w_mckean:hover {background-color: #6f6f6f;}.w_immature:hover {background-color: #6f6f6f;}.w_capitalist:hover {background-color: #6f6f6f;}.w_arquette:hover {background-color: #6f6f6f;}.w_snappy:hover {background-color: #6f6f6f;}.w_bat:hover {background-color: #6f6f6f;}.w_understanding:hover {background-color: #6f6f6f;}.w_pollock:hover {background-color: #6f6f6f;}.w_waste:hover {background-color: #6f6f6f;}.w_place:hover {background-color: #6f6f6f;}.w_withering:hover {background-color: #6f6f6f;}.w_peet:hover {background-color: #6f6f6f;}.w_housekeeper:hover {background-color: #6f6f6f;}.w_kidnap:hover {background-color: #6f6f6f;}.w_cotterill:hover {background-color: #6f6f6f;}.w_ash:hover {background-color: #6f6f6f;}.w_different:hover {background-color: #6f6f6f;}.w_nightlife:hover {background-color: #6f6f6f;}.w_testifying:hover {background-color: #6f6f6f;}.w_bong:hover {background-color: #6f6f6f;}.w_hutchison:hover {background-color: #6f6f6f;}.w_cannibalism:hover {background-color: #6f6f6f;}.w_tennis:hover {background-color: #6f6f6f;}.w_offerings:hover {background-color: #6f6f6f;}.w_stoner:hover {background-color: #6f6f6f;}.w_unwelcome:hover {background-color: #6f6f6f;}.w_springsteen:hover {background-color: #6f6f6f;}.w_reasons:hover {background-color: #6f6f6f;}.w_thrust:hover {background-color: #6f6f6f;}.w_twist:hover {background-color: #6f6f6f;}.w_badalucco:hover {background-color: #6f6f6f;}.w_pedophilia:hover {background-color: #6f6f6f;}</style>"
      ],
      "text/plain": [
       "<IPython.core.display.HTML object>"
      ]
     },
     "metadata": {},
     "output_type": "display_data"
    },
    {
     "data": {
      "text/html": [
       "<table width=100%><th colspan=6></th><tr><td><center><b>2.72e-05</b></center</td><td><center><b>2.69e-05</b></center</td><td><center><b>2.63e-05</b></center</td><td><center><b>2.61e-05</b></center</td><td><center><b>2.61e-05</b></center</td><td><center><b>2.59e-05</b></center</td></tr><tr><td class=w_understanding><center><b>understanding</b> / VBG</center></td><td class=w_different><center><b>different</b> / NN\n",
       "</center></td><td class=w_sasha><center><b>sasha</b> / NN</center></td><td class=w_mckean><center><b>mckean</b> / JJ</center></td><td class=w_offerings><center><b>offerings</b> / NNS</center></td><td class=w_thrust><center><b>thrust</b> / JJ</center></td></tr><th colspan=6></th><tr><td><center><b>2.69e-05</b></center</td><td><center><b>2.60e-05</b></center</td><td><center><b>2.59e-05</b></center</td><td><center><b>2.59e-05</b></center</td><td><center><b>2.59e-05</b></center</td><td><center><b>2.56e-05</b></center</td></tr><tr><td class=w_arquette><center><b>arquette</b> / VBP</center></td><td class=w_unwelcome><center><b>unwelcome</b> / NN</center></td><td class=w_pedophilia><center><b>pedophilia</b> / NN</center></td><td class=w_dissenting><center><b>dissenting</b> / NN</center></td><td class=w_reasons><center><b>reasons</b> / VBZ</center></td><td class=w_snappy><center><b>snappy</b> / JJ</center></td></tr><th colspan=6></th><tr><td><center><b>2.78e-05</b></center</td><td><center><b>2.63e-05</b></center</td><td><center><b>2.60e-05</b></center</td><td><center><b>2.57e-05</b></center</td><td><center><b>2.57e-05</b></center</td><td><center><b>2.56e-05</b></center</td></tr><tr><td class=w_immature><center><b>immature</b> / NN</center></td><td class=w_waste><center><b>waste</b> / VB\n",
       "</center></td><td class=w_kidnap><center><b>kidnap</b> / VBP</center></td><td class=w_bong><center><b>bong</b> / JJ</center></td><td class=w_twist><center><b>twist</b> / VB</center></td><td class=w_peet><center><b>peet</b> / VBD</center></td></tr><th colspan=6></th><tr><td><center><b>2.68e-05</b></center</td><td><center><b>2.63e-05</b></center</td><td><center><b>2.62e-05</b></center</td><td><center><b>2.62e-05</b></center</td><td><center><b>2.61e-05</b></center</td><td><center><b>2.60e-05</b></center</td></tr><tr><td class=w_tennis><center><b>tennis</b> / NNS</center></td><td class=w_wiseass><center><b>wiseass</b> / NN</center></td><td class=w_testifying><center><b>testifying</b> / VBG</center></td><td class=w_housekeeper><center><b>housekeeper</b> / VBP</center></td><td class=w_nightlife><center><b>nightlife</b> / VBP</center></td><td class=w_place><center><b>place</b> / VB</center></td></tr><th colspan=6></th><tr><td><center><b>2.73e-05</b></center</td><td><center><b>2.65e-05</b></center</td><td><center><b>2.65e-05</b></center</td><td><center><b>2.63e-05</b></center</td><td><center><b>2.63e-05</b></center</td><td><center><b>2.62e-05</b></center</td></tr><tr><td class=w_badalucco><center><b>badalucco</b> / VBD</center></td><td class=w_montoya><center><b>montoya</b> / NN</center></td><td class=w_capitalist><center><b>capitalist</b> / NN</center></td><td class=w_withering><center><b>withering</b> / NN</center></td><td class=w_cannibalism><center><b>cannibalism</b> / VB</center></td><td class=w_hutchison><center><b>hutchison</b> / NN</center></td></tr><th colspan=6></th><tr><td><center><b>2.62e-05</b></center</td><td><center><b>2.58e-05</b></center</td><td><center><b>2.57e-05</b></center</td><td><center><b>2.57e-05</b></center</td><td><center><b>2.56e-05</b></center</td><td><center><b>2.56e-05</b></center</td></tr><tr><td class=w_springsteen><center><b>springsteen</b> / NN</center></td><td class=w_ash><center><b>ash</b> / NN</center></td><td class=w_pollock><center><b>pollock</b> / VB</center></td><td class=w_cotterill><center><b>cotterill</b> / NN</center></td><td class=w_stoner><center><b>stoner</b> / NN</center></td><td class=w_bat><center><b>bat</b> / NN</center></td></tr></table>"
      ],
      "text/plain": [
       "<IPython.core.display.HTML object>"
      ]
     },
     "execution_count": 190,
     "metadata": {},
     "output_type": "execute_result"
    }
   ],
   "source": [
    "s, css = topics_html(lda.show_topics(num_topics=6, num_words=6, formatted=False))\n",
    "display(HTML(css))\n",
    "h = HTML(s); h"
   ]
  },
  {
   "cell_type": "code",
   "execution_count": 196,
   "metadata": {
    "collapsed": true,
    "slideshow": {
     "slide_type": "subslide"
    }
   },
   "outputs": [],
   "source": [
    "lda_enwiki = LdaModel.load('enwiki/lda.gensim')"
   ]
  },
  {
   "cell_type": "code",
   "execution_count": 197,
   "metadata": {
    "collapsed": false,
    "scrolled": false,
    "slideshow": {
     "slide_type": "subslide"
    }
   },
   "outputs": [
    {
     "data": {
      "text/html": [
       "<style>.w_game:hover {background-color: #6f6f6f;}.w_aircraft:hover {background-color: #6f6f6f;}.w_law:hover {background-color: #6f6f6f;}.w_song:hover {background-color: #6f6f6f;}.w_bruce:hover {background-color: #6f6f6f;}.w_kuala_lumpur:hover {background-color: #6f6f6f;}.w_species:hover {background-color: #6f6f6f;}.w_liz:hover {background-color: #6f6f6f;}.w_wwe:hover {background-color: #6f6f6f;}.w_smackdown:hover {background-color: #6f6f6f;}.w_water:hover {background-color: #6f6f6f;}.w_people:hover {background-color: #6f6f6f;}.w_square:hover {background-color: #6f6f6f;}.w_amd:hover {background-color: #6f6f6f;}.w_conrad:hover {background-color: #6f6f6f;}.w_whistle:hover {background-color: #6f6f6f;}.w_porsche:hover {background-color: #6f6f6f;}.w_system:hover {background-color: #6f6f6f;}.w_season:hover {background-color: #6f6f6f;}.w_capcom:hover {background-color: #6f6f6f;}.w_use:hover {background-color: #6f6f6f;}.w_state:hover {background-color: #6f6f6f;}.w_wrestling:hover {background-color: #6f6f6f;}.w_router:hover {background-color: #6f6f6f;}.w_tyre:hover {background-color: #6f6f6f;}.w_band:hover {background-color: #6f6f6f;}.w_rand:hover {background-color: #6f6f6f;}.w_service:hover {background-color: #6f6f6f;}.w_→:hover {background-color: #6f6f6f;}.w_album:hover {background-color: #6f6f6f;}.w_city:hover {background-color: #6f6f6f;}.w_film:hover {background-color: #6f6f6f;}.w_government:hover {background-color: #6f6f6f;}</style>"
      ],
      "text/plain": [
       "<IPython.core.display.HTML object>"
      ]
     },
     "metadata": {},
     "output_type": "display_data"
    },
    {
     "data": {
      "text/html": [
       "<table width=100%><th colspan=6></th><tr><td><center><b>1.72e-02</b></center</td><td><center><b>1.36e-02</b></center</td><td><center><b>1.28e-02</b></center</td><td><center><b>1.23e-02</b></center</td><td><center><b>1.21e-02</b></center</td><td><center><b>1.19e-02</b></center</td></tr><tr><td class=w_router><center><b>router</b> / nn</center></td><td class=w_liz><center><b>liz</b> / nnp</center></td><td class=w_→><center><b>→</b> / nn</center></td><td class=w_whistle><center><b>whistle</b> / vbp</center></td><td class=w_amd><center><b>amd</b> / nnp</center></td><td class=w_conrad><center><b>conrad</b> / nnp</center></td></tr><th colspan=6></th><tr><td><center><b>1.59e-02</b></center</td><td><center><b>1.41e-02</b></center</td><td><center><b>1.18e-02</b></center</td><td><center><b>1.17e-02</b></center</td><td><center><b>1.15e-02</b></center</td><td><center><b>1.06e-02</b></center</td></tr><tr><td class=w_kuala_lumpur><center><b>kuala_lumpur</b> / nnp</center></td><td class=w_porsche><center><b>porsche</b> / nnp</center></td><td class=w_bruce><center><b>bruce</b> / nnp</center></td><td class=w_capcom><center><b>capcom</b> / nnp</center></td><td class=w_tyre><center><b>tyre</b> / nns</center></td><td class=w_rand><center><b>rand</b> / nnp</center></td></tr><th colspan=6></th><tr><td><center><b>2.50e-02</b></center</td><td><center><b>1.83e-02</b></center</td><td><center><b>1.55e-02</b></center</td><td><center><b>1.37e-02</b></center</td><td><center><b>1.19e-02</b></center</td><td><center><b>1.10e-02</b></center</td></tr><tr><td class=w_wwe><center><b>wwe</b> / nnp</center></td><td class=w_square><center><b>square</b> / nns</center></td><td class=w_wrestling><center><b>wrestling</b> / nnp</center></td><td class=w_smackdown><center><b>smackdown</b> / nnp</center></td><td class=w_wrestling><center><b>wrestling</b> / nn</center></td><td class=w_wrestling><center><b>wrestling</b> / nnp</center></td></tr><th colspan=6></th><tr><td><center><b>4.14e-03</b></center</td><td><center><b>2.89e-03</b></center</td><td><center><b>2.57e-03</b></center</td><td><center><b>2.38e-03</b></center</td><td><center><b>2.36e-03</b></center</td><td><center><b>2.34e-03</b></center</td></tr><tr><td class=w_use><center><b>use</b> / vbn</center></td><td class=w_system><center><b>system</b> / nn</center></td><td class=w_water><center><b>water</b> / nn</center></td><td class=w_species><center><b>species</b> / nns</center></td><td class=w_aircraft><center><b>aircraft</b> / nn</center></td><td class=w_use><center><b>use</b> / nn</center></td></tr><th colspan=6></th><tr><td><center><b>2.92e-03</b></center</td><td><center><b>2.70e-03</b></center</td><td><center><b>2.67e-03</b></center</td><td><center><b>2.06e-03</b></center</td><td><center><b>2.00e-03</b></center</td><td><center><b>1.95e-03</b></center</td></tr><tr><td class=w_city><center><b>city</b> / nn</center></td><td class=w_government><center><b>government</b> / nn</center></td><td class=w_state><center><b>state</b> / nn</center></td><td class=w_people><center><b>people</b> / nns</center></td><td class=w_law><center><b>law</b> / nn</center></td><td class=w_service><center><b>service</b> / nn</center></td></tr><th colspan=6></th><tr><td><center><b>4.99e-03</b></center</td><td><center><b>3.96e-03</b></center</td><td><center><b>3.33e-03</b></center</td><td><center><b>3.18e-03</b></center</td><td><center><b>3.11e-03</b></center</td><td><center><b>2.98e-03</b></center</td></tr><tr><td class=w_album><center><b>album</b> / nn</center></td><td class=w_film><center><b>film</b> / nn</center></td><td class=w_band><center><b>band</b> / nn</center></td><td class=w_season><center><b>season</b> / nn</center></td><td class=w_song><center><b>song</b> / nn</center></td><td class=w_game><center><b>game</b> / nn</center></td></tr></table>"
      ],
      "text/plain": [
       "<IPython.core.display.HTML object>"
      ]
     },
     "execution_count": 197,
     "metadata": {},
     "output_type": "execute_result"
    }
   ],
   "source": [
    "s, css = topics_html(lda_enwiki.show_topics(num_topics=6, num_words=6, formatted=False))\n",
    "display(HTML(css))\n",
    "h = HTML(s); h"
   ]
  },
  {
   "cell_type": "markdown",
   "metadata": {
    "slideshow": {
     "slide_type": "slide"
    }
   },
   "source": [
    "# Deep Learning\n",
    "\n",
    "### State of the art in distributional semantics, translation, text to speech\n",
    "\n",
    "#### Socher on Recurrent NNs for NLP\n",
    "- https://www.youtube.com/watch?v=tdLmf8t4oqM\n",
    "\n",
    "#### The Unreasonable Effectiveness of Recurrent Neural Networks\n",
    "- https://karpathy.github.io/2015/05/21/rnn-effectiveness/?utm_content=bufferdca1b&utm_medium=social&utm_source=facebook.com&utm_campaign=buffer\n",
    "- http://nbviewer.ipython.org/gist/yoavg/d76121dfde2618422139"
   ]
  },
  {
   "cell_type": "markdown",
   "metadata": {
    "slideshow": {
     "slide_type": "slide"
    }
   },
   "source": [
    "# NLP and Python\n",
    "\n",
    "- Matti Lyra\n",
    "- @mattilyra\n",
    "- m.lyra@sussex.ac.uk\n",
    "- https://github.com/mattilyra/PUB_nlp\n",
    "\n",
    "### Links\n",
    "- http://ntlk.org\n",
    "- http://nltk.org/book\n",
    "- http://www.radimrehurek.com/gensim\n",
    "- http://scikit-learn.org/stable/"
   ]
  }
 ],
 "metadata": {
  "celltoolbar": "Slideshow",
  "kernelspec": {
   "display_name": "Python 3",
   "language": "python",
   "name": "python3"
  },
  "language_info": {
   "codemirror_mode": {
    "name": "ipython",
    "version": 3
   },
   "file_extension": ".py",
   "mimetype": "text/x-python",
   "name": "python",
   "nbconvert_exporter": "python",
   "pygments_lexer": "ipython3",
   "version": "3.4.3"
  }
 },
 "nbformat": 4,
 "nbformat_minor": 0
}
